{
 "cells": [
  {
   "cell_type": "markdown",
   "id": "7161ce0b-9b64-4997-8d6b-e5d020121a88",
   "metadata": {},
   "source": [
    "# Phase 2 Project\n",
    "**Client:** Zillow Group, Inc"
   ]
  },
  {
   "cell_type": "markdown",
   "id": "6c5a3b40-a07f-4843-9d5b-9f683e91c99f",
   "metadata": {},
   "source": [
    "## Overview\n",
    "Zillow is an online real estate website that help home owners to buy, sell and rent homes. In order to give buyers and sellers a better idea of how much their homes should cost on the market, we will be using the dataset from King Country House Sales. The dataset has multiple potential attributes of a house that would justify a higher house price while others not as influencatial <br>\n",
    "**Result 1:**   <br>\n",
    "**Result 2:**   <br>"
   ]
  },
  {
   "cell_type": "markdown",
   "id": "b498821e-111d-4831-b16b-b86eef79ff34",
   "metadata": {},
   "source": [
    "## Business Understanding \n",
    "Our main variable we are looking at is price and how each independent attributes influnce the price. The other data points such as latitude and longitude will not be considered for this project. A model would be needed to let seller know how much their house can sell for and whether a house is overpriced for the given features. "
   ]
  },
  {
   "cell_type": "markdown",
   "id": "2e764444-967f-41ad-8d4d-0e3047e024d4",
   "metadata": {},
   "source": [
    "## Data Understanding\n",
    "Their are 30155 houses in the dataset with the following columns. The columns are to be seperate initially to prepare them to be added in the final model. SOme columns were changed to become eaiser to read or treated as categories for interpretation.\n",
    "\n",
    "The following columns and attributed that will be include are: <br>\n",
    "**Continuous Datatype:** 'sqft_living', 'sqft_lot', 'sqft_above', 'sqft_basement', 'sqft_garage', 'sqft_patio' <br>\n",
    "**Categorical Datatype:** 'bedrooms', 'bathrooms', 'floors', 'waterfront', 'greenbelt', 'nuisance', 'condition', 'view', 'grade', 'heat_source', 'sewer_system' <br>\n",
    "**Unused Attributes:** 'date', 'id', 'lat', 'long', 'address'<br>\n",
    "\n",
    "*After exploring the dataset, I decided to remove these attributes for the following reason.* <br>\n",
    "**sqft_above** - Similar or identical to sqft_living <br>\n",
    "**nuisance** - Evenly split with relatively little different if a house have a nuisance or doesnt have a nuisance <br>"
   ]
  },
  {
   "cell_type": "markdown",
   "id": "68bb37f1-b4e9-4168-91d0-892892794c16",
   "metadata": {},
   "source": [
    "Due to the fact that buying and selling houses have a lot of attributes, we need to pick the best correlating attributes to make an effective model. We compared means of 'Yes', 'No' columns to see whether there was a big enough difference between the two as well as grouping houses that are the exception so that the models and graphs aren't skewed "
   ]
  },
  {
   "cell_type": "markdown",
   "id": "d496fadc-8b13-45b6-8d47-d2f7e6da90a6",
   "metadata": {},
   "source": [
    "## Data Imports\n",
    "Imported libraries that were used in the project."
   ]
  },
  {
   "cell_type": "code",
   "execution_count": 1,
   "id": "6cd53937-c2c2-4f70-9a60-b91e84b50065",
   "metadata": {},
   "outputs": [],
   "source": [
    "import pandas as pd  \n",
    "import resources    # Has data_exploration, data_preperation and data_visualization\n",
    "import matplotlib.pyplot as plt\n",
    "import statsmodels.api as sm\n",
    "import numpy as np\n",
    "import scipy.stats as stats\n",
    "import warnings\n",
    "from itertools import combinations as cm    # \n",
    "warnings.filterwarnings(\"ignore\")    # Used to temporary silence warnings\n",
    "%matplotlib inline"
   ]
  },
  {
   "cell_type": "code",
   "execution_count": 2,
   "id": "7948b7b0-4d11-4323-844d-2e6bfcd0ea0d",
   "metadata": {},
   "outputs": [
    {
     "data": {
      "text/html": [
       "<div>\n",
       "<style scoped>\n",
       "    .dataframe tbody tr th:only-of-type {\n",
       "        vertical-align: middle;\n",
       "    }\n",
       "\n",
       "    .dataframe tbody tr th {\n",
       "        vertical-align: top;\n",
       "    }\n",
       "\n",
       "    .dataframe thead th {\n",
       "        text-align: right;\n",
       "    }\n",
       "</style>\n",
       "<table border=\"1\" class=\"dataframe\">\n",
       "  <thead>\n",
       "    <tr style=\"text-align: right;\">\n",
       "      <th></th>\n",
       "      <th>id</th>\n",
       "      <th>date</th>\n",
       "      <th>price</th>\n",
       "      <th>bedrooms</th>\n",
       "      <th>bathrooms</th>\n",
       "      <th>sqft_living</th>\n",
       "      <th>sqft_lot</th>\n",
       "      <th>floors</th>\n",
       "      <th>waterfront</th>\n",
       "      <th>greenbelt</th>\n",
       "      <th>...</th>\n",
       "      <th>sewer_system</th>\n",
       "      <th>sqft_above</th>\n",
       "      <th>sqft_basement</th>\n",
       "      <th>sqft_garage</th>\n",
       "      <th>sqft_patio</th>\n",
       "      <th>yr_built</th>\n",
       "      <th>yr_renovated</th>\n",
       "      <th>address</th>\n",
       "      <th>lat</th>\n",
       "      <th>long</th>\n",
       "    </tr>\n",
       "  </thead>\n",
       "  <tbody>\n",
       "    <tr>\n",
       "      <th>0</th>\n",
       "      <td>7399300360</td>\n",
       "      <td>5/24/2022</td>\n",
       "      <td>675000.0</td>\n",
       "      <td>4</td>\n",
       "      <td>1.0</td>\n",
       "      <td>1180</td>\n",
       "      <td>7140</td>\n",
       "      <td>1.0</td>\n",
       "      <td>NO</td>\n",
       "      <td>NO</td>\n",
       "      <td>...</td>\n",
       "      <td>PUBLIC</td>\n",
       "      <td>1180</td>\n",
       "      <td>0</td>\n",
       "      <td>0</td>\n",
       "      <td>40</td>\n",
       "      <td>1969</td>\n",
       "      <td>0</td>\n",
       "      <td>2102 Southeast 21st Court, Renton, Washington ...</td>\n",
       "      <td>47.461975</td>\n",
       "      <td>-122.19052</td>\n",
       "    </tr>\n",
       "    <tr>\n",
       "      <th>1</th>\n",
       "      <td>8910500230</td>\n",
       "      <td>12/13/2021</td>\n",
       "      <td>920000.0</td>\n",
       "      <td>5</td>\n",
       "      <td>2.5</td>\n",
       "      <td>2770</td>\n",
       "      <td>6703</td>\n",
       "      <td>1.0</td>\n",
       "      <td>NO</td>\n",
       "      <td>NO</td>\n",
       "      <td>...</td>\n",
       "      <td>PUBLIC</td>\n",
       "      <td>1570</td>\n",
       "      <td>1570</td>\n",
       "      <td>0</td>\n",
       "      <td>240</td>\n",
       "      <td>1950</td>\n",
       "      <td>0</td>\n",
       "      <td>11231 Greenwood Avenue North, Seattle, Washing...</td>\n",
       "      <td>47.711525</td>\n",
       "      <td>-122.35591</td>\n",
       "    </tr>\n",
       "    <tr>\n",
       "      <th>2</th>\n",
       "      <td>1180000275</td>\n",
       "      <td>9/29/2021</td>\n",
       "      <td>311000.0</td>\n",
       "      <td>6</td>\n",
       "      <td>2.0</td>\n",
       "      <td>2880</td>\n",
       "      <td>6156</td>\n",
       "      <td>1.0</td>\n",
       "      <td>NO</td>\n",
       "      <td>NO</td>\n",
       "      <td>...</td>\n",
       "      <td>PUBLIC</td>\n",
       "      <td>1580</td>\n",
       "      <td>1580</td>\n",
       "      <td>0</td>\n",
       "      <td>0</td>\n",
       "      <td>1956</td>\n",
       "      <td>0</td>\n",
       "      <td>8504 South 113th Street, Seattle, Washington 9...</td>\n",
       "      <td>47.502045</td>\n",
       "      <td>-122.22520</td>\n",
       "    </tr>\n",
       "    <tr>\n",
       "      <th>3</th>\n",
       "      <td>1604601802</td>\n",
       "      <td>12/14/2021</td>\n",
       "      <td>775000.0</td>\n",
       "      <td>3</td>\n",
       "      <td>3.0</td>\n",
       "      <td>2160</td>\n",
       "      <td>1400</td>\n",
       "      <td>2.0</td>\n",
       "      <td>NO</td>\n",
       "      <td>NO</td>\n",
       "      <td>...</td>\n",
       "      <td>PUBLIC</td>\n",
       "      <td>1090</td>\n",
       "      <td>1070</td>\n",
       "      <td>200</td>\n",
       "      <td>270</td>\n",
       "      <td>2010</td>\n",
       "      <td>0</td>\n",
       "      <td>4079 Letitia Avenue South, Seattle, Washington...</td>\n",
       "      <td>47.566110</td>\n",
       "      <td>-122.29020</td>\n",
       "    </tr>\n",
       "    <tr>\n",
       "      <th>4</th>\n",
       "      <td>8562780790</td>\n",
       "      <td>8/24/2021</td>\n",
       "      <td>592500.0</td>\n",
       "      <td>2</td>\n",
       "      <td>2.0</td>\n",
       "      <td>1120</td>\n",
       "      <td>758</td>\n",
       "      <td>2.0</td>\n",
       "      <td>NO</td>\n",
       "      <td>NO</td>\n",
       "      <td>...</td>\n",
       "      <td>PUBLIC</td>\n",
       "      <td>1120</td>\n",
       "      <td>550</td>\n",
       "      <td>550</td>\n",
       "      <td>30</td>\n",
       "      <td>2012</td>\n",
       "      <td>0</td>\n",
       "      <td>2193 Northwest Talus Drive, Issaquah, Washingt...</td>\n",
       "      <td>47.532470</td>\n",
       "      <td>-122.07188</td>\n",
       "    </tr>\n",
       "  </tbody>\n",
       "</table>\n",
       "<p>5 rows × 25 columns</p>\n",
       "</div>"
      ],
      "text/plain": [
       "           id        date     price  bedrooms  bathrooms  sqft_living  \\\n",
       "0  7399300360   5/24/2022  675000.0         4        1.0         1180   \n",
       "1  8910500230  12/13/2021  920000.0         5        2.5         2770   \n",
       "2  1180000275   9/29/2021  311000.0         6        2.0         2880   \n",
       "3  1604601802  12/14/2021  775000.0         3        3.0         2160   \n",
       "4  8562780790   8/24/2021  592500.0         2        2.0         1120   \n",
       "\n",
       "   sqft_lot  floors waterfront greenbelt  ... sewer_system sqft_above  \\\n",
       "0      7140     1.0         NO        NO  ...       PUBLIC       1180   \n",
       "1      6703     1.0         NO        NO  ...       PUBLIC       1570   \n",
       "2      6156     1.0         NO        NO  ...       PUBLIC       1580   \n",
       "3      1400     2.0         NO        NO  ...       PUBLIC       1090   \n",
       "4       758     2.0         NO        NO  ...       PUBLIC       1120   \n",
       "\n",
       "  sqft_basement sqft_garage sqft_patio yr_built  yr_renovated  \\\n",
       "0             0           0         40     1969             0   \n",
       "1          1570           0        240     1950             0   \n",
       "2          1580           0          0     1956             0   \n",
       "3          1070         200        270     2010             0   \n",
       "4           550         550         30     2012             0   \n",
       "\n",
       "                                             address        lat       long  \n",
       "0  2102 Southeast 21st Court, Renton, Washington ...  47.461975 -122.19052  \n",
       "1  11231 Greenwood Avenue North, Seattle, Washing...  47.711525 -122.35591  \n",
       "2  8504 South 113th Street, Seattle, Washington 9...  47.502045 -122.22520  \n",
       "3  4079 Letitia Avenue South, Seattle, Washington...  47.566110 -122.29020  \n",
       "4  2193 Northwest Talus Drive, Issaquah, Washingt...  47.532470 -122.07188  \n",
       "\n",
       "[5 rows x 25 columns]"
      ]
     },
     "execution_count": 2,
     "metadata": {},
     "output_type": "execute_result"
    }
   ],
   "source": [
    "df = pd.read_csv('dsc-phase-2-project-v2-5-main/data/kc_house_data.csv')    #Read the file\n",
    "df.head()"
   ]
  },
  {
   "cell_type": "markdown",
   "id": "2c90c3e4-36c5-415b-a4d2-f7959d259eda",
   "metadata": {},
   "source": [
    "## Data Preperation \n",
    "Before I can create a model with all of the given parameter, I need to prepare the categorical data and remove outliers. "
   ]
  },
  {
   "cell_type": "code",
   "execution_count": 3,
   "id": "81dc6187-ec2b-4480-8251-1f03cbd8fe65",
   "metadata": {},
   "outputs": [],
   "source": [
    "## Setup for columns and subsets\n",
    "useful_col = ['price', 'bedrooms', 'bathrooms', 'sqft_living', 'sqft_lot', 'floors', 'waterfront'\n",
    "              , 'greenbelt', 'view', 'condition', 'grade', 'heat_source', 'sewer_system'\n",
    "              , 'sqft_basement', 'sqft_garage', 'sqft_patio', 'nuisance', 'sqft_above','yr_built' ]\n",
    "\n",
    "useless_col = ['date', 'id', 'lat', 'long', 'address']\n",
    "categorical = [ 'bedrooms', 'bathrooms', 'floors', 'waterfront', 'greenbelt',\n",
    "               'view', 'condition', 'grade', 'heat_source', 'sewer_system']\n",
    "object_categories = ['waterfront', 'greenbelt', 'view', 'condition', 'heat_source', 'sewer_system']\n",
    "continuous = [column for column in useful_col if column not in categorical] # 'price','sqft_living', 'sqft_lot', \n",
    "                                                                            # 'sqft_basement', 'sqft_garage', 'sqft_patio'"
   ]
  },
  {
   "cell_type": "markdown",
   "id": "8258da0a-1eec-47de-a798-25f2607286b2",
   "metadata": {},
   "source": [
    "### Data Cleaning - Overall Cleaning\n",
    "1. Remove missing values\n",
    "2. Remove duplicates\n",
    "3. Remove unused columns\n",
    "4. Rename grade"
   ]
  },
  {
   "cell_type": "code",
   "execution_count": 5,
   "id": "67885c27-5f76-43be-9e33-3b590327374e",
   "metadata": {},
   "outputs": [
    {
     "name": "stdout",
     "output_type": "stream",
     "text": [
      "Number of Missing Values: 46\n",
      "Dropping rows: heat_source\n",
      "Dropping rows: sewer_system\n",
      "Number of Missing Values: 0\n",
      "Number of duplicates: 1\n",
      "Removed 1 duplicates\n",
      "Number of duplicates: 0\n",
      "1214 observations were removed. \n"
     ]
    }
   ],
   "source": [
    "df_cleaned = resources.dp.check_and_drop(df)    ## Dropped and removed rows that has small amount of missing values\n",
    "df_cleaned = resources.dp.outliers_remove(df_cleaned, 'price')    ## Remove outliers of price\n",
    "df_cleaned.drop(labels = useless_col, axis = 1, inplace = True)    # Drop columns that wont be useful right now\n",
    "\n",
    "df_cleaned['relative_age'] = df_cleaned['yr_built'].max() - df_cleaned['yr_renovated']\n",
    "df_cleaned['relative_age'].loc[df_cleaned['relative_age'] == 2022] = df_cleaned['yr_built'].max() - df_cleaned['yr_built']\n",
    "df_cleaned['yr_built'] = df_cleaned['yr_built'] - df_cleaned['yr_built'].min() \n",
    "## Map dictionary to change the strings in integer. \n",
    "grade_map = {'7 Average': 7, '8 Good': 8, '9 Better': 9, '6 Low Average': 6, '10 Very Good': 10, '5 Fair': 5, \n",
    "             '11 Excellent': 11, '4 Low': 4, '12 Luxury':12, '3 Poor': 3, '13 Mansion': 13, '2 Substandard' : 2}\n",
    "df_cleaned.replace(grade_map, inplace= True)"
   ]
  },
  {
   "cell_type": "code",
   "execution_count": 7,
   "id": "f915cada-0ea7-449b-a515-85e7049d1127",
   "metadata": {},
   "outputs": [
    {
     "data": {
      "text/plain": [
       "('sqft_living', 0.6019551412003955)"
      ]
     },
     "execution_count": 7,
     "metadata": {},
     "output_type": "execute_result"
    }
   ],
   "source": [
    "### General setup that prepares for the modeling\n",
    "columns = [column for column in df_cleaned.columns if (column != 'grade') and (column != 'price')]\n",
    "df_w_dummies = pd.get_dummies(df_cleaned, drop_first= True)\n",
    "best_corr = resources.dp.correlation_with(df_w_dummies, 'price')    ## Helper function that return the variables that correlate to a given column and return them as a list\n",
    "best_corr[0]    ## The best correlating parameter"
   ]
  },
  {
   "cell_type": "markdown",
   "id": "5f62d99c-32c5-4a47-9003-84b6cbfcc2d5",
   "metadata": {},
   "source": [
    "## Baseline Model"
   ]
  },
  {
   "cell_type": "code",
   "execution_count": 8,
   "id": "b6edab65-8c1c-47ae-9d78-47bf8c9ec4f5",
   "metadata": {},
   "outputs": [
    {
     "data": {
      "image/png": "[encoded data removed]",
      "text/plain": [
       "<Figure size 700x500 with 1 Axes>"
      ]
     },
     "metadata": {},
     "output_type": "display_data"
    }
   ],
   "source": [
    "resources.cc.plot_dataframe(df_w_dummies[['sqft_living']],  df_w_dummies[['price']],df_w_dummies['price'].mean());"
   ]
  },
  {
   "cell_type": "markdown",
   "id": "fade1e8e-934e-464b-b915-2bcbfdcb59fe",
   "metadata": {
    "tags": []
   },
   "source": [
    "## First Model"
   ]
  },
  {
   "cell_type": "markdown",
   "id": "739ee584-793a-4a9c-be33-d5c12473f23c",
   "metadata": {
    "tags": []
   },
   "source": [
    "### Model - Square Feet of Living \n",
    "The first model has only the square feet of living since it has the highest correlation to the price. "
   ]
  },
  {
   "cell_type": "code",
   "execution_count": null,
   "id": "9240c018-980b-414b-b8ee-7a65b774f733",
   "metadata": {},
   "outputs": [],
   "source": [
    "X = df_w_dummies['sqft_living']    #One variable \n",
    "y = df_w_dummies['price']    # Always with price as dependent\n",
    "model_living = sm.OLS(y, sm.add_constant(X))\n",
    "result_living = model_living.fit()\n",
    "print(result_living.summary())"
   ]
  },
  {
   "cell_type": "markdown",
   "id": "2bcbfb53-3a5c-41c6-a969-7c8250d6d22d",
   "metadata": {
    "tags": []
   },
   "source": [
    "### Regression Plot "
   ]
  },
  {
   "cell_type": "code",
   "execution_count": null,
   "id": "a8f1c6b8-140e-4288-b70f-377ba03207d1",
   "metadata": {},
   "outputs": [],
   "source": [
    "### Graph the scatter plot and the regression plot along the same plot\n",
    "fig, ax = plt.subplots(ncols=2, figsize = (15,5))\n",
    "\n",
    "ax[0].scatter(df_w_dummies['sqft_living'], df_w_dummies['price'], alpha = .7, color = 'green')\n",
    "ax[0].set_ylabel('Price')\n",
    "ax[0].set_xlabel('Square Foot of Living')\n",
    "\n",
    "ax[0].set_title('Square Foot of Living vs Price')\n",
    "y_ticks = np.arange(0,3000000, 250000)\n",
    "y_ticks_str = ['${:,}'.format(y) for y in y_ticks]\n",
    "ax[0].set_yticks(np.arange(0,3000000, 250000));\n",
    "ax[0].set_yticklabels(y_ticks_str);\n",
    "\n",
    "fig_1 = sm.graphics.abline_plot(model_results= result_living, ax = ax[0], color = 'red', label = '{} * sqft + {}'.format(round(result_living.params[1]), \n",
    "                                                                                                                      round(result_living.params[0])))\n",
    "ax[0].legend();\n",
    "fig_1_res = sm.graphics.qqplot(result_living.resid, dist=stats.norm, line='45', fit=True, ax= ax[1])"
   ]
  },
  {
   "cell_type": "markdown",
   "id": "e23f1051-67e8-4653-89c0-da44dbf78e56",
   "metadata": {
    "jp-MarkdownHeadingCollapsed": true,
    "tags": []
   },
   "source": [
    "### Model Exvaluation\n",
    "**The given states that the starting cost of a house is $260,974 and for every square foot of living space a house has, the price increases by 355.** <br>\n",
    "\n",
    "Our first model can explain **36.2%** of the variance of price with the parameter, sqft_living. sqft_living is statistically significant having a p-value less than .05. <br>\n",
    "The single parameter perform well but we will try to see whether a combination of parameter can make the model better."
   ]
  },
  {
   "cell_type": "markdown",
   "id": "144c215a-187b-41dd-aa69-38df739703d8",
   "metadata": {},
   "source": [
    "## Second Model\n",
    "For the second model, we will be adding the second highest correlation with price. Grade had the second and is a numerical category data. "
   ]
  },
  {
   "cell_type": "markdown",
   "id": "e2b3b783-a88c-42a6-a875-d0654f08c97f",
   "metadata": {},
   "source": [
    "### Model - (result_living_grade)"
   ]
  },
  {
   "cell_type": "code",
   "execution_count": null,
   "id": "c1d00bff-0d66-45c7-b731-59a48a100dc7",
   "metadata": {},
   "outputs": [],
   "source": [
    "X = df_w_dummies[[ 'sqft_living', 'grade']]\n",
    "y = df_w_dummies['price']\n",
    "model_living_grade = sm.OLS(y, sm.add_constant(X))\n",
    "result_living_grade = model_living_grade.fit()\n",
    "print(result_living_grade.summary())\n",
    "print(result_living_grade.params)"
   ]
  },
  {
   "cell_type": "code",
   "execution_count": null,
   "id": "597df492-f2f3-42bb-8f13-b66e3e5b1d53",
   "metadata": {},
   "outputs": [],
   "source": [
    "fig = plt.figure(figsize=(15,5));\n",
    "sm.graphics.plot_partregress_grid(result_living_grade, exog_idx=[\"sqft_living\", \"grade\"], fig= fig);\n",
    "plt.tight_layout();"
   ]
  },
  {
   "cell_type": "markdown",
   "id": "bbc68a38-07a0-4be0-a556-b301ecc7800d",
   "metadata": {},
   "source": [
    "### Model Evaluation\n",
    "**The new model states that a price of a house starts with -626,890 and for every every square foot of living increase the price by 231. Alternatively, for every grade a house has, the price is expected to increase by 150,702.** <br>\n",
    "\n",
    "Our new model now explain **41.8%** of the variance of the price with sqft_living and grade. Both sqft_living and grade are statistically significant with p-values less than .05. <br> \n",
    "This model make sense since a house with nothing, living space or grade has no value which is why the constant is negative. Square foot have an effect to the price but not as high as grade. Grade refer back to how the house well the house was built. Grade seems more impactful since they only range from 1-13 and both seems to positvitly effect the price of the house \n"
   ]
  },
  {
   "cell_type": "markdown",
   "id": "5f3466fe-9f0e-4223-af87-1ab9900ecc74",
   "metadata": {},
   "source": [
    "## Third Model"
   ]
  },
  {
   "cell_type": "code",
   "execution_count": null,
   "id": "8dc3ee09-2076-496f-b26e-db9258aff244",
   "metadata": {},
   "outputs": [],
   "source": [
    "X = df_w_dummies[[ 'sqft_living', 'grade', 'sqft_garage']]\n",
    "y = df_w_dummies['price']\n",
    "model_liv_gra_bath = sm.OLS(y, sm.add_constant(X))\n",
    "result_liv_gra_bath = model_liv_gra_bath.fit()\n",
    "print(result_liv_gra_bath.summary())\n",
    "print(result_liv_gra_bath.params)"
   ]
  },
  {
   "cell_type": "code",
   "execution_count": null,
   "id": "620e8bfe-8769-4666-a177-ddf0a74cbe68",
   "metadata": {},
   "outputs": [],
   "source": [
    "fig = plt.figure(figsize=(15,10));\n",
    "sm.graphics.plot_partregress_grid(result_liv_gra_bath, exog_idx=[\"sqft_living\", \"grade\", 'sqft_garage'], fig= fig);\n",
    "plt.tight_layout();"
   ]
  },
  {
   "cell_type": "markdown",
   "id": "34fde85c-c7fc-486e-9bc4-2a4ff7d4eb53",
   "metadata": {},
   "source": [
    "### Model Evaluation\n",
    "Even though the bathrooms are statically significant, the parameter had no impact on the R squared and didn't appear to have a linear relationship with price when the partial regression was plotted. <br> Therefore, **bathrooms will be excluded in the final model.** <br>\n",
    "This seems to be reasonable since the bathrooms doesn't seems to impact the quality of the house which seems to be the current strongest correlation to price. \n"
   ]
  },
  {
   "cell_type": "markdown",
   "id": "011d52e4-4777-4efe-8781-9d13d52641a4",
   "metadata": {},
   "source": [
    "## Extra Plots - Potentially significant\n",
    "Although it is hard to interpret categorical variables, I was able to make some conclusion to have them included in the final model. <br> \n",
    "**Results**: The mean price of a house with or without nuisance are negilable while a house being at a waterfront or greenbelt has a significant difference. "
   ]
  },
  {
   "cell_type": "code",
   "execution_count": null,
   "id": "eff8c0c2-1002-4f0f-8f1f-42a8fdec488e",
   "metadata": {},
   "outputs": [],
   "source": [
    "group_waterfront = df_cleaned[['waterfront', 'price']].groupby('waterfront').mean().values\n",
    "x_group1 = [value[0] for value in group_waterfront.tolist()]\n",
    "group_greenbelt = df_cleaned[['greenbelt', 'price']].groupby('greenbelt').mean().values\n",
    "x_group2 = [value[0] for value in group_greenbelt.tolist()]\n",
    "group_nuisance = df_cleaned[['nuisance', 'price']].groupby('nuisance').mean().values\n",
    "x_group3 = [value[0] for value in group_nuisance.tolist()]"
   ]
  },
  {
   "cell_type": "code",
   "execution_count": null,
   "id": "a566436d-224e-46c2-b0c1-f5af5b900619",
   "metadata": {},
   "outputs": [],
   "source": [
    "fig, ax = plt.subplots(figsize = (7, 7));    # Setup for plotting \n",
    "label = ['waterfront', 'greenbelt', 'nuisance']    #Labels for the legend and labels\n",
    "r = np.arange(2)    # Spacing for the bar plots\n",
    "width = 2    # Basic width of each bar\n",
    "index = 0    # Index through all the groups\n",
    "\n",
    "### Plot each of the groups side by side for clarity\n",
    "for group in [x_group1, x_group2, x_group3]:\n",
    "    ax.bar(r + width * index, group, label = '{} - Difference: {:,}'.format(label[index], abs(round(group[1]-group[0]))));\n",
    "    index += 1\n",
    "### Ticks labeling and spacing \n",
    "x_ticks = np.arange(6)    \n",
    "y_ticks = np.arange(0,1750000, 250000)\n",
    "y_ticks_str = ['${:,}'.format(y) for y in y_ticks]\n",
    "\n",
    "plt.title('Categorical Mean Comparison');\n",
    "plt.xlabel('Category')\n",
    "plt.ylabel('Mean Price');\n",
    "plt.xticks(x_ticks, ['No','Yes','No','Yes','No','Yes']);\n",
    "\n",
    "ax.set_yticks(np.arange(0,1750000, 250000));\n",
    "ax.set_yticklabels(y_ticks_str);\n",
    "\n",
    "plt.legend(loc = 'lower right');"
   ]
  },
  {
   "cell_type": "markdown",
   "id": "42ae3cc7-c4f8-4d22-ac16-61d810b1eed3",
   "metadata": {},
   "source": [
    "# Final Model\n",
    "The final model will only have the following pararmeters: <br>\n",
    "**'sqft_living', 'grade', 'sqft_garage', 'waterfront', 'greenbelt', 'yr_built'** <br>\n"
   ]
  },
  {
   "cell_type": "code",
   "execution_count": null,
   "id": "7dc9b443-372e-4b34-8f41-905b96b2ac56",
   "metadata": {},
   "outputs": [],
   "source": [
    "X = df_w_dummies[[ 'sqft_living', 'greenbelt_YES', 'waterfront_YES',  'yr_built','grade']]\n",
    "y = df_w_dummies['price']\n",
    "model_liv_gra_gar = sm.OLS(y, sm.add_constant(X))\n",
    "result_liv_gra_gar = model_liv_gra_gar.fit()\n",
    "print(result_liv_gra_gar.summary())"
   ]
  },
  {
   "cell_type": "code",
   "execution_count": null,
   "id": "53cd5186-3409-449c-bf70-a3780063099d",
   "metadata": {},
   "outputs": [],
   "source": [
    "fig = plt.figure(figsize=(15,15));\n",
    "sm.graphics.plot_partregress_grid(result_liv_gra_gar, exog_idx=[ 'sqft_living', 'grade', 'greenbelt_YES', 'waterfront_YES','yr_built'], fig= fig);\n",
    "plt.tight_layout();"
   ]
  },
  {
   "cell_type": "markdown",
   "id": "3174cf7c-78bb-4310-bf6c-b9d684f09082",
   "metadata": {},
   "source": [
    "## 'Best' Model"
   ]
  },
  {
   "cell_type": "code",
   "execution_count": null,
   "id": "a7818f8c-a630-4504-8215-166ff0639777",
   "metadata": {},
   "outputs": [],
   "source": [
    "df_dummy = pd.get_dummies(df_cleaned, drop_first= True)"
   ]
  },
  {
   "cell_type": "code",
   "execution_count": null,
   "id": "7e54e562-d25f-4d39-ba97-17a702ad365a",
   "metadata": {},
   "outputs": [],
   "source": [
    "#3. 'sqft_living', 'grade', 'bedrooms', 'bathrooms','sqft_patio','sqft_garage', 'sqft_basement','relative_age'\n",
    "X = df_dummy[['bedrooms', 'bathrooms', 'sqft_living', 'sqft_lot', 'floors',\n",
    "       'grade', 'sqft_above', 'sqft_basement', 'sqft_garage', 'sqft_patio',\n",
    "       'yr_built', 'yr_renovated', 'relative_age',\n",
    "       'waterfront_YES', 'greenbelt_YES', 'nuisance_YES', 'view_EXCELLENT',\n",
    "       'view_FAIR', 'view_GOOD', 'view_NONE', 'condition_Fair',\n",
    "       'condition_Good', 'condition_Poor', 'condition_Very Good',\n",
    "       'heat_source_Electricity/Solar', 'heat_source_Gas',\n",
    "       'heat_source_Gas/Solar', 'heat_source_Oil', 'heat_source_Oil/Solar',\n",
    "       'heat_source_Other', 'sewer_system_PRIVATE RESTRICTED',\n",
    "       'sewer_system_PUBLIC', 'sewer_system_PUBLIC RESTRICTED']]\n",
    "y = df_dummy['price']\n",
    "model_dum_1 = sm.OLS(y, sm.add_constant(X))\n",
    "result_dum_1 = model_dum_1.fit()\n",
    "print(result_dum_1.summary())"
   ]
  },
  {
   "cell_type": "code",
   "execution_count": null,
   "id": "0613ec8c-2bb5-427e-9892-a6c2fef878a1",
   "metadata": {},
   "outputs": [],
   "source": [
    "## All categories and the number of times they appear\n",
    "df_other = df_cleaned.copy()\n",
    "for column in ['view', 'condition','heat_source', 'sewer_system']:\n",
    "    replace = df_other[column].value_counts()[df_other[column].value_counts()< 300].index\n",
    "    df_other[column].replace(replace, value= 'other',inplace= True)\n",
    "df_dummy_2 = pd.get_dummies(df_other, drop_first= True)"
   ]
  },
  {
   "cell_type": "code",
   "execution_count": null,
   "id": "be1634db-2341-4b74-aeca-76a0908746c3",
   "metadata": {},
   "outputs": [],
   "source": [
    "#3. 'sqft_living', 'grade', 'bedrooms', 'bathrooms','sqft_patio','sqft_garage', 'sqft_basement','relative_age'\n",
    "X = df_dummy_2[['bedrooms', 'bathrooms', 'sqft_living',\n",
    "       'grade', 'sqft_above', 'sqft_basement', 'sqft_garage', 'sqft_patio',\n",
    "        'yr_renovated', 'relative_age',\n",
    "       'waterfront_YES', 'greenbelt_YES',\n",
    "       'condition_Good','condition_Very Good',\n",
    "       'sewer_system_PUBLIC' ]]\n",
    "y = df_dummy_2['price']\n",
    "model_dum_3 = sm.OLS(y, sm.add_constant(X))\n",
    "result_dum_3 = model_dum_3.fit()\n",
    "print(result_dum_3.summary())"
   ]
  },
  {
   "cell_type": "code",
   "execution_count": null,
   "id": "725835f1-4e36-480e-b3bb-5479155e9c2d",
   "metadata": {},
   "outputs": [],
   "source": [
    "df_final = df_dummy_2.copy()\n",
    "#replace = df_final['grade'].value_counts()[df_final['grade'].value_counts()< 300].index\n",
    "#df_final['grade'].replace(replace, value= -1,inplace= True)\n",
    "df_final['grade'] = df_final['grade'].astype(str)\n",
    "df_final_dummies = pd.get_dummies(df_final, columns= ['grade'], drop_first= True)"
   ]
  },
  {
   "cell_type": "code",
   "execution_count": null,
   "id": "4679b19b-3f51-4f97-9d17-b61c39259e6b",
   "metadata": {},
   "outputs": [],
   "source": [
    "for level in [2,4,5,6,7,8,9,12,13]:\n",
    "    df_final_dummies['grade{}*living'.format(level)] = df_final_dummies['grade_{}'.format(level)] * df_final_dummies['sqft_living']"
   ]
  },
  {
   "cell_type": "code",
   "execution_count": null,
   "id": "523b825b-21b7-46d8-84b2-3842d0a36138",
   "metadata": {},
   "outputs": [],
   "source": [
    "df_final_dummies.columns[1:]"
   ]
  },
  {
   "cell_type": "code",
   "execution_count": null,
   "id": "9ef84803-3410-4c32-a7d0-31a8f7d61a8f",
   "metadata": {},
   "outputs": [],
   "source": [
    "X = df_final_dummies[df_final_dummies.columns[1:]]\n",
    "y = df_final_dummies['price']\n",
    "model_final_dummies = sm.OLS(y, sm.add_constant(X))\n",
    "results_final_dummies = model_final_dummies.fit()\n",
    "print(results_final_dummies.summary())"
   ]
  },
  {
   "cell_type": "code",
   "execution_count": null,
   "id": "e2c519b7-859f-4726-8042-502274bc1a64",
   "metadata": {},
   "outputs": [],
   "source": [
    "fig = plt.figure(figsize=(15,15));\n",
    "sm.graphics.plot_partregress_grid(results_final_dummies, exog_idx=['sqft_living','waterfront_YES', 'greenbelt_YES', 'grade9*living','grade_9','yr_built' ], fig= fig);\n",
    "plt.tight_layout();"
   ]
  },
  {
   "cell_type": "code",
   "execution_count": null,
   "id": "e2879948-a0d1-4383-90da-53ec5b0f303d",
   "metadata": {},
   "outputs": [],
   "source": [
    "X = df_final_dummies[[ 'bedrooms', 'bathrooms', 'sqft_living','floors',\n",
    "       'sqft_basement', 'sqft_garage', 'sqft_patio', 'yr_built',\n",
    "       'relative_age', 'waterfront_YES', 'greenbelt_YES', 'view_EXCELLENT', 'view_GOOD', 'view_NONE',\n",
    "       'view_other', 'condition_Good', 'condition_Very Good',\n",
    "       'condition_other', 'heat_source_Gas', 'heat_source_Oil',\n",
    "       'heat_source_other',\n",
    "       'grade_11', 'grade_12', 'grade_13', 'grade_2', 'grade_3', 'grade_4',\n",
    "       'grade_5', 'grade_6', 'grade_7', 'grade_8', 'grade_9', 'grade2*living',\n",
    "       'grade4*living', 'grade5*living', 'grade7*living',\n",
    "       'grade8*living', 'grade9*living', 'grade13*living']]\n",
    "y = df_final_dummies['price']\n",
    "model_dummies = sm.OLS(y, sm.add_constant(X))\n",
    "results_dummies = model_dummies.fit()\n",
    "print(results_dummies.summary())"
   ]
  },
  {
   "cell_type": "code",
   "execution_count": null,
   "id": "57f6a097-e824-4403-95de-9ec2ee2c61ac",
   "metadata": {},
   "outputs": [],
   "source": [
    "fig = plt.figure(figsize=(15,15));\n",
    "sm.graphics.plot_partregress_grid(results_dummies, exog_idx=['sqft_living','waterfront_YES', 'greenbelt_YES', 'grade9*living','grade_9','yr_built' ], fig= fig);\n",
    "plt.tight_layout();"
   ]
  },
  {
   "cell_type": "code",
   "execution_count": null,
   "id": "8d77efa5-4305-4c25-88cf-474a0c09c74c",
   "metadata": {},
   "outputs": [],
   "source": [
    "for index in np.arange(0,40,5):\n",
    "    fig = plt.figure(figsize=(15,8))\n",
    "    sm.graphics.plot_partregress_grid(\n",
    "        results_dummies,\n",
    "        exog_idx=list(X.columns[index:index + 5].values),\n",
    "        grid=(3,5),\n",
    "        fig=fig)\n",
    "    plt.show()"
   ]
  },
  {
   "cell_type": "code",
   "execution_count": null,
   "id": "39d01ed7-10d2-4f34-9082-98aebffde67f",
   "metadata": {},
   "outputs": [],
   "source": []
  },
  {
   "cell_type": "code",
   "execution_count": null,
   "id": "c8c35b27-db87-4ee1-baf6-dd9719bed883",
   "metadata": {},
   "outputs": [],
   "source": []
  },
  {
   "cell_type": "code",
   "execution_count": null,
   "id": "2e2b65aa-b13d-43d1-a30f-f87945748f4b",
   "metadata": {},
   "outputs": [],
   "source": []
  },
  {
   "cell_type": "code",
   "execution_count": null,
   "id": "0c24aa20-59c6-44e0-a13f-d6ff10afe719",
   "metadata": {},
   "outputs": [],
   "source": []
  },
  {
   "cell_type": "code",
   "execution_count": null,
   "id": "75f60b45-44fe-4906-8f99-a9814c53b668",
   "metadata": {},
   "outputs": [],
   "source": []
  },
  {
   "cell_type": "code",
   "execution_count": null,
   "id": "ec1cf6f5-8c1e-47b8-ab5a-e5aadf068831",
   "metadata": {},
   "outputs": [],
   "source": []
  },
  {
   "cell_type": "code",
   "execution_count": null,
   "id": "a9459f1b-2e4b-424a-872a-3078aa6df748",
   "metadata": {},
   "outputs": [],
   "source": []
  }
 ],
 "metadata": {
  "kernelspec": {
   "display_name": "Python 3 (ipykernel)",
   "language": "python",
   "name": "python3"
  },
  "language_info": {
   "codemirror_mode": {
    "name": "ipython",
    "version": 3
   },
   "file_extension": ".py",
   "mimetype": "text/x-python",
   "name": "python",
   "nbconvert_exporter": "python",
   "pygments_lexer": "ipython3",
   "version": "3.9.13"
  }
 },
 "nbformat": 4,
 "nbformat_minor": 5
}
