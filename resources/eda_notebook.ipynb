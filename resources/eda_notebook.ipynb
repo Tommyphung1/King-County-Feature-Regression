{
 "cells": [
  {
   "cell_type": "markdown",
   "id": "ed5acb0a-cc8f-43b8-a761-de11a3ba7dc9",
   "metadata": {},
   "source": [
    "# Project 2 "
   ]
  },
  {
   "cell_type": "code",
   "execution_count": 1,
   "id": "b743c0e4-3a02-4ed4-8c48-601d69ffa779",
   "metadata": {},
   "outputs": [],
   "source": [
    "import pandas as pd\n",
    "from resources import custom_change as cc    # Has data_exploration, data_preperation and data_visualization\n",
    "import matplotlib.pyplot as plt\n",
    "import statsmodels.api as sm\n",
    "import numpy as np\n",
    "import warnings\n",
    "from itertools import combinations as cm\n",
    "#warnings.filterwarnings(\"ignore\")\n",
    "%matplotlib inline"
   ]
  },
  {
   "cell_type": "markdown",
   "id": "4400c5ea-f676-42c2-b199-dfc1f5a0d6be",
   "metadata": {
    "tags": []
   },
   "source": [
    "## Data Exploration"
   ]
  },
  {
   "cell_type": "markdown",
   "id": "5dd6fadc-90dd-41b0-8057-38d133bf51b9",
   "metadata": {},
   "source": [
    "1. Load Data\n",
    "2. Look for duplicates, Missing Values, and NaN values\n",
    "3. Look for correlation to get started\n",
    "4. Look at the columns with missing values"
   ]
  },
  {
   "cell_type": "code",
   "execution_count": 2,
   "id": "539b5a9c-dcef-45f6-84aa-6e01390777e8",
   "metadata": {},
   "outputs": [
    {
     "data": {
      "text/html": [
       "<div>\n",
       "<style scoped>\n",
       "    .dataframe tbody tr th:only-of-type {\n",
       "        vertical-align: middle;\n",
       "    }\n",
       "\n",
       "    .dataframe tbody tr th {\n",
       "        vertical-align: top;\n",
       "    }\n",
       "\n",
       "    .dataframe thead th {\n",
       "        text-align: right;\n",
       "    }\n",
       "</style>\n",
       "<table border=\"1\" class=\"dataframe\">\n",
       "  <thead>\n",
       "    <tr style=\"text-align: right;\">\n",
       "      <th></th>\n",
       "      <th>id</th>\n",
       "      <th>date</th>\n",
       "      <th>price</th>\n",
       "      <th>bedrooms</th>\n",
       "      <th>bathrooms</th>\n",
       "      <th>sqft_living</th>\n",
       "      <th>sqft_lot</th>\n",
       "      <th>floors</th>\n",
       "      <th>waterfront</th>\n",
       "      <th>greenbelt</th>\n",
       "      <th>...</th>\n",
       "      <th>sewer_system</th>\n",
       "      <th>sqft_above</th>\n",
       "      <th>sqft_basement</th>\n",
       "      <th>sqft_garage</th>\n",
       "      <th>sqft_patio</th>\n",
       "      <th>yr_built</th>\n",
       "      <th>yr_renovated</th>\n",
       "      <th>address</th>\n",
       "      <th>lat</th>\n",
       "      <th>long</th>\n",
       "    </tr>\n",
       "  </thead>\n",
       "  <tbody>\n",
       "    <tr>\n",
       "      <th>0</th>\n",
       "      <td>7399300360</td>\n",
       "      <td>5/24/2022</td>\n",
       "      <td>675000.0</td>\n",
       "      <td>4</td>\n",
       "      <td>1.0</td>\n",
       "      <td>1180</td>\n",
       "      <td>7140</td>\n",
       "      <td>1.0</td>\n",
       "      <td>NO</td>\n",
       "      <td>NO</td>\n",
       "      <td>...</td>\n",
       "      <td>PUBLIC</td>\n",
       "      <td>1180</td>\n",
       "      <td>0</td>\n",
       "      <td>0</td>\n",
       "      <td>40</td>\n",
       "      <td>1969</td>\n",
       "      <td>0</td>\n",
       "      <td>2102 Southeast 21st Court, Renton, Washington ...</td>\n",
       "      <td>47.461975</td>\n",
       "      <td>-122.19052</td>\n",
       "    </tr>\n",
       "    <tr>\n",
       "      <th>1</th>\n",
       "      <td>8910500230</td>\n",
       "      <td>12/13/2021</td>\n",
       "      <td>920000.0</td>\n",
       "      <td>5</td>\n",
       "      <td>2.5</td>\n",
       "      <td>2770</td>\n",
       "      <td>6703</td>\n",
       "      <td>1.0</td>\n",
       "      <td>NO</td>\n",
       "      <td>NO</td>\n",
       "      <td>...</td>\n",
       "      <td>PUBLIC</td>\n",
       "      <td>1570</td>\n",
       "      <td>1570</td>\n",
       "      <td>0</td>\n",
       "      <td>240</td>\n",
       "      <td>1950</td>\n",
       "      <td>0</td>\n",
       "      <td>11231 Greenwood Avenue North, Seattle, Washing...</td>\n",
       "      <td>47.711525</td>\n",
       "      <td>-122.35591</td>\n",
       "    </tr>\n",
       "    <tr>\n",
       "      <th>2</th>\n",
       "      <td>1180000275</td>\n",
       "      <td>9/29/2021</td>\n",
       "      <td>311000.0</td>\n",
       "      <td>6</td>\n",
       "      <td>2.0</td>\n",
       "      <td>2880</td>\n",
       "      <td>6156</td>\n",
       "      <td>1.0</td>\n",
       "      <td>NO</td>\n",
       "      <td>NO</td>\n",
       "      <td>...</td>\n",
       "      <td>PUBLIC</td>\n",
       "      <td>1580</td>\n",
       "      <td>1580</td>\n",
       "      <td>0</td>\n",
       "      <td>0</td>\n",
       "      <td>1956</td>\n",
       "      <td>0</td>\n",
       "      <td>8504 South 113th Street, Seattle, Washington 9...</td>\n",
       "      <td>47.502045</td>\n",
       "      <td>-122.22520</td>\n",
       "    </tr>\n",
       "    <tr>\n",
       "      <th>3</th>\n",
       "      <td>1604601802</td>\n",
       "      <td>12/14/2021</td>\n",
       "      <td>775000.0</td>\n",
       "      <td>3</td>\n",
       "      <td>3.0</td>\n",
       "      <td>2160</td>\n",
       "      <td>1400</td>\n",
       "      <td>2.0</td>\n",
       "      <td>NO</td>\n",
       "      <td>NO</td>\n",
       "      <td>...</td>\n",
       "      <td>PUBLIC</td>\n",
       "      <td>1090</td>\n",
       "      <td>1070</td>\n",
       "      <td>200</td>\n",
       "      <td>270</td>\n",
       "      <td>2010</td>\n",
       "      <td>0</td>\n",
       "      <td>4079 Letitia Avenue South, Seattle, Washington...</td>\n",
       "      <td>47.566110</td>\n",
       "      <td>-122.29020</td>\n",
       "    </tr>\n",
       "    <tr>\n",
       "      <th>4</th>\n",
       "      <td>8562780790</td>\n",
       "      <td>8/24/2021</td>\n",
       "      <td>592500.0</td>\n",
       "      <td>2</td>\n",
       "      <td>2.0</td>\n",
       "      <td>1120</td>\n",
       "      <td>758</td>\n",
       "      <td>2.0</td>\n",
       "      <td>NO</td>\n",
       "      <td>NO</td>\n",
       "      <td>...</td>\n",
       "      <td>PUBLIC</td>\n",
       "      <td>1120</td>\n",
       "      <td>550</td>\n",
       "      <td>550</td>\n",
       "      <td>30</td>\n",
       "      <td>2012</td>\n",
       "      <td>0</td>\n",
       "      <td>2193 Northwest Talus Drive, Issaquah, Washingt...</td>\n",
       "      <td>47.532470</td>\n",
       "      <td>-122.07188</td>\n",
       "    </tr>\n",
       "  </tbody>\n",
       "</table>\n",
       "<p>5 rows × 25 columns</p>\n",
       "</div>"
      ],
      "text/plain": [
       "           id        date     price  bedrooms  bathrooms  sqft_living  \\\n",
       "0  7399300360   5/24/2022  675000.0         4        1.0         1180   \n",
       "1  8910500230  12/13/2021  920000.0         5        2.5         2770   \n",
       "2  1180000275   9/29/2021  311000.0         6        2.0         2880   \n",
       "3  1604601802  12/14/2021  775000.0         3        3.0         2160   \n",
       "4  8562780790   8/24/2021  592500.0         2        2.0         1120   \n",
       "\n",
       "   sqft_lot  floors waterfront greenbelt  ... sewer_system sqft_above  \\\n",
       "0      7140     1.0         NO        NO  ...       PUBLIC       1180   \n",
       "1      6703     1.0         NO        NO  ...       PUBLIC       1570   \n",
       "2      6156     1.0         NO        NO  ...       PUBLIC       1580   \n",
       "3      1400     2.0         NO        NO  ...       PUBLIC       1090   \n",
       "4       758     2.0         NO        NO  ...       PUBLIC       1120   \n",
       "\n",
       "  sqft_basement sqft_garage sqft_patio yr_built  yr_renovated  \\\n",
       "0             0           0         40     1969             0   \n",
       "1          1570           0        240     1950             0   \n",
       "2          1580           0          0     1956             0   \n",
       "3          1070         200        270     2010             0   \n",
       "4           550         550         30     2012             0   \n",
       "\n",
       "                                             address        lat       long  \n",
       "0  2102 Southeast 21st Court, Renton, Washington ...  47.461975 -122.19052  \n",
       "1  11231 Greenwood Avenue North, Seattle, Washing...  47.711525 -122.35591  \n",
       "2  8504 South 113th Street, Seattle, Washington 9...  47.502045 -122.22520  \n",
       "3  4079 Letitia Avenue South, Seattle, Washington...  47.566110 -122.29020  \n",
       "4  2193 Northwest Talus Drive, Issaquah, Washingt...  47.532470 -122.07188  \n",
       "\n",
       "[5 rows x 25 columns]"
      ]
     },
     "metadata": {},
     "output_type": "display_data"
    },
    {
     "name": "stdout",
     "output_type": "stream",
     "text": [
      "Column Names: ['id', 'date', 'price', 'bedrooms', 'bathrooms', 'sqft_living', 'sqft_lot', 'floors', 'waterfront', 'greenbelt', 'nuisance', 'view', 'condition', 'grade', 'heat_source', 'sewer_system', 'sqft_above', 'sqft_basement', 'sqft_garage', 'sqft_patio', 'yr_built', 'yr_renovated', 'address', 'lat', 'long']\n",
      "Number of observation: 30155\n",
      "Duplicates detected\n"
     ]
    },
    {
     "data": {
      "text/html": [
       "<div>\n",
       "<style scoped>\n",
       "    .dataframe tbody tr th:only-of-type {\n",
       "        vertical-align: middle;\n",
       "    }\n",
       "\n",
       "    .dataframe tbody tr th {\n",
       "        vertical-align: top;\n",
       "    }\n",
       "\n",
       "    .dataframe thead th {\n",
       "        text-align: right;\n",
       "    }\n",
       "</style>\n",
       "<table border=\"1\" class=\"dataframe\">\n",
       "  <thead>\n",
       "    <tr style=\"text-align: right;\">\n",
       "      <th></th>\n",
       "      <th>id</th>\n",
       "      <th>date</th>\n",
       "      <th>price</th>\n",
       "      <th>bedrooms</th>\n",
       "      <th>bathrooms</th>\n",
       "      <th>sqft_living</th>\n",
       "      <th>sqft_lot</th>\n",
       "      <th>floors</th>\n",
       "      <th>waterfront</th>\n",
       "      <th>greenbelt</th>\n",
       "      <th>...</th>\n",
       "      <th>sewer_system</th>\n",
       "      <th>sqft_above</th>\n",
       "      <th>sqft_basement</th>\n",
       "      <th>sqft_garage</th>\n",
       "      <th>sqft_patio</th>\n",
       "      <th>yr_built</th>\n",
       "      <th>yr_renovated</th>\n",
       "      <th>address</th>\n",
       "      <th>lat</th>\n",
       "      <th>long</th>\n",
       "    </tr>\n",
       "  </thead>\n",
       "  <tbody>\n",
       "    <tr>\n",
       "      <th>4845</th>\n",
       "      <td>1233100736</td>\n",
       "      <td>9/28/2021</td>\n",
       "      <td>2600000.0</td>\n",
       "      <td>3</td>\n",
       "      <td>4.0</td>\n",
       "      <td>3500</td>\n",
       "      <td>8455</td>\n",
       "      <td>2.0</td>\n",
       "      <td>NO</td>\n",
       "      <td>NO</td>\n",
       "      <td>...</td>\n",
       "      <td>PUBLIC</td>\n",
       "      <td>2590</td>\n",
       "      <td>1410</td>\n",
       "      <td>500</td>\n",
       "      <td>290</td>\n",
       "      <td>2019</td>\n",
       "      <td>0</td>\n",
       "      <td>12611 Northeast 87th Place, Kirkland, Washingt...</td>\n",
       "      <td>47.68069</td>\n",
       "      <td>-122.172135</td>\n",
       "    </tr>\n",
       "    <tr>\n",
       "      <th>4846</th>\n",
       "      <td>1233100736</td>\n",
       "      <td>9/28/2021</td>\n",
       "      <td>2600000.0</td>\n",
       "      <td>3</td>\n",
       "      <td>4.0</td>\n",
       "      <td>3500</td>\n",
       "      <td>8455</td>\n",
       "      <td>2.0</td>\n",
       "      <td>NO</td>\n",
       "      <td>NO</td>\n",
       "      <td>...</td>\n",
       "      <td>PUBLIC</td>\n",
       "      <td>2590</td>\n",
       "      <td>1410</td>\n",
       "      <td>500</td>\n",
       "      <td>290</td>\n",
       "      <td>2019</td>\n",
       "      <td>0</td>\n",
       "      <td>12611 Northeast 87th Place, Kirkland, Washingt...</td>\n",
       "      <td>47.68069</td>\n",
       "      <td>-122.172135</td>\n",
       "    </tr>\n",
       "  </tbody>\n",
       "</table>\n",
       "<p>2 rows × 25 columns</p>\n",
       "</div>"
      ],
      "text/plain": [
       "              id       date      price  bedrooms  bathrooms  sqft_living  \\\n",
       "4845  1233100736  9/28/2021  2600000.0         3        4.0         3500   \n",
       "4846  1233100736  9/28/2021  2600000.0         3        4.0         3500   \n",
       "\n",
       "      sqft_lot  floors waterfront greenbelt  ... sewer_system sqft_above  \\\n",
       "4845      8455     2.0         NO        NO  ...       PUBLIC       2590   \n",
       "4846      8455     2.0         NO        NO  ...       PUBLIC       2590   \n",
       "\n",
       "     sqft_basement sqft_garage sqft_patio yr_built  yr_renovated  \\\n",
       "4845          1410         500        290     2019             0   \n",
       "4846          1410         500        290     2019             0   \n",
       "\n",
       "                                                address       lat        long  \n",
       "4845  12611 Northeast 87th Place, Kirkland, Washingt...  47.68069 -122.172135  \n",
       "4846  12611 Northeast 87th Place, Kirkland, Washingt...  47.68069 -122.172135  \n",
       "\n",
       "[2 rows x 25 columns]"
      ]
     },
     "metadata": {},
     "output_type": "display_data"
    },
    {
     "name": "stdout",
     "output_type": "stream",
     "text": [
      "N/A detected\n",
      "Columns with NaN:  ['heat_source', 'sewer_system']\n",
      "heat_source has 8/30155 unique observations. \n",
      "Gas                  20583\n",
      "Electricity           6465\n",
      "Oil                   2899\n",
      "Gas/Solar               93\n",
      "Electricity/Solar       59\n",
      "Other                   20\n",
      "Oil/Solar                4\n",
      "Name: heat_source, dtype: int64\n",
      "Number of missing values: 32\n",
      "sewer_system has 5/30155 unique observations. \n",
      "PUBLIC                25777\n",
      "PRIVATE                4355\n",
      "PRIVATE RESTRICTED        6\n",
      "PUBLIC RESTRICTED         3\n",
      "Name: sewer_system, dtype: int64\n",
      "Number of missing values: 14\n"
     ]
    },
    {
     "data": {
      "text/html": [
       "<div>\n",
       "<style scoped>\n",
       "    .dataframe tbody tr th:only-of-type {\n",
       "        vertical-align: middle;\n",
       "    }\n",
       "\n",
       "    .dataframe tbody tr th {\n",
       "        vertical-align: top;\n",
       "    }\n",
       "\n",
       "    .dataframe thead th {\n",
       "        text-align: right;\n",
       "    }\n",
       "</style>\n",
       "<table border=\"1\" class=\"dataframe\">\n",
       "  <thead>\n",
       "    <tr style=\"text-align: right;\">\n",
       "      <th></th>\n",
       "      <th>heat_source</th>\n",
       "      <th>sewer_system</th>\n",
       "    </tr>\n",
       "  </thead>\n",
       "  <tbody>\n",
       "    <tr>\n",
       "      <th>0</th>\n",
       "      <td>Gas</td>\n",
       "      <td>PUBLIC</td>\n",
       "    </tr>\n",
       "    <tr>\n",
       "      <th>1</th>\n",
       "      <td>Oil</td>\n",
       "      <td>PUBLIC</td>\n",
       "    </tr>\n",
       "    <tr>\n",
       "      <th>2</th>\n",
       "      <td>Gas</td>\n",
       "      <td>PUBLIC</td>\n",
       "    </tr>\n",
       "    <tr>\n",
       "      <th>3</th>\n",
       "      <td>Gas</td>\n",
       "      <td>PUBLIC</td>\n",
       "    </tr>\n",
       "    <tr>\n",
       "      <th>4</th>\n",
       "      <td>Electricity</td>\n",
       "      <td>PUBLIC</td>\n",
       "    </tr>\n",
       "  </tbody>\n",
       "</table>\n",
       "</div>"
      ],
      "text/plain": [
       "   heat_source sewer_system\n",
       "0          Gas       PUBLIC\n",
       "1          Oil       PUBLIC\n",
       "2          Gas       PUBLIC\n",
       "3          Gas       PUBLIC\n",
       "4  Electricity       PUBLIC"
      ]
     },
     "metadata": {},
     "output_type": "display_data"
    },
    {
     "name": "stdout",
     "output_type": "stream",
     "text": [
      "<class 'pandas.core.frame.DataFrame'>\n",
      "RangeIndex: 30155 entries, 0 to 30154\n",
      "Data columns (total 2 columns):\n",
      " #   Column        Non-Null Count  Dtype \n",
      "---  ------        --------------  ----- \n",
      " 0   heat_source   30123 non-null  object\n",
      " 1   sewer_system  30141 non-null  object\n",
      "dtypes: object(2)\n",
      "memory usage: 471.3+ KB\n"
     ]
    },
    {
     "data": {
      "text/plain": [
       "None"
      ]
     },
     "metadata": {},
     "output_type": "display_data"
    }
   ],
   "source": [
    "df = pd.read_csv('data/kc_house_data.csv')    #Read the file\n",
    "cc.look_dataframe(df)    #Look at dataframe\n",
    "cc.correlation_with(df, 'price')\n",
    "cc.look_columns(df, ['heat_source', 'sewer_system'])    # Look at the columns with missing values"
   ]
  },
  {
   "cell_type": "markdown",
   "id": "4e54ee01-28d1-4be9-8b50-dabe63da0ee8",
   "metadata": {},
   "source": [
    "### Column Infos\n",
    "State the columns that are being used"
   ]
  },
  {
   "cell_type": "code",
   "execution_count": 3,
   "id": "96528f4a-3d10-4a06-9d72-edafb85dcfcd",
   "metadata": {},
   "outputs": [],
   "source": [
    "all_columns = ['id', 'date', 'price', 'bedrooms', 'bathrooms', 'sqft_living', 'sqft_lot', 'floors'\n",
    "               , 'waterfront', 'greenbelt', 'nuisance', 'view', 'condition', 'grade', 'heat_source'\n",
    "               , 'sewer_system', 'sqft_above', 'sqft_basement', 'sqft_garage', 'sqft_patio', 'yr_built'\n",
    "               , 'yr_renovated', 'address', 'lat', 'long']\n",
    "\n",
    "obj_categorical = ['waterfront', 'greenbelt', 'nuisance', 'view', 'condition', 'grade', 'heat_source' , 'sewer_system']\n",
    "continuous = ['price', 'sqft_living', 'sqft_lot', 'sqft_above', 'sqft_basement', 'sqft_garage', 'sqft_patio',]\n",
    "num_categorical = ['yr_renovated', 'yr_built',  'bedrooms', 'bathrooms', 'floors']\n",
    "                   \n",
    "useless_columns = ['id', 'date', 'address', 'lat', 'long']"
   ]
  },
  {
   "cell_type": "markdown",
   "id": "c41acbe7-bcd3-4c60-9cde-8831b289a2e8",
   "metadata": {},
   "source": [
    "## **Actions Needed**\n",
    "1. Delete duplicates\n",
    "2. Remove missing values\n",
    "3. Remove unnecessary rows and columns\n",
    "4. Remove Outliers\n",
    "5. Group Small samples categories"
   ]
  },
  {
   "cell_type": "markdown",
   "id": "06a94879-7fe3-481f-9b91-e172baabf07b",
   "metadata": {},
   "source": [
    "## Data Preperations\n",
    "**Main Dataframe with the least changes** <br>\n",
    "df_cleaned: Removed outliers, rows, columns and replaced grade naming convention <br>\n",
    "df_num: All the columns that are numbers including price <br>\n",
    "df_obj: All the columns that are objects not including price <br>\n",
    "**Used mainly for plotting** <br>\n",
    "df_num_cat: All the columns that are categorical integers with price <br>\n",
    "df_obj_cat All the columns that are categorical objects with price <br>\n",
    "df_num_only All the columns that are continuous data type with price <br>\n",
    "**Results with correlation (Only numerical variables)** <br>\n",
    "corr_all: zip file for the correlation from df_cleaned <br>\n",
    "best_corr: Dictionary of the corr_all sorted by the best correlation, cut off the last three due to usage <br>"
   ]
  },
  {
   "cell_type": "code",
   "execution_count": 4,
   "id": "355d137d-5e11-48a1-bd5f-22e505c438e8",
   "metadata": {},
   "outputs": [
    {
     "name": "stdout",
     "output_type": "stream",
     "text": [
      "Number of Missing Values: 46\n",
      "Dropping rows: heat_source\n",
      "Dropping rows: sewer_system\n",
      "Number of duplicates: 1\n",
      "Removed 1 duplicates\n",
      "1214 observations were removed. \n"
     ]
    },
    {
     "name": "stderr",
     "output_type": "stream",
     "text": [
      "C:\\Users\\Tommy\\AppData\\Local\\Temp\\ipykernel_7792\\2468496318.py:3: SettingWithCopyWarning: \n",
      "A value is trying to be set on a copy of a slice from a DataFrame\n",
      "\n",
      "See the caveats in the documentation: https://pandas.pydata.org/pandas-docs/stable/user_guide/indexing.html#returning-a-view-versus-a-copy\n",
      "  df_cleaned.drop(labels = useless_columns, axis = 1, inplace = True)    # Drop columns that wont be useful right now\n",
      "C:\\Users\\Tommy\\AppData\\Local\\Temp\\ipykernel_7792\\2468496318.py:4: SettingWithCopyWarning: \n",
      "A value is trying to be set on a copy of a slice from a DataFrame\n",
      "\n",
      "See the caveats in the documentation: https://pandas.pydata.org/pandas-docs/stable/user_guide/indexing.html#returning-a-view-versus-a-copy\n",
      "  df_cleaned.drop(df_cleaned.loc[df_cleaned['sqft_living'] == 0].index, inplace = True)    ## Found a house that has sqft_living of 0 which messes with some plotting\n",
      "C:\\Users\\Tommy\\AppData\\Local\\Temp\\ipykernel_7792\\2468496318.py:6: SettingWithCopyWarning: \n",
      "A value is trying to be set on a copy of a slice from a DataFrame.\n",
      "Try using .loc[row_indexer,col_indexer] = value instead\n",
      "\n",
      "See the caveats in the documentation: https://pandas.pydata.org/pandas-docs/stable/user_guide/indexing.html#returning-a-view-versus-a-copy\n",
      "  df_cleaned['house_age'] = df_cleaned['yr_built'].max() - df_cleaned['yr_built']\n",
      "C:\\Users\\Tommy\\AppData\\Local\\Temp\\ipykernel_7792\\2468496318.py:7: SettingWithCopyWarning: \n",
      "A value is trying to be set on a copy of a slice from a DataFrame.\n",
      "Try using .loc[row_indexer,col_indexer] = value instead\n",
      "\n",
      "See the caveats in the documentation: https://pandas.pydata.org/pandas-docs/stable/user_guide/indexing.html#returning-a-view-versus-a-copy\n",
      "  df_cleaned['relative_age'] = df_cleaned['house_age']\n",
      "C:\\Users\\Tommy\\AppData\\Local\\Temp\\ipykernel_7792\\2468496318.py:8: SettingWithCopyWarning: \n",
      "A value is trying to be set on a copy of a slice from a DataFrame\n",
      "\n",
      "See the caveats in the documentation: https://pandas.pydata.org/pandas-docs/stable/user_guide/indexing.html#returning-a-view-versus-a-copy\n",
      "  df_cleaned['relative_age'].loc[df_cleaned['yr_renovated'] > 0] = df_cleaned['yr_built'].max() - df_cleaned['yr_renovated']\n",
      "C:\\Users\\Tommy\\AppData\\Local\\Temp\\ipykernel_7792\\2468496318.py:10: SettingWithCopyWarning: \n",
      "A value is trying to be set on a copy of a slice from a DataFrame.\n",
      "Try using .loc[row_indexer,col_indexer] = value instead\n",
      "\n",
      "See the caveats in the documentation: https://pandas.pydata.org/pandas-docs/stable/user_guide/indexing.html#returning-a-view-versus-a-copy\n",
      "  df_cleaned['sqft_living'] = df_cleaned['sqft_living'] - df_cleaned['sqft_living'].min()\n",
      "C:\\Users\\Tommy\\AppData\\Local\\Temp\\ipykernel_7792\\2468496318.py:15: SettingWithCopyWarning: \n",
      "A value is trying to be set on a copy of a slice from a DataFrame\n",
      "\n",
      "See the caveats in the documentation: https://pandas.pydata.org/pandas-docs/stable/user_guide/indexing.html#returning-a-view-versus-a-copy\n",
      "  df_cleaned.replace(grade_map, inplace= True)\n"
     ]
    }
   ],
   "source": [
    "df_cleaned = cc.check_and_drop(df)    ## Dropped and removed rows that has small amount of missing values\n",
    "df_cleaned = cc.outliers_remove(df_cleaned, 'price')    ## Remove outliers of price\n",
    "df_cleaned.drop(labels = useless_columns, axis = 1, inplace = True)    # Drop columns that wont be useful right now\n",
    "df_cleaned.drop(df_cleaned.loc[df_cleaned['sqft_living'] == 0].index, inplace = True)    ## Found a house that has sqft_living of 0 which messes with some plotting\n",
    "\n",
    "df_cleaned['house_age'] = df_cleaned['yr_built'].max() - df_cleaned['yr_built'] \n",
    "df_cleaned['relative_age'] = df_cleaned['house_age']\n",
    "df_cleaned['relative_age'].loc[df_cleaned['yr_renovated'] > 0] = df_cleaned['yr_built'].max() - df_cleaned['yr_renovated']\n",
    "\n",
    "df_cleaned['sqft_living'] = df_cleaned['sqft_living'] - df_cleaned['sqft_living'].min()\n",
    "\n",
    "## Map dictionary to change the strings in integer. \n",
    "grade_map = {'7 Average': 7, '8 Good': 8, '9 Better': 9, '6 Low Average': 6, '10 Very Good': 10, '5 Fair': 5, \n",
    "             '11 Excellent': 11, '4 Low': 4, '12 Luxury':12, '3 Poor': 3, '13 Mansion': 13, '2 Substandard' : 2}\n",
    "df_cleaned.replace(grade_map, inplace= True)"
   ]
  },
  {
   "cell_type": "code",
   "execution_count": 5,
   "id": "06d9f649-d002-452c-a25a-eda1d719e15d",
   "metadata": {},
   "outputs": [],
   "source": [
    "### General setup that prepares for the modeling\n",
    "columns = [column for column in df_cleaned.columns if (column != 'grade') and (column != 'price')]\n",
    "#df_w_dummies = pd.get_dummies(df_cleaned, drop_first= True)\n",
    "best_corr = cc.correlation_with(df_cleaned, 'price')    ## Helper function that return the variables that correlate to a given column and return them as a list\n",
    " ## The best correlating parameter"
   ]
  },
  {
   "cell_type": "markdown",
   "id": "1158c31d-8c02-4bf9-852a-247881ee2001",
   "metadata": {},
   "source": [
    "## Data Models"
   ]
  },
  {
   "cell_type": "markdown",
   "id": "e88291a6-297e-4f34-894c-0dfa74689a12",
   "metadata": {},
   "source": [
    "### All Continuous Model"
   ]
  },
  {
   "cell_type": "raw",
   "id": "6148e047-4c5c-4cb9-b8f5-34d601eb1bf7",
   "metadata": {},
   "source": [
    "### Long Loading time \n",
    "combo_list = {}\n",
    "temp_list = [variable[0] for variable in best_corr]\n",
    "for i in range(len(temp_list)):\n",
    "    combination = cm(temp_list, i + 1)\n",
    "    for combo in combination:\n",
    "        X = df_cleaned[list(combo)]\n",
    "        y = df_cleaned['price']\n",
    "        model_loop = sm.OLS(y, sm.add_constant(X))\n",
    "        result_loop = model_loop.fit()\n",
    "        combo_list[combo] = result_loop.rsquared\n",
    "combo_list = list(sorted(combo_list.items(), key=  lambda x: x[1], reverse= True))"
   ]
  },
  {
   "cell_type": "raw",
   "id": "f79450d8-e14a-4e44-accc-54b86feffa09",
   "metadata": {},
   "source": [
    "for combo in combo_list:\n",
    "    if len(combo[0]) == 1:\n",
    "        print(combo)"
   ]
  },
  {
   "cell_type": "code",
   "execution_count": 6,
   "id": "8cb5d726-a6f9-4dcc-9145-2fa2692ad7cd",
   "metadata": {},
   "outputs": [
    {
     "data": {
      "text/plain": [
       "[('sqft_living', 0.6019551412003955),\n",
       " ('grade', 0.5765477030786343),\n",
       " ('sqft_above', 0.5173796804461511),\n",
       " ('bathrooms', 0.462321402393885),\n",
       " ('bedrooms', 0.33269818502948795),\n",
       " ('sqft_patio', 0.2645639219221229),\n",
       " ('sqft_garage', 0.25909450168968734),\n",
       " ('sqft_basement', 0.21228905462629066),\n",
       " ('floors', 0.2067175190595692),\n",
       " ('yr_built', 0.09057621374076542),\n",
       " ('sqft_lot', 0.07916417764276389),\n",
       " ('yr_renovated', 0.0648972654556037),\n",
       " ('house_age', -0.09057621374076537),\n",
       " ('relative_age', -0.11932571621880085)]"
      ]
     },
     "execution_count": 6,
     "metadata": {},
     "output_type": "execute_result"
    }
   ],
   "source": [
    "best_corr"
   ]
  },
  {
   "cell_type": "markdown",
   "id": "da12a3d2-6d30-45d8-b828-51047251b7f6",
   "metadata": {},
   "source": [
    "### Square Feet Living Model"
   ]
  },
  {
   "cell_type": "code",
   "execution_count": 7,
   "id": "f7c5f0b8-9717-4c9f-a7d7-8df1118b831b",
   "metadata": {},
   "outputs": [
    {
     "name": "stdout",
     "output_type": "stream",
     "text": [
      "                            OLS Regression Results                            \n",
      "==============================================================================\n",
      "Dep. Variable:                  price   R-squared:                       0.362\n",
      "Model:                            OLS   Adj. R-squared:                  0.362\n",
      "Method:                 Least Squares   F-statistic:                 1.642e+04\n",
      "Date:                Mon, 30 Jan 2023   Prob (F-statistic):               0.00\n",
      "Time:                        11:32:30   Log-Likelihood:            -4.1338e+05\n",
      "No. Observations:               28896   AIC:                         8.268e+05\n",
      "Df Residuals:                   28894   BIC:                         8.268e+05\n",
      "Df Model:                           1                                         \n",
      "Covariance Type:            nonrobust                                         \n",
      "===============================================================================\n",
      "                  coef    std err          t      P>|t|      [0.025      0.975]\n",
      "-------------------------------------------------------------------------------\n",
      "const         2.62e+05   6086.650     43.052      0.000     2.5e+05    2.74e+05\n",
      "sqft_living   355.9612      2.778    128.138      0.000     350.516     361.406\n",
      "==============================================================================\n",
      "Omnibus:                     2592.845   Durbin-Watson:                   2.013\n",
      "Prob(Omnibus):                  0.000   Jarque-Bera (JB):             4177.313\n",
      "Skew:                           0.670   Prob(JB):                         0.00\n",
      "Kurtosis:                       4.293   Cond. No.                     5.74e+03\n",
      "==============================================================================\n",
      "\n",
      "Notes:\n",
      "[1] Standard Errors assume that the covariance matrix of the errors is correctly specified.\n",
      "[2] The condition number is large, 5.74e+03. This might indicate that there are\n",
      "strong multicollinearity or other numerical problems.\n"
     ]
    }
   ],
   "source": [
    "#1. Only sqft_living\n",
    "X = df_cleaned['sqft_living']\n",
    "y = df_cleaned['price']\n",
    "model_1 = sm.OLS(y, sm.add_constant(X))\n",
    "result_1 = model_1.fit()\n",
    "print(result_1.summary())"
   ]
  },
  {
   "cell_type": "markdown",
   "id": "5efbbc61-d0d8-4459-82a3-c0fc9ccd7420",
   "metadata": {},
   "source": [
    "### Square Feet Living and Grade"
   ]
  },
  {
   "cell_type": "code",
   "execution_count": 8,
   "id": "415fbbec-633a-4eff-be22-1862d4372489",
   "metadata": {},
   "outputs": [
    {
     "name": "stdout",
     "output_type": "stream",
     "text": [
      "                            OLS Regression Results                            \n",
      "==============================================================================\n",
      "Dep. Variable:                  price   R-squared:                       0.418\n",
      "Model:                            OLS   Adj. R-squared:                  0.418\n",
      "Method:                 Least Squares   F-statistic:                 1.038e+04\n",
      "Date:                Mon, 30 Jan 2023   Prob (F-statistic):               0.00\n",
      "Time:                        11:32:30   Log-Likelihood:            -4.1206e+05\n",
      "No. Observations:               28896   AIC:                         8.241e+05\n",
      "Df Residuals:                   28893   BIC:                         8.241e+05\n",
      "Df Model:                           2                                         \n",
      "Covariance Type:            nonrobust                                         \n",
      "===============================================================================\n",
      "                  coef    std err          t      P>|t|      [0.025      0.975]\n",
      "-------------------------------------------------------------------------------\n",
      "const       -6.262e+05   1.79e+04    -35.065      0.000   -6.61e+05   -5.91e+05\n",
      "sqft_living   231.7138      3.553     65.223      0.000     224.750     238.677\n",
      "grade        1.507e+05   2864.755     52.606      0.000    1.45e+05    1.56e+05\n",
      "==============================================================================\n",
      "Omnibus:                     2863.373   Durbin-Watson:                   2.019\n",
      "Prob(Omnibus):                  0.000   Jarque-Bera (JB):             5142.054\n",
      "Skew:                           0.686   Prob(JB):                         0.00\n",
      "Kurtosis:                       4.545   Cond. No.                     1.78e+04\n",
      "==============================================================================\n",
      "\n",
      "Notes:\n",
      "[1] Standard Errors assume that the covariance matrix of the errors is correctly specified.\n",
      "[2] The condition number is large, 1.78e+04. This might indicate that there are\n",
      "strong multicollinearity or other numerical problems.\n"
     ]
    }
   ],
   "source": [
    "#2. Only sqft_living and grade\n",
    "X = df_cleaned[['sqft_living', 'grade']]\n",
    "y = df_cleaned['price']\n",
    "model_2 = sm.OLS(y, sm.add_constant(X))\n",
    "result_2 = model_2.fit()\n",
    "print(result_2.summary())"
   ]
  },
  {
   "cell_type": "markdown",
   "id": "6f27c94d-d5ae-42df-aaf2-ebb3b2d9f6a0",
   "metadata": {},
   "source": [
    "### Many Parameters"
   ]
  },
  {
   "cell_type": "code",
   "execution_count": 9,
   "id": "152abc5c-f738-491f-9179-631443fd272a",
   "metadata": {},
   "outputs": [
    {
     "name": "stdout",
     "output_type": "stream",
     "text": [
      "                            OLS Regression Results                            \n",
      "==============================================================================\n",
      "Dep. Variable:                  price   R-squared:                       0.461\n",
      "Model:                            OLS   Adj. R-squared:                  0.461\n",
      "Method:                 Least Squares   F-statistic:                     3089.\n",
      "Date:                Mon, 30 Jan 2023   Prob (F-statistic):               0.00\n",
      "Time:                        11:32:30   Log-Likelihood:            -4.1095e+05\n",
      "No. Observations:               28896   AIC:                         8.219e+05\n",
      "Df Residuals:                   28887   BIC:                         8.220e+05\n",
      "Df Model:                           8                                         \n",
      "Covariance Type:            nonrobust                                         \n",
      "=================================================================================\n",
      "                    coef    std err          t      P>|t|      [0.025      0.975]\n",
      "---------------------------------------------------------------------------------\n",
      "const         -1.148e+06   2.32e+04    -49.532      0.000   -1.19e+06    -1.1e+06\n",
      "sqft_living     226.3049      4.942     45.793      0.000     216.618     235.991\n",
      "grade          2.006e+05   3111.420     64.465      0.000    1.94e+05    2.07e+05\n",
      "bedrooms      -3.201e+04   3057.963    -10.467      0.000    -3.8e+04    -2.6e+04\n",
      "bathrooms      5.347e+04   4396.019     12.163      0.000    4.49e+04    6.21e+04\n",
      "sqft_patio       68.0035     10.002      6.799      0.000      48.399      87.608\n",
      "sqft_garage    -105.1374      9.404    -11.181      0.000    -123.569     -86.706\n",
      "sqft_basement     6.8286      4.464      1.530      0.126      -1.921      15.578\n",
      "relative_age   3551.3970     92.555     38.371      0.000    3369.985    3732.809\n",
      "==============================================================================\n",
      "Omnibus:                     3145.202   Durbin-Watson:                   2.011\n",
      "Prob(Omnibus):                  0.000   Jarque-Bera (JB):             7245.639\n",
      "Skew:                           0.660   Prob(JB):                         0.00\n",
      "Kurtosis:                       5.067   Cond. No.                     2.50e+04\n",
      "==============================================================================\n",
      "\n",
      "Notes:\n",
      "[1] Standard Errors assume that the covariance matrix of the errors is correctly specified.\n",
      "[2] The condition number is large, 2.5e+04. This might indicate that there are\n",
      "strong multicollinearity or other numerical problems.\n"
     ]
    }
   ],
   "source": [
    "#3. 'sqft_living', 'grade', 'bedrooms', 'bathrooms','sqft_patio','sqft_garage', 'sqft_basement','relative_age'\n",
    "X = df_cleaned[['sqft_living', 'grade', 'bedrooms', 'bathrooms','sqft_patio','sqft_garage', 'sqft_basement','relative_age']]\n",
    "y = df_cleaned['price']\n",
    "model_3 = sm.OLS(y, sm.add_constant(X))\n",
    "result_3 = model_3.fit()\n",
    "print(result_3.summary())"
   ]
  },
  {
   "cell_type": "markdown",
   "id": "092e0a3e-bdc9-4f1b-a3cb-87a396f54ef8",
   "metadata": {},
   "source": [
    "## Dummy Models"
   ]
  },
  {
   "cell_type": "code",
   "execution_count": 10,
   "id": "88d8b840-e2a7-4d71-873c-909d89672411",
   "metadata": {},
   "outputs": [],
   "source": [
    "df_dummy = pd.get_dummies(df_cleaned, drop_first= True)"
   ]
  },
  {
   "cell_type": "markdown",
   "id": "772271d3-65e9-41e7-882c-4049bcf69c2b",
   "metadata": {},
   "source": [
    "### All Parameters "
   ]
  },
  {
   "cell_type": "code",
   "execution_count": 11,
   "id": "bae895d2-00d6-42d8-8ccf-2e9b8a2c2743",
   "metadata": {},
   "outputs": [
    {
     "name": "stdout",
     "output_type": "stream",
     "text": [
      "                            OLS Regression Results                            \n",
      "==============================================================================\n",
      "Dep. Variable:                  price   R-squared:                       0.485\n",
      "Model:                            OLS   Adj. R-squared:                  0.485\n",
      "Method:                 Least Squares   F-statistic:                     824.2\n",
      "Date:                Mon, 30 Jan 2023   Prob (F-statistic):               0.00\n",
      "Time:                        11:32:30   Log-Likelihood:            -4.1029e+05\n",
      "No. Observations:               28896   AIC:                         8.206e+05\n",
      "Df Residuals:                   28862   BIC:                         8.209e+05\n",
      "Df Model:                          33                                         \n",
      "Covariance Type:            nonrobust                                         \n",
      "===================================================================================================\n",
      "                                      coef    std err          t      P>|t|      [0.025      0.975]\n",
      "---------------------------------------------------------------------------------------------------\n",
      "const                               0.4360      0.210      2.074      0.038       0.024       0.848\n",
      "bedrooms                        -2.951e+04   3038.698     -9.711      0.000   -3.55e+04   -2.36e+04\n",
      "bathrooms                        4.775e+04   4463.569     10.698      0.000     3.9e+04    5.65e+04\n",
      "sqft_living                       144.2457     10.362     13.921      0.000     123.936     164.555\n",
      "sqft_lot                            0.2841      0.042      6.732      0.000       0.201       0.367\n",
      "floors                           -108.2266   5436.542     -0.020      0.984   -1.08e+04    1.05e+04\n",
      "grade                            2.019e+05   3204.836     63.012      0.000    1.96e+05    2.08e+05\n",
      "sqft_above                         78.5849     10.596      7.417      0.000      57.816      99.353\n",
      "sqft_basement                      39.2142      7.734      5.070      0.000      24.055      54.373\n",
      "sqft_garage                       -74.9519     10.610     -7.064      0.000     -95.748     -54.156\n",
      "sqft_patio                         52.3373     10.186      5.138      0.000      32.372      72.303\n",
      "yr_built                         -603.9979     13.018    -46.398      0.000    -629.513    -578.482\n",
      "yr_renovated                       57.1307     13.612      4.197      0.000      30.450      83.811\n",
      "house_age                        1485.6218    424.867      3.497      0.000     652.864    2318.380\n",
      "relative_age                     1474.8317    430.312      3.427      0.001     631.400    2318.263\n",
      "waterfront_YES                   4.307e+04   2.18e+04      1.971      0.049     248.074    8.59e+04\n",
      "greenbelt_YES                    1.382e+05   1.37e+04     10.126      0.000    1.11e+05    1.65e+05\n",
      "nuisance_YES                     7816.4996   5663.903      1.380      0.168   -3285.011    1.89e+04\n",
      "view_EXCELLENT                   2.011e+05   2.26e+04      8.895      0.000    1.57e+05    2.45e+05\n",
      "view_FAIR                        6.384e+04   2.73e+04      2.338      0.019    1.03e+04    1.17e+05\n",
      "view_GOOD                        1.506e+04   1.56e+04      0.965      0.335   -1.55e+04    4.57e+04\n",
      "view_NONE                       -6.137e+04   9088.772     -6.752      0.000   -7.92e+04   -4.36e+04\n",
      "condition_Fair                   1.544e+04   2.43e+04      0.636      0.525   -3.21e+04     6.3e+04\n",
      "condition_Good                   3.349e+04   5356.168      6.252      0.000     2.3e+04     4.4e+04\n",
      "condition_Poor                   7617.1263   4.63e+04      0.165      0.869   -8.31e+04    9.84e+04\n",
      "condition_Very Good              8.847e+04   7593.151     11.651      0.000    7.36e+04    1.03e+05\n",
      "heat_source_Electricity/Solar   -5.602e+04   4.69e+04     -1.194      0.232   -1.48e+05    3.59e+04\n",
      "heat_source_Gas                   1.56e+04   5576.019      2.798      0.005    4670.778    2.65e+04\n",
      "heat_source_Gas/Solar            1.907e+05   3.91e+04      4.874      0.000    1.14e+05    2.67e+05\n",
      "heat_source_Oil                 -1.418e+04   8707.537     -1.629      0.103   -3.12e+04    2884.742\n",
      "heat_source_Oil/Solar           -1.943e+04   1.78e+05     -0.109      0.913   -3.68e+05    3.29e+05\n",
      "heat_source_Other                1.388e+05   8.19e+04      1.695      0.090   -2.17e+04    2.99e+05\n",
      "sewer_system_PRIVATE RESTRICTED   2.51e+05    1.6e+05      1.573      0.116   -6.17e+04    5.64e+05\n",
      "sewer_system_PUBLIC              9.132e+04   6843.008     13.344      0.000    7.79e+04    1.05e+05\n",
      "sewer_system_PUBLIC RESTRICTED   7.041e+04   2.05e+05      0.343      0.732   -3.32e+05    4.73e+05\n",
      "==============================================================================\n",
      "Omnibus:                     3078.878   Durbin-Watson:                   2.012\n",
      "Prob(Omnibus):                  0.000   Jarque-Bera (JB):             7850.858\n",
      "Skew:                           0.618   Prob(JB):                         0.00\n",
      "Kurtosis:                       5.235   Cond. No.                     2.83e+20\n",
      "==============================================================================\n",
      "\n",
      "Notes:\n",
      "[1] Standard Errors assume that the covariance matrix of the errors is correctly specified.\n",
      "[2] The smallest eigenvalue is 1.16e-27. This might indicate that there are\n",
      "strong multicollinearity problems or that the design matrix is singular.\n"
     ]
    }
   ],
   "source": [
    "#3. 'sqft_living', 'grade', 'bedrooms', 'bathrooms','sqft_patio','sqft_garage', 'sqft_basement','relative_age'\n",
    "X = df_dummy[['bedrooms', 'bathrooms', 'sqft_living', 'sqft_lot', 'floors',\n",
    "       'grade', 'sqft_above', 'sqft_basement', 'sqft_garage', 'sqft_patio',\n",
    "       'yr_built', 'yr_renovated', 'house_age', 'relative_age',\n",
    "       'waterfront_YES', 'greenbelt_YES', 'nuisance_YES', 'view_EXCELLENT',\n",
    "       'view_FAIR', 'view_GOOD', 'view_NONE', 'condition_Fair',\n",
    "       'condition_Good', 'condition_Poor', 'condition_Very Good',\n",
    "       'heat_source_Electricity/Solar', 'heat_source_Gas',\n",
    "       'heat_source_Gas/Solar', 'heat_source_Oil', 'heat_source_Oil/Solar',\n",
    "       'heat_source_Other', 'sewer_system_PRIVATE RESTRICTED',\n",
    "       'sewer_system_PUBLIC', 'sewer_system_PUBLIC RESTRICTED']]\n",
    "y = df_dummy['price']\n",
    "model_dum_1 = sm.OLS(y, sm.add_constant(X))\n",
    "result_dum_1 = model_dum_1.fit()\n",
    "print(result_dum_1.summary())"
   ]
  },
  {
   "cell_type": "markdown",
   "id": "65ae0f18-bf50-4493-9afd-dbb3e93c74fc",
   "metadata": {},
   "source": [
    "### Grouped dummies"
   ]
  },
  {
   "cell_type": "code",
   "execution_count": 12,
   "id": "4d5570c2-1ebc-4aa4-9316-cc319749c2e7",
   "metadata": {},
   "outputs": [],
   "source": [
    "## All categories and the number of times they appear\n",
    "df_other = df_cleaned.copy()\n",
    "for column in ['view', 'condition','heat_source', 'sewer_system']:\n",
    "    replace = df_other[column].value_counts()[df_other[column].value_counts()< 300].index\n",
    "    df_other[column].replace(replace, value= 'other',inplace= True)\n",
    "df_dummy_2 = pd.get_dummies(df_other, drop_first= True)"
   ]
  },
  {
   "cell_type": "code",
   "execution_count": 13,
   "id": "a407fad6-7f60-41ae-8e53-681ffc9ad67f",
   "metadata": {},
   "outputs": [
    {
     "name": "stdout",
     "output_type": "stream",
     "text": [
      "                            OLS Regression Results                            \n",
      "==============================================================================\n",
      "Dep. Variable:                  price   R-squared:                       0.485\n",
      "Model:                            OLS   Adj. R-squared:                  0.484\n",
      "Method:                 Least Squares   F-statistic:                     1131.\n",
      "Date:                Mon, 30 Jan 2023   Prob (F-statistic):               0.00\n",
      "Time:                        11:32:30   Log-Likelihood:            -4.1031e+05\n",
      "No. Observations:               28896   AIC:                         8.207e+05\n",
      "Df Residuals:                   28871   BIC:                         8.209e+05\n",
      "Df Model:                          24                                         \n",
      "Covariance Type:            nonrobust                                         \n",
      "=======================================================================================\n",
      "                          coef    std err          t      P>|t|      [0.025      0.975]\n",
      "---------------------------------------------------------------------------------------\n",
      "const                   0.4526      0.210      2.152      0.031       0.040       0.865\n",
      "bedrooms            -2.974e+04   3039.235     -9.786      0.000   -3.57e+04   -2.38e+04\n",
      "bathrooms            4.799e+04   4464.696     10.750      0.000    3.92e+04    5.67e+04\n",
      "sqft_living           144.4985     10.363     13.944      0.000     124.187     164.810\n",
      "sqft_lot                0.2862      0.042      6.793      0.000       0.204       0.369\n",
      "floors               -664.1130   5434.714     -0.122      0.903   -1.13e+04    9988.177\n",
      "grade                2.019e+05   3196.818     63.172      0.000    1.96e+05    2.08e+05\n",
      "sqft_above             79.0944     10.595      7.465      0.000      58.327      99.862\n",
      "sqft_basement          39.5238      7.735      5.110      0.000      24.363      54.684\n",
      "sqft_garage           -75.0005     10.614     -7.066      0.000     -95.804     -54.197\n",
      "sqft_patio             51.5866     10.189      5.063      0.000      31.616      71.557\n",
      "yr_built             -599.7286     12.934    -46.369      0.000    -625.079    -574.378\n",
      "yr_renovated           56.9500     13.617      4.182      0.000      30.259      83.641\n",
      "house_age            1514.8560    425.006      3.564      0.000     681.825    2347.887\n",
      "relative_age         1457.3905    430.376      3.386      0.001     613.835    2300.946\n",
      "waterfront_YES       4.237e+04   2.18e+04      1.942      0.052    -388.832    8.51e+04\n",
      "greenbelt_YES        1.384e+05   1.37e+04     10.132      0.000    1.12e+05    1.65e+05\n",
      "nuisance_YES         7968.1657   5665.173      1.407      0.160   -3135.836    1.91e+04\n",
      "view_EXCELLENT       1.962e+05   2.25e+04      8.728      0.000    1.52e+05     2.4e+05\n",
      "view_GOOD            9540.5368   1.54e+04      0.620      0.535   -2.06e+04    3.97e+04\n",
      "view_NONE            -6.82e+04   8690.726     -7.847      0.000   -8.52e+04   -5.12e+04\n",
      "condition_Good       3.321e+04   5325.013      6.236      0.000    2.28e+04    4.36e+04\n",
      "condition_Very Good  8.832e+04   7566.239     11.673      0.000    7.35e+04    1.03e+05\n",
      "heat_source_Gas      1.274e+04   5519.947      2.308      0.021    1918.466    2.36e+04\n",
      "heat_source_Oil     -1.652e+04   8678.478     -1.903      0.057   -3.35e+04     494.620\n",
      "sewer_system_PUBLIC  9.167e+04   6832.581     13.417      0.000    7.83e+04    1.05e+05\n",
      "==============================================================================\n",
      "Omnibus:                     3076.179   Durbin-Watson:                   2.013\n",
      "Prob(Omnibus):                  0.000   Jarque-Bera (JB):             7813.281\n",
      "Skew:                           0.619   Prob(JB):                         0.00\n",
      "Kurtosis:                       5.227   Cond. No.                     1.49e+20\n",
      "==============================================================================\n",
      "\n",
      "Notes:\n",
      "[1] Standard Errors assume that the covariance matrix of the errors is correctly specified.\n",
      "[2] The smallest eigenvalue is 4.16e-27. This might indicate that there are\n",
      "strong multicollinearity problems or that the design matrix is singular.\n"
     ]
    }
   ],
   "source": [
    "#3. 'sqft_living', 'grade', 'bedrooms', 'bathrooms','sqft_patio','sqft_garage', 'sqft_basement','relative_age'\n",
    "X = df_dummy_2[['bedrooms', 'bathrooms', 'sqft_living', 'sqft_lot', 'floors',\n",
    "       'grade', 'sqft_above', 'sqft_basement', 'sqft_garage', 'sqft_patio',\n",
    "       'yr_built', 'yr_renovated', 'house_age', 'relative_age',\n",
    "       'waterfront_YES', 'greenbelt_YES', 'nuisance_YES', 'view_EXCELLENT',\n",
    "       'view_GOOD', 'view_NONE',\n",
    "       'condition_Good','condition_Very Good',\n",
    "       'heat_source_Gas',\n",
    "       'heat_source_Oil',\n",
    "       'sewer_system_PUBLIC', ]]\n",
    "y = df_dummy_2['price']\n",
    "model_dum_2 = sm.OLS(y, sm.add_constant(X))\n",
    "result_dum_2 = model_dum_2.fit()\n",
    "print(result_dum_2.summary())"
   ]
  },
  {
   "cell_type": "markdown",
   "id": "0ed94ea1-22c0-49cd-a142-d0e8dd69b55d",
   "metadata": {},
   "source": [
    "### Taken Out"
   ]
  },
  {
   "cell_type": "code",
   "execution_count": 14,
   "id": "231ef90b-486b-4570-8e49-20273e5b81b3",
   "metadata": {},
   "outputs": [
    {
     "name": "stdout",
     "output_type": "stream",
     "text": [
      "                            OLS Regression Results                            \n",
      "==============================================================================\n",
      "Dep. Variable:                  price   R-squared:                       0.480\n",
      "Model:                            OLS   Adj. R-squared:                  0.479\n",
      "Method:                 Least Squares   F-statistic:                     1664.\n",
      "Date:                Mon, 30 Jan 2023   Prob (F-statistic):               0.00\n",
      "Time:                        11:32:30   Log-Likelihood:            -4.1044e+05\n",
      "No. Observations:               28896   AIC:                         8.209e+05\n",
      "Df Residuals:                   28879   BIC:                         8.211e+05\n",
      "Df Model:                          16                                         \n",
      "Covariance Type:            nonrobust                                         \n",
      "=======================================================================================\n",
      "                          coef    std err          t      P>|t|      [0.025      0.975]\n",
      "---------------------------------------------------------------------------------------\n",
      "const               -1.294e+06   2.35e+04    -54.960      0.000   -1.34e+06   -1.25e+06\n",
      "bedrooms            -3.439e+04   3028.532    -11.357      0.000   -4.03e+04   -2.85e+04\n",
      "bathrooms            4.943e+04   4380.810     11.282      0.000    4.08e+04     5.8e+04\n",
      "sqft_living           155.4739     10.201     15.241      0.000     135.479     175.468\n",
      "grade                2.054e+05   3130.163     65.614      0.000    1.99e+05    2.12e+05\n",
      "sqft_above             76.2850     10.224      7.462      0.000      56.246      96.324\n",
      "sqft_basement          43.1911      7.684      5.621      0.000      28.131      58.252\n",
      "sqft_garage           -73.8939      9.871     -7.486      0.000     -93.241     -54.546\n",
      "sqft_patio             68.1920     10.118      6.740      0.000      48.360      88.024\n",
      "yr_renovated           61.5867     13.648      4.513      0.000      34.836      88.337\n",
      "house_age            2157.2304    426.636      5.056      0.000    1321.005    2993.456\n",
      "relative_age         1522.9307    430.245      3.540      0.000     679.631    2366.231\n",
      "waterfront_YES       1.728e+05   1.98e+04      8.740      0.000    1.34e+05    2.12e+05\n",
      "greenbelt_YES        1.352e+05   1.37e+04      9.868      0.000    1.08e+05    1.62e+05\n",
      "condition_Good       3.469e+04   5297.838      6.548      0.000    2.43e+04    4.51e+04\n",
      "condition_Very Good  9.081e+04   7517.770     12.079      0.000    7.61e+04    1.06e+05\n",
      "sewer_system_PUBLIC  8.132e+04   6354.342     12.798      0.000    6.89e+04    9.38e+04\n",
      "==============================================================================\n",
      "Omnibus:                     3162.777   Durbin-Watson:                   2.014\n",
      "Prob(Omnibus):                  0.000   Jarque-Bera (JB):             8009.984\n",
      "Skew:                           0.635   Prob(JB):                         0.00\n",
      "Kurtosis:                       5.245   Cond. No.                     3.36e+04\n",
      "==============================================================================\n",
      "\n",
      "Notes:\n",
      "[1] Standard Errors assume that the covariance matrix of the errors is correctly specified.\n",
      "[2] The condition number is large, 3.36e+04. This might indicate that there are\n",
      "strong multicollinearity or other numerical problems.\n"
     ]
    }
   ],
   "source": [
    "#3. 'sqft_living', 'grade', 'bedrooms', 'bathrooms','sqft_patio','sqft_garage', 'sqft_basement','relative_age'\n",
    "X = df_dummy_2[['bedrooms', 'bathrooms', 'sqft_living',\n",
    "       'grade', 'sqft_above', 'sqft_basement', 'sqft_garage', 'sqft_patio',\n",
    "        'yr_renovated', 'house_age', 'relative_age',\n",
    "       'waterfront_YES', 'greenbelt_YES',\n",
    "       'condition_Good','condition_Very Good',\n",
    "       'sewer_system_PUBLIC', ]]\n",
    "y = df_dummy_2['price']\n",
    "model_dum_3 = sm.OLS(y, sm.add_constant(X))\n",
    "result_dum_3 = model_dum_3.fit()\n",
    "print(result_dum_3.summary())"
   ]
  },
  {
   "cell_type": "markdown",
   "id": "33fd9b3c-7e00-4b64-b0a3-d7f23790df8b",
   "metadata": {
    "tags": []
   },
   "source": [
    "## Data Visiualization"
   ]
  },
  {
   "cell_type": "markdown",
   "id": "5a9b8ae5-bbd8-48c4-b7a3-808ed9cff3af",
   "metadata": {},
   "source": [
    "### Continuous Data Type "
   ]
  },
  {
   "cell_type": "code",
   "execution_count": 15,
   "id": "3b4cf05b-093c-4d31-8bd0-df0630b1195b",
   "metadata": {},
   "outputs": [
    {
     "ename": "TypeError",
     "evalue": "plot_dataframe() got an unexpected keyword argument 'size'",
     "output_type": "error",
     "traceback": [
      "\u001b[1;31m---------------------------------------------------------------------------\u001b[0m",
      "\u001b[1;31mTypeError\u001b[0m                                 Traceback (most recent call last)",
      "\u001b[1;32m~\\AppData\\Local\\Temp\\ipykernel_7792\\1927155945.py\u001b[0m in \u001b[0;36m<module>\u001b[1;34m\u001b[0m\n\u001b[0;32m      8\u001b[0m     \u001b[0mmodels\u001b[0m\u001b[1;33m.\u001b[0m\u001b[0mappend\u001b[0m\u001b[1;33m(\u001b[0m\u001b[0mmodel\u001b[0m\u001b[1;33m)\u001b[0m\u001b[1;33m\u001b[0m\u001b[1;33m\u001b[0m\u001b[0m\n\u001b[0;32m      9\u001b[0m     \u001b[0mresults\u001b[0m\u001b[1;33m.\u001b[0m\u001b[0mappend\u001b[0m\u001b[1;33m(\u001b[0m\u001b[0mresult\u001b[0m\u001b[1;33m)\u001b[0m\u001b[1;33m\u001b[0m\u001b[1;33m\u001b[0m\u001b[0m\n\u001b[1;32m---> 10\u001b[1;33m \u001b[0mfig\u001b[0m\u001b[1;33m,\u001b[0m \u001b[0max\u001b[0m \u001b[1;33m=\u001b[0m \u001b[0mcc\u001b[0m\u001b[1;33m.\u001b[0m\u001b[0mplot_dataframe\u001b[0m\u001b[1;33m(\u001b[0m\u001b[0mdf_prepped_continuous\u001b[0m\u001b[1;33m,\u001b[0m \u001b[0mcontinuous\u001b[0m\u001b[1;33m[\u001b[0m\u001b[1;36m1\u001b[0m\u001b[1;33m:\u001b[0m\u001b[1;33m]\u001b[0m\u001b[1;33m,\u001b[0m \u001b[1;34m'price'\u001b[0m\u001b[1;33m,\u001b[0m  \u001b[0msize\u001b[0m \u001b[1;33m=\u001b[0m \u001b[1;33m(\u001b[0m\u001b[1;36m5\u001b[0m\u001b[1;33m,\u001b[0m\u001b[1;36m30\u001b[0m\u001b[1;33m)\u001b[0m\u001b[1;33m,\u001b[0m \u001b[0mregression\u001b[0m\u001b[1;33m=\u001b[0m \u001b[1;32mTrue\u001b[0m\u001b[1;33m,\u001b[0m \u001b[0mresults\u001b[0m\u001b[1;33m=\u001b[0m \u001b[0mresults\u001b[0m\u001b[1;33m[\u001b[0m\u001b[1;36m1\u001b[0m\u001b[1;33m:\u001b[0m\u001b[1;33m]\u001b[0m\u001b[1;33m)\u001b[0m\u001b[1;33m;\u001b[0m\u001b[1;33m\u001b[0m\u001b[1;33m\u001b[0m\u001b[0m\n\u001b[0m",
      "\u001b[1;31mTypeError\u001b[0m: plot_dataframe() got an unexpected keyword argument 'size'"
     ]
    }
   ],
   "source": [
    "## Seperate the contiuous data type with the categorical data type for modelling and prepping\n",
    "df_prepped_continuous = df_cleaned[continuous].copy()\n",
    "\n",
    "models = []\n",
    "results = []\n",
    "for column in continuous:\n",
    "    model, result = cc.create_model(df_prepped_continuous, column, 'price')\n",
    "    models.append(model)\n",
    "    results.append(result)\n",
    "fig, ax = cc.plot_dataframe(df_prepped_continuous, continuous[1:], 'price',  size = (5,30), regression= True, results= results[1:]);"
   ]
  },
  {
   "cell_type": "markdown",
   "id": "09a37acb-a285-4d53-89f7-8509bf45cf73",
   "metadata": {},
   "source": [
    "### Numeric Scatter"
   ]
  },
  {
   "cell_type": "code",
   "execution_count": null,
   "id": "45c7bf9d-137d-460d-8000-7c028e22a0ea",
   "metadata": {},
   "outputs": [],
   "source": [
    "fig, ax = plt.subplots(ncols= 3, figsize = (20,6))\n",
    "index = 0 \n",
    "for category in num_categorical[2:]:\n",
    "    df_cleaned.plot.scatter(category, 'price', ax = ax[index])\n",
    "    index += 1\n",
    "plt.tight_layout()"
   ]
  },
  {
   "cell_type": "markdown",
   "id": "a66adcf5-efba-4c2e-a6a2-4247bfc37994",
   "metadata": {},
   "source": [
    "### Categorical Data Type"
   ]
  },
  {
   "cell_type": "code",
   "execution_count": null,
   "id": "0e4e691c-b229-4db0-b3ef-3b8c6b2dd789",
   "metadata": {},
   "outputs": [],
   "source": [
    "fig, ax = plt.subplots(ncols= 4, nrows = 2, figsize = (20,10))\n",
    "row = 0 \n",
    "col = 0\n",
    "for category in obj_categorical:\n",
    "    group = df_cleaned[[category, 'price']].groupby(category).mean()\n",
    "    x_group = [value[0] for value in group.values.tolist()]\n",
    "    ax[row][col].bar((group.index), x_group)\n",
    "    ax[row][col].set_title(category)\n",
    "    df_cleaned[category].value_counts()\n",
    "    if col == 3:\n",
    "        row += 1\n",
    "        col = 0\n",
    "    else:\n",
    "        col += 1\n",
    "plt.tight_layout()"
   ]
  },
  {
   "cell_type": "code",
   "execution_count": null,
   "id": "0bf80335-88ea-4160-b673-1e0c0176d5c1",
   "metadata": {},
   "outputs": [],
   "source": [
    "fig, ax = plt.subplots(ncols= 3, figsize = (20,6))\n",
    "row = 0 \n",
    "col = 0\n",
    "for category in num_categorical[2:]:\n",
    "    group = df_cleaned[[category, 'price']].groupby(category).mean()\n",
    "    x_group = [value[0] for value in group.values.tolist()]\n",
    "    ax[col].bar((group.index), x_group)\n",
    "    ax[col].set_title(category)\n",
    "    df_cleaned[category].value_counts()\n",
    "\n",
    "    col += 1\n",
    "plt.tight_layout()"
   ]
  },
  {
   "cell_type": "code",
   "execution_count": null,
   "id": "81204766-88f2-4423-b3c3-59f9d38014c7",
   "metadata": {},
   "outputs": [],
   "source": [
    "group_waterfront = df_cleaned[['waterfront', 'price']].groupby('waterfront').mean().values\n",
    "x_group1 = [value[0] for value in group_waterfront.tolist()]\n",
    "group_greenbelt = df_cleaned[['greenbelt', 'price']].groupby('greenbelt').mean().values\n",
    "x_group2 = [value[0] for value in group_greenbelt.tolist()]\n",
    "group_nuisance = df_cleaned[['nuisance', 'price']].groupby('nuisance').mean().values\n",
    "x_group3 = [value[0] for value in group_nuisance.tolist()]"
   ]
  },
  {
   "cell_type": "code",
   "execution_count": null,
   "id": "cf75d6be-f8a5-4241-838a-7e89870a8b2a",
   "metadata": {},
   "outputs": [],
   "source": [
    "fig, ax = plt.subplots(figsize = (7, 7));    # Setup for plotting \n",
    "label = ['waterfront', 'greenbelt', 'nuisance']    #Labels for the legend and labels\n",
    "r = np.arange(2)    # Spacing for the bar plots\n",
    "width = 2    # Basic width of each bar\n",
    "index = 0    # Index through all the groups\n",
    "\n",
    "### Plot each of the groups side by side for clarity\n",
    "for group in [x_group1, x_group2, x_group3]:\n",
    "    ax.bar(r + width * index, group, label = '{} - Difference: {:,}'.format(label[index], abs(round(group[1]-group[0]))));\n",
    "    index += 1\n",
    "### Ticks labeling and spacing \n",
    "x_ticks = np.arange(6)    \n",
    "y_ticks = np.arange(0,1750000, 250000)\n",
    "y_ticks_str = ['${:,}'.format(y) for y in y_ticks]\n",
    "\n",
    "plt.title('Categorical Mean Comparison');\n",
    "plt.xlabel('Category')\n",
    "plt.ylabel('Mean Price');\n",
    "plt.xticks(x_ticks, ['No','Yes','No','Yes','No','Yes']);\n",
    "\n",
    "ax.set_yticks(np.arange(0,1750000, 250000));\n",
    "ax.set_yticklabels(y_ticks_str);\n",
    "\n",
    "plt.legend(loc = 'lower right');"
   ]
  },
  {
   "cell_type": "markdown",
   "id": "c6dfd7fd-8259-4c8c-9928-5268f1dc5284",
   "metadata": {
    "tags": []
   },
   "source": [
    "### Categorical adjustment\n",
    "There are observation that have very few observation so I will group them up as 'others'. This is only applied to the categorical dataype. <br>\n",
    "For the numerical observation with few observations, they will be plotted in bar graphs\n",
    "\n",
    "Results: A house cost more if they are at the waterfront or at a greenbelt. There is a general price increase with the higher conditon and view <br>\n",
    "None Impactful: Nuisance, whether there is any or not, seems to have no effect on price to make a difference. <br>\n",
    "Potential Impactful: Heat Source and sewer may have some influence but doesn't seems to be a strong one.  <br>"
   ]
  },
  {
   "cell_type": "code",
   "execution_count": null,
   "id": "ccc28e57-61c4-4141-baf1-bac91358f0d9",
   "metadata": {},
   "outputs": [],
   "source": [
    "df_basement_0s = df_cleaned.loc[df_cleaned['sqft_basement'] != 0]#.plot.scatter('sqft_basement', y = 'price')\n",
    "model, result = helpers.dp.create_model(df_basement_0s, 'sqft_basement', 'price')\n",
    "model2, result2 = helpers.dp.create_model(df_cleaned, 'sqft_basement', 'price')\n",
    "\n",
    "\n",
    "fig, ax = plt.subplots(nrows= 2, figsize = (15,15))\n",
    "df_cleaned.loc[df_cleaned['sqft_basement'] != 0].plot.scatter('sqft_basement', y = 'price', ax = ax[0])\n",
    "sm.graphics.abline_plot(model_results= result , c = 'r', ax = ax[0], alpha = .5, label = '{}* sqft + {}'.format(round(result.params[1]), round(result.params[0])));\n",
    "ax[0].legend()\n",
    "\n",
    "df_cleaned.plot.scatter('sqft_basement', y = 'price', ax = ax[1])\n",
    "sm.graphics.abline_plot(model_results= result2, c = 'r', ax = ax[1], alpha = .5, label = '{}* sqft + {}'.format(round(result2.params[1]), round(result2.params[0])));\n",
    "ax[1].legend()"
   ]
  },
  {
   "cell_type": "code",
   "execution_count": null,
   "id": "884edd09-0338-435a-9b16-2f4087405fd3",
   "metadata": {},
   "outputs": [],
   "source": [
    "models_sqft = {}\n",
    "fig, ax = plt.subplots(nrows= 6, figsize = (15,30))\n",
    "index = 0\n",
    "for category in ['sqft_patio', 'sqft_garage', 'sqft_basement']:\n",
    "    df_filtered = df_cleaned.loc[df_cleaned[category] != 0]#.plot.scatter('sqft_basement', y = 'price')\n",
    "    \n",
    "    model, result = helpers.dp.create_model(df_filtered, category, 'price')\n",
    "    model2, result2 = helpers.dp.create_model(df_cleaned, category, 'price')\n",
    "    \n",
    "    models_sqft[category] = model;\n",
    "    \n",
    "    df_filtered.plot.scatter(category, y = 'price', ax = ax[index])\n",
    "    sm.graphics.abline_plot(model_results= result , c = 'r', ax = ax[index], alpha = .5, label = '{}* sqft + {}'.format(round(result.params[1]), round(result.params[0])));\n",
    "    ax[index].legend()\n",
    "\n",
    "    df_cleaned.plot.scatter(category, y = 'price', ax = ax[index +1 ])\n",
    "    sm.graphics.abline_plot(model_results= result2, c = 'r', ax = ax[index + 1], alpha = .5, label = '{}* sqft + {}'.format(round(result2.params[1]), round(result2.params[0])));\n",
    "    ax[index + 1].legend()\n",
    "\n",
    "    index += 2"
   ]
  },
  {
   "cell_type": "code",
   "execution_count": null,
   "id": "48d006bd-a571-439b-a155-ec8d77a9c36b",
   "metadata": {},
   "outputs": [],
   "source": [
    "df_logs = {}\n",
    "for column in  continuous[1:]:\n",
    "    slice_df = df_cleaned.loc[df_cleaned[column] != 0]\n",
    "    df_logs[column] = helpers.de.apply_log(slice_df, [column])\n",
    "    \n",
    "fig, ax = plt.subplots(ncols= 3, nrows = 2, figsize = (20,10))\n",
    "row = 0 \n",
    "col = 0\n",
    "\n",
    "for variable in continuous[1:]:\n",
    "    df_logs[variable].plot.scatter(x = variable, y = 'price', ax = ax[row][col])\n",
    "    ax[row][col].set_title(variable)\n",
    "    if col == 2:\n",
    "        row += 1\n",
    "        col = 0\n",
    "    else:\n",
    "        col += 1\n",
    "\n",
    "plt.tight_layout()"
   ]
  },
  {
   "cell_type": "code",
   "execution_count": null,
   "id": "a10493c2-6d38-4fd8-bebd-f1d0ccaf8dad",
   "metadata": {},
   "outputs": [],
   "source": [
    "df_cleaned_grouped = df_cleaned.copy()\n",
    "for column in ['view', 'condition', 'grade',\n",
    "       'heat_source', 'sewer_system']:\n",
    "    replace = df_cleaned_grouped[column].value_counts()[df_cleaned_grouped[column].value_counts() < 300].index\n",
    "    df_cleaned_grouped[column].replace(replace, value= 'other',inplace= True)"
   ]
  },
  {
   "cell_type": "code",
   "execution_count": null,
   "id": "58b2a077-1bb6-4e98-99d3-ea0f6ada0cc6",
   "metadata": {},
   "outputs": [],
   "source": [
    "df_cleaned_grouped['grade'] = df_cleaned_grouped['grade'].astype(str)\n",
    "df_cleaned_grouped['grade'].value_counts()"
   ]
  },
  {
   "cell_type": "code",
   "execution_count": null,
   "id": "1f5d1e2b-8b67-43ac-8d42-3ddfc0b37e6e",
   "metadata": {},
   "outputs": [],
   "source": [
    "df_dummy_other = pd.get_dummies(df_cleaned_grouped, drop_first= True)\n",
    "for level in [5,6,7,8,9,'other']:\n",
    "    df_dummy_other['grade{}*living'.format(level)] = df_dummy_other['grade_{}'.format(level)] * df_dummy_other['sqft_living']"
   ]
  },
  {
   "cell_type": "code",
   "execution_count": null,
   "id": "19fe3c76-98ab-4dfb-b71b-a26d5e5ad727",
   "metadata": {},
   "outputs": [],
   "source": [
    "X = df_dummy_other[['bedrooms', 'bathrooms', 'sqft_living', 'sqft_lot',\n",
    "       'sqft_above', 'sqft_basement', 'sqft_garage', 'sqft_patio', 'yr_built',\n",
    "       'yr_renovated', 'relative_age', 'greenbelt_YES', \n",
    "        'grade_5', 'grade_6', 'grade_7', 'grade_8',\n",
    "       'grade_9', 'grade_other',\n",
    "    'sewer_system_PUBLIC', \n",
    "       'grade5*living', 'grade7*living', 'grade8*living',\n",
    "       'grade9*living', 'gradeother*living']]\n",
    "y = df_dummy_other['price']\n",
    "model_dummies = sm.OLS(y, sm.add_constant(X))\n",
    "results_dummies = model_dummies.fit()\n",
    "print(results_dummies.summary())\n",
    "\n",
    "for index in np.arange(0,40,5):\n",
    "    fig = plt.figure(figsize=(15,8))\n",
    "    sm.graphics.plot_partregress_grid(\n",
    "        results_dummies,\n",
    "        exog_idx=list(X.columns[index:index + 5].values),\n",
    "        grid=(3,5),\n",
    "        fig=fig);\n",
    "    plt.show();"
   ]
  },
  {
   "cell_type": "code",
   "execution_count": null,
   "id": "f7842340-e20f-4bba-876e-037659208246",
   "metadata": {},
   "outputs": [],
   "source": [
    "df_cleaned"
   ]
  },
  {
   "cell_type": "code",
   "execution_count": null,
   "id": "4995c804-8739-4bb2-a69b-4b2c6a1256a4",
   "metadata": {},
   "outputs": [],
   "source": [
    "df_limited_grade = df_cleaned.loc[(df_cleaned['grade'] == 5) | (df_cleaned['grade'] ==6) | (df_cleaned['grade'] ==7) | (df_cleaned['grade'] ==8) | (df_cleaned['grade'] ==9)]"
   ]
  },
  {
   "cell_type": "code",
   "execution_count": null,
   "id": "51af688c-c1ad-44ea-8fe4-a34f184f303a",
   "metadata": {},
   "outputs": [],
   "source": [
    "df_limited_grade['grade'] = df_limited_grade['grade'].astype(str)\n",
    "df_limited_grade['grade'].value_counts()\n",
    "df_grade_dum = pd.get_dummies(df_limited_grade, drop_first= True)\n"
   ]
  },
  {
   "cell_type": "code",
   "execution_count": null,
   "id": "49f1c507-8ee7-4297-8b35-1d711e71093e",
   "metadata": {},
   "outputs": [],
   "source": [
    "for level in [6,7,8,9]:\n",
    "    df_grade_dum['grade{}*living'.format(level)] = df_grade_dum['grade_{}'.format(level)] * df_dummy_other['sqft_living']"
   ]
  },
  {
   "cell_type": "code",
   "execution_count": null,
   "id": "979bddbb-c538-4250-9466-05179bee9707",
   "metadata": {},
   "outputs": [],
   "source": [
    "df_grade_dum.columns"
   ]
  },
  {
   "cell_type": "code",
   "execution_count": null,
   "id": "0f097c26-8d22-4f15-9e8e-e600a7ca2e26",
   "metadata": {},
   "outputs": [],
   "source": [
    "X = df_grade_dum[['bedrooms', 'bathrooms', 'sqft_living',\n",
    "       'sqft_above', 'sqft_basement', 'sqft_garage', 'sqft_patio', 'yr_built',\n",
    "       'yr_renovated', 'house_age', 'relative_age', 'waterfront_YES',\n",
    "       'greenbelt_YES', 'condition_Fair', 'condition_Good',\n",
    "       'condition_Poor', 'condition_Very Good', 'grade_6', 'grade_7',\n",
    "       'grade_8', 'grade_9',\n",
    "        'grade6*living', 'grade7*living',\n",
    "       'grade8*living', 'grade9*living']]\n",
    "y = df_grade_dum['price']\n",
    "model_dummies = sm.OLS(y, sm.add_constant(X))\n",
    "results_dummies = model_dummies.fit()\n",
    "print(results_dummies.summary())"
   ]
  },
  {
   "cell_type": "code",
   "execution_count": null,
   "id": "64dadb40-5a08-4d81-89c4-29c8aa84a68b",
   "metadata": {},
   "outputs": [],
   "source": [
    "for index in np.arange(0,40,5):\n",
    "    fig = plt.figure(figsize=(15,8))\n",
    "    sm.graphics.plot_partregress_grid(\n",
    "        results_dummies,\n",
    "        exog_idx=list(X.columns[index:index + 5].values),\n",
    "        grid=(3,5),\n",
    "        fig=fig);\n",
    "    plt.show();"
   ]
  },
  {
   "cell_type": "markdown",
   "id": "119a0e73-3272-40ae-a7ec-abd9fcdca1e8",
   "metadata": {},
   "source": [
    "## Testing Log On Sqft_living"
   ]
  },
  {
   "cell_type": "code",
   "execution_count": null,
   "id": "5b56d31e-0367-46a4-870f-3870ffad481d",
   "metadata": {},
   "outputs": [],
   "source": [
    "X = df_w_dummies[[ 'sqft_living', 'grade']]\n",
    "y = df_w_dummies['price']\n",
    "model_living_grade = sm.OLS(y, sm.add_constant(X))\n",
    "result_living_grade = model_living_grade.fit()\n",
    "print(result_living_grade.summary())\n",
    "print(result_living_grade.params)"
   ]
  },
  {
   "cell_type": "code",
   "execution_count": null,
   "id": "4ae49c6b-451f-49f7-9bf6-ae3cf6f321f4",
   "metadata": {},
   "outputs": [],
   "source": [
    "#1. Only sqft_living\n",
    "X = df_cleaned['sqft_living']\n",
    "y = df_cleaned['price']\n",
    "model_1 = sm.OLS(y, sm.add_constant(X))\n",
    "result_1 = model_1.fit()\n",
    "print(result_1.summary())"
   ]
  },
  {
   "cell_type": "code",
   "execution_count": null,
   "id": "5305ab54-b16e-490d-92b4-f3e13f0200af",
   "metadata": {},
   "outputs": [],
   "source": []
  },
  {
   "cell_type": "code",
   "execution_count": null,
   "id": "e4a3dc80-bb5c-4d0e-8aca-f861627f3fdf",
   "metadata": {},
   "outputs": [],
   "source": [
    "#1. Only sqft_living but logged\n",
    "df_w_dummies['sqft_log'] = np.log(df_w_dummies[['sqft_living']])\n",
    "X = df_w_dummies[[ 'sqft_log', 'grade']]\n",
    "y = df_w_dummies['price']\n",
    "model_living_grade = sm.OLS(y, sm.add_constant(X))\n",
    "result_living_grade = model_living_grade.fit()\n",
    "print(result_living_grade.summary())\n",
    "print(result_living_grade.params)"
   ]
  },
  {
   "cell_type": "markdown",
   "id": "23756a5e-7a9f-4862-8e98-4ecd33e9668a",
   "metadata": {},
   "source": [
    "## Testing Other Grade and Grouping "
   ]
  },
  {
   "cell_type": "code",
   "execution_count": null,
   "id": "6a49d09c-05f0-4c5f-a349-16660e18497d",
   "metadata": {},
   "outputs": [],
   "source": [
    "df_dum_other = df_w_dummies.copy() \n",
    "replace = df_dum_other['grade'].value_counts()[df_dum_other['grade'].value_counts()< 100].index\n",
    "df_dum_other['grade'].replace(replace, value= 'other',inplace= True)\n",
    "\n",
    "df_dum_other['grade'] = df_dum_other['grade'].astype(str)\n",
    "df_second_dum_other = pd.get_dummies(df_dum_other, columns= ['grade'], drop_first= True)\n",
    "\n",
    "X = df_second_dum_other[['sqft_living', 'grade_other', 'grade_11','grade_5',\n",
    "       'grade_6', 'grade_7', 'grade_8', 'grade_9']]\n",
    "y = df_second_dum_other['price']\n",
    "model_living_grade_3 = sm.OLS(y, sm.add_constant(X))\n",
    "result_living_grade_3 = model_living_grade_3.fit()\n",
    "print(result_living_grade_3.summary())"
   ]
  },
  {
   "cell_type": "markdown",
   "id": "6b4c32c6-c7ed-49bb-a4b2-62aba046d341",
   "metadata": {},
   "source": [
    "## Year vs grade"
   ]
  },
  {
   "cell_type": "code",
   "execution_count": null,
   "id": "ee807dd2-98bf-4389-9434-c7c4bf822d2a",
   "metadata": {},
   "outputs": [],
   "source": [
    "df_cleaned.plot.scatter('house_age',  'grade', alpha = .5)"
   ]
  },
  {
   "cell_type": "code",
   "execution_count": null,
   "id": "53817127-6087-44f2-9cbd-8c4a30a2c936",
   "metadata": {},
   "outputs": [],
   "source": [
    "for num in range(13):\n",
    "    count = len(df_cleaned['grade'].loc[df_cleaned['grade'] == num])\n",
    "    print(num, count, round(100*count/len(df_cleaned),2))"
   ]
  },
  {
   "cell_type": "code",
   "execution_count": null,
   "id": "6a71aa12-0ed0-4a3d-952e-01ddd34b6c60",
   "metadata": {},
   "outputs": [],
   "source": [
    "df_cleaned['grade'].hist()\n",
    "df_cleaned['grade'].mean()"
   ]
  },
  {
   "cell_type": "markdown",
   "id": "6b26dd25-2bbf-4936-bc56-c951756c8903",
   "metadata": {},
   "source": [
    "## Year and Renovated"
   ]
  },
  {
   "cell_type": "code",
   "execution_count": null,
   "id": "f4d65af6-ed79-451c-9bb6-ac22216e319d",
   "metadata": {},
   "outputs": [],
   "source": [
    "df_cleaned.plot.scatter('yr_built','yr_renovated')"
   ]
  },
  {
   "cell_type": "code",
   "execution_count": null,
   "id": "2739f271-3f0b-4424-b956-31caa4b7055b",
   "metadata": {},
   "outputs": [],
   "source": [
    "(df_cleaned['yr_renovated'] != 0).sum() / len(df_cleaned) * 100"
   ]
  },
  {
   "cell_type": "markdown",
   "id": "a121b231-970c-4b9a-9300-ee412d634817",
   "metadata": {},
   "source": [
    "## View and Greenbelt and Waterfront"
   ]
  },
  {
   "cell_type": "code",
   "execution_count": null,
   "id": "fd2437b6-e19f-40d0-a232-d45d90fdb83a",
   "metadata": {},
   "outputs": [],
   "source": [
    "df_cleaned[['view', 'greenbelt', 'waterfront']].loc[(df_cleaned['greenbelt'] == 'YES') | (df_cleaned['waterfront'] == 'YES')].value_counts()"
   ]
  },
  {
   "cell_type": "code",
   "execution_count": null,
   "id": "f2ec032b-a32f-4e68-9806-7cc8d54bc093",
   "metadata": {},
   "outputs": [],
   "source": [
    "df_cleaned[['view', 'greenbelt', 'waterfront']].loc[(df_cleaned['view'] == 'EXCELLENT')].value_counts()"
   ]
  },
  {
   "cell_type": "code",
   "execution_count": null,
   "id": "4025b1a0-44b0-4abb-b9fb-50bc06766dbe",
   "metadata": {},
   "outputs": [],
   "source": [
    "df_cleaned['yr_built'].min()"
   ]
  },
  {
   "cell_type": "code",
   "execution_count": null,
   "id": "6beae13c-d88f-40f2-94a3-8f5941ed979c",
   "metadata": {},
   "outputs": [],
   "source": [
    "df_cleaned['price'].describe()"
   ]
  },
  {
   "cell_type": "code",
   "execution_count": null,
   "id": "881946d9-d48a-4c15-896f-a9e948d1caa0",
   "metadata": {},
   "outputs": [],
   "source": []
  }
 ],
 "metadata": {
  "kernelspec": {
   "display_name": "Python 3 (ipykernel)",
   "language": "python",
   "name": "python3"
  },
  "language_info": {
   "codemirror_mode": {
    "name": "ipython",
    "version": 3
   },
   "file_extension": ".py",
   "mimetype": "text/x-python",
   "name": "python",
   "nbconvert_exporter": "python",
   "pygments_lexer": "ipython3",
   "version": "3.9.13"
  }
 },
 "nbformat": 4,
 "nbformat_minor": 5
}
