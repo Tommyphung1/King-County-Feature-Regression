{
 "cells": [
  {
   "cell_type": "code",
   "execution_count": 1,
   "id": "8eb9f55d-43a6-4061-97c2-1e851dd4dc5d",
   "metadata": {},
   "outputs": [],
   "source": [
    "import pandas as pd\n",
    "import resources as helpers    # Has data_exploration, data_preperation and data_visualization\n",
    "\n"
   ]
  },
  {
   "cell_type": "code",
   "execution_count": 2,
   "id": "302b740c-174a-4e72-968a-84f49f680c6d",
   "metadata": {},
   "outputs": [],
   "source": [
    "df = pd.read_csv('dsc-phase-2-project-v2-5-main/data/kc_house_data.csv')\n"
   ]
  },
  {
   "cell_type": "markdown",
   "id": "39fa3518-3ef7-4f3a-b7f8-0b7b4ddaff1d",
   "metadata": {},
   "source": [
    "First initial look are data frame\n",
    "The Data Frame columns that will be useful will be price for the dependent y value\n",
    "Id is just to keep track the house but that is not needed to interpritation\n",
    "Data should be useful but might give insight to curent economic status\n",
    "Useful features of a house might be \n",
    "['bedrooms', 'bathrooms', 'sqft_living', 'sqft_lot', 'floors', 'waterfront','nuisance','view', 'condition', 'grade', 'heat_source', 'sewer_system', 'sqft_above', 'sqft_basement', 'sqft_garage', 'sqft_patio', 'yr_built', 'yr_renovated', 'address']"
   ]
  },
  {
   "cell_type": "markdown",
   "id": "c18ba9be-77ad-4b3a-9957-fbd01a1e8492",
   "metadata": {},
   "source": [
    "## Data Preperations\n",
    "**Remove and drop columns and rows with few missing values for the data frame** <br>\n",
    "**Seperate dateframe in categories and numeric data types** "
   ]
  },
  {
   "cell_type": "code",
   "execution_count": 3,
   "id": "bc2ce6de-f470-4592-b801-99fa2c75a2fd",
   "metadata": {},
   "outputs": [
    {
     "name": "stdout",
     "output_type": "stream",
     "text": [
      "Dropping rows: heat_source\n",
      "Dropping rows: sewer_system\n"
     ]
    },
    {
     "data": {
      "text/plain": [
       "id               0\n",
       "date             0\n",
       "price            0\n",
       "bedrooms         0\n",
       "bathrooms        0\n",
       "sqft_living      0\n",
       "sqft_lot         0\n",
       "floors           0\n",
       "waterfront       0\n",
       "greenbelt        0\n",
       "nuisance         0\n",
       "view             0\n",
       "condition        0\n",
       "grade            0\n",
       "heat_source      0\n",
       "sewer_system     0\n",
       "sqft_above       0\n",
       "sqft_basement    0\n",
       "sqft_garage      0\n",
       "sqft_patio       0\n",
       "yr_built         0\n",
       "yr_renovated     0\n",
       "address          0\n",
       "lat              0\n",
       "long             0\n",
       "dtype: int64"
      ]
     },
     "metadata": {},
     "output_type": "display_data"
    }
   ],
   "source": [
    "prepared_df = helpers.dp.check_and_drop(df)    # Removed dups and missing values\n",
    "useless_columns = ['id', 'date', 'lat', 'long', 'address']    #Not useful columns\n",
    "prepared_df.drop(useless_columns, axis= 1, inplace = True)    #Drop useless columns\n",
    "df_numeric, df_categories = helpers.dp.seperate_dataframe(df)    #Seperate the dataframe from categories and numeric\n",
    "useful_columns = ['sqft_living','sqft_above','bathrooms','sqft_patio'\n",
    "                  ,'bedrooms','sqft_garage','sqft_basement']    #Most correlations from these listed columns\n"
   ]
  },
  {
   "cell_type": "code",
   "execution_count": 5,
   "id": "85adef19-9770-41e7-b120-07e4a920170f",
   "metadata": {},
   "outputs": [
    {
     "name": "stdout",
     "output_type": "stream",
     "text": [
      "                            OLS Regression Results                            \n",
      "==============================================================================\n",
      "Dep. Variable:                  price   R-squared:                       1.000\n",
      "Model:                            OLS   Adj. R-squared:                  1.000\n",
      "Method:                 Least Squares   F-statistic:                 3.554e+32\n",
      "Date:                Fri, 13 Jan 2023   Prob (F-statistic):               0.00\n",
      "Time:                        00:41:18   Log-Likelihood:             5.5514e+05\n",
      "No. Observations:               30111   AIC:                        -1.110e+06\n",
      "Df Residuals:                   30098   BIC:                        -1.110e+06\n",
      "Df Model:                          12                                         \n",
      "Covariance Type:            nonrobust                                         \n",
      "=================================================================================\n",
      "                    coef    std err          t      P>|t|      [0.025      0.975]\n",
      "---------------------------------------------------------------------------------\n",
      "const         -5.879e-09   1.24e-09     -4.733      0.000   -8.31e-09   -3.44e-09\n",
      "price             1.0000      2e-17   5.01e+16      0.000       1.000       1.000\n",
      "bedrooms       3.683e-11   1.93e-11      1.912      0.056   -9.16e-13    7.46e-11\n",
      "bathrooms     -7.731e-11   2.81e-11     -2.750      0.006   -1.32e-10   -2.22e-11\n",
      "sqft_living    2.132e-13   6.39e-14      3.337      0.001    8.79e-14    3.38e-13\n",
      "sqft_lot       3.018e-16   2.35e-16      1.283      0.200   -1.59e-16    7.63e-16\n",
      "floors        -8.731e-11   3.37e-11     -2.587      0.010   -1.53e-10   -2.12e-11\n",
      "sqft_above    -2.451e-13    6.5e-14     -3.771      0.000   -3.73e-13   -1.18e-13\n",
      "sqft_basement  4.974e-14   4.77e-14      1.043      0.297   -4.37e-14    1.43e-13\n",
      "sqft_garage   -2.789e-13   6.61e-14     -4.217      0.000   -4.09e-13   -1.49e-13\n",
      "sqft_patio    -1.732e-13   6.25e-14     -2.772      0.006   -2.96e-13   -5.07e-14\n",
      "yr_built       3.752e-12   6.43e-13      5.832      0.000    2.49e-12    5.01e-12\n",
      "yr_renovated   7.638e-14   3.48e-14      2.192      0.028    8.09e-15    1.45e-13\n",
      "==============================================================================\n",
      "Omnibus:                    37384.658   Durbin-Watson:                   0.234\n",
      "Prob(Omnibus):                  0.000   Jarque-Bera (JB):         12586400.045\n",
      "Skew:                          -6.475   Prob(JB):                         0.00\n",
      "Kurtosis:                     102.319   Cond. No.                     1.29e+08\n",
      "==============================================================================\n",
      "\n",
      "Notes:\n",
      "[1] Standard Errors assume that the covariance matrix of the errors is correctly specified.\n",
      "[2] The condition number is large, 1.29e+08. This might indicate that there are\n",
      "strong multicollinearity or other numerical problems.\n"
     ]
    }
   ],
   "source": [
    "model, results = helpers.dp.create_model(df, df_numeric.columns, 'price')\n",
    "print(results.summary())"
   ]
  },
  {
   "cell_type": "code",
   "execution_count": null,
   "id": "d6fd184c-fd3e-46d7-a017-3121b42c7715",
   "metadata": {},
   "outputs": [],
   "source": []
  }
 ],
 "metadata": {
  "kernelspec": {
   "display_name": "Python 3 (ipykernel)",
   "language": "python",
   "name": "python3"
  },
  "language_info": {
   "codemirror_mode": {
    "name": "ipython",
    "version": 3
   },
   "file_extension": ".py",
   "mimetype": "text/x-python",
   "name": "python",
   "nbconvert_exporter": "python",
   "pygments_lexer": "ipython3",
   "version": "3.9.13"
  }
 },
 "nbformat": 4,
 "nbformat_minor": 5
}
