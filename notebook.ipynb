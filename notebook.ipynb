{
 "cells": [
  {
   "cell_type": "markdown",
   "id": "7e36f456-74fd-448a-80fb-463ed3375f2d",
   "metadata": {},
   "source": [
    "# Phase 2 Project "
   ]
  },
  {
   "cell_type": "markdown",
   "id": "d0aa9ec2-c722-443a-829a-f6571edc7aa1",
   "metadata": {},
   "source": [
    "## Overview"
   ]
  },
  {
   "cell_type": "markdown",
   "id": "ea6b6571-a579-4bc8-b3ac-4a7f88baa4bf",
   "metadata": {
    "tags": []
   },
   "source": [
    "## Business Understanding "
   ]
  },
  {
   "cell_type": "code",
   "execution_count": null,
   "id": "8eb9f55d-43a6-4061-97c2-1e851dd4dc5d",
   "metadata": {},
   "outputs": [],
   "source": [
    "import pandas as pd\n",
    "import resources as helpers    # Has data_exploration, data_preperation and data_visualization\n",
    "import matplotlib.pyplot as plt\n",
    "import statsmodels.api as sm\n",
    "import warnings\n",
    "warnings.filterwarnings(\"ignore\")\n",
    "%matplotlib inline"
   ]
  },
  {
   "cell_type": "markdown",
   "id": "7c39e03f-4b11-4ad0-9c1a-f79d75910930",
   "metadata": {
    "tags": []
   },
   "source": [
    "## Data Understanding\n",
    "\n",
    "**Columns:** <br>\n",
    "id, date, price, bedrooms, bathrooms, sqft_living, sqft_lot, floors, waterfront,  <br>\n",
    "greenbelt, nuisance, view, condition, grade, heat_source, sewer_system, sqft_above, <br>\n",
    "sqft_basement, sqft_garage, sqft_patio, yr_built, yr_renovated, address, lat, long  <br>\n",
    "\n",
    "For this project, we will be looking at variables that would have a strong impact to price. Some features of a house won't be needed and will be removed from the dataset. From the initial look at the data; date, lat, long, address, and id shouldn't have any effect on price. There are quite a bit of independent variables to choose from so I will be limiting them to the ones with the highest positive correlation to price, our dependent variable for this project. \n",
    "\n",
    "**Used Columns and Correlation:** <br>\n",
    "sqft_living: 0.6085, sqft_above: 0.5386, bathrooms: 0.4804, sqft_patio, 0.3134, bedrooms: 0.2892, <br>\n",
    "sqft_garage: 0.2641, sqft_basement: 0.2450, floors: 0.1805, yr_built: 0.0960, sqft_lot: 0.0857 <br>"
   ]
  },
  {
   "cell_type": "code",
   "execution_count": null,
   "id": "302b740c-174a-4e72-968a-84f49f680c6d",
   "metadata": {},
   "outputs": [],
   "source": [
    "df = pd.read_csv('dsc-phase-2-project-v2-5-main/data/kc_house_data.csv')\n",
    "df.head()"
   ]
  },
  {
   "cell_type": "code",
   "execution_count": null,
   "id": "70644a43-343c-4803-968c-cd2c04ba8e83",
   "metadata": {},
   "outputs": [],
   "source": [
    "## Useful from first impressions\n",
    "useful_col = ['price', 'bedrooms', 'bathrooms', 'sqft_living', 'sqft_lot', 'floors', 'waterfront'\n",
    "              , 'greenbelt', 'nuisance', 'view', 'condition', 'grade', 'heat_source', 'sewer_system'\n",
    "              , 'sqft_above', 'sqft_basement', 'sqft_garage', 'sqft_patio']\n",
    "## Currently not useful columns\n",
    "useless_col = ['date', 'id', 'lat', 'long', 'address']\n",
    "## Columns with categorical data\n",
    "categorical = [ 'bedrooms', 'bathrooms', 'floors', 'waterfront', 'greenbelt', 'nuisance'\n",
    "               , 'view', 'condition', 'grade', 'heat_source', 'sewer_system']\n",
    "continuous = [column for column in useful_col if column not in categorical]"
   ]
  },
  {
   "cell_type": "markdown",
   "id": "966d1934-5b9d-436a-98d6-71490d4b7054",
   "metadata": {
    "tags": []
   },
   "source": [
    "## Data Preperation 1"
   ]
  },
  {
   "cell_type": "markdown",
   "id": "cd476aa9-2f15-4bd0-a727-b50ce08aab94",
   "metadata": {},
   "source": [
    "### Data Cleaning\n",
    "**Actions needed:** <br>\n",
    "1. Remove duplicates\n",
    "2. Remove NaN and missing values\n",
    "3. Remove unneeded columns\n",
    "4. Remove outliers\n",
    "5. Format 'grade'\n",
    "After looking through the dataset, I organized the dataset between useful, categorical, and continuous data. Categorical need to be prepared for modeling. <br>\n",
    "There were some missing values and duplcates that need to be removed as well as the columns that won't be used. I took a glimpes of the graph and noticed some outliers in price for the houses. Those were removed to avoid any skewing in the graphs and models. \n",
    "After looking at some results and comparing the given column information, the column 'grade' is redudant with the added explaination so they will be convert to strictly integer for manipluation"
   ]
  },
  {
   "cell_type": "code",
   "execution_count": null,
   "id": "60da0337-3987-463d-a8d1-dda7adeb10d2",
   "metadata": {},
   "outputs": [],
   "source": [
    "df_cleaned = helpers.dp.check_and_drop(df)    ## Dropped and removed rows that has small amount of missing values\n",
    "df_cleaned = helpers.dp.outliers_remove(df_cleaned, 'price')    ## Remove outliers of price\n",
    "df_cleaned.drop(labels = useless_col, axis = 1, inplace = True)    # Drop columns that wont be useful right now\n",
    "\n",
    "df_cleaned.replace(df_cleaned['grade'].value_counts().index, ['7','8','9','6','10','5','12','4','13','3','1','2'], inplace= True)"
   ]
  },
  {
   "cell_type": "markdown",
   "id": "39efaa73-d189-46e4-8a04-a26186aa5deb",
   "metadata": {},
   "source": [
    "## Baseline Models"
   ]
  },
  {
   "cell_type": "markdown",
   "id": "532ff948-15b1-42a3-8166-959e5419fa71",
   "metadata": {
    "tags": []
   },
   "source": [
    "### Single Variable Models\n",
    "\n",
    "Every used variables will be modeled with price to see if there is a strong relationship present individually"
   ]
  },
  {
   "cell_type": "markdown",
   "id": "ab07c739-004f-40ac-9b37-dd71a94be0f7",
   "metadata": {
    "tags": []
   },
   "source": [
    "### All Used Parameters "
   ]
  },
  {
   "cell_type": "code",
   "execution_count": null,
   "id": "adf5b5c5-21d9-4940-963f-6ef94b4b88dd",
   "metadata": {},
   "outputs": [],
   "source": [
    "df_cleaned_all = pd.get_dummies(df_cleaned, drop_first= True)\n",
    "X_all = df_cleaned_all[df_cleaned_all.columns[1:]]\n",
    "y = df_cleaned_all['price']\n",
    "model_all = sm.OLS(y, sm.add_constant(X_all))\n",
    "result_all = model_all.fit()\n",
    "print(result_all.summary())"
   ]
  },
  {
   "cell_type": "code",
   "execution_count": null,
   "id": "b23d358e-878c-4b99-9d0e-49a85e7a3f70",
   "metadata": {},
   "outputs": [],
   "source": [
    "result_all.pvalues > .05\n",
    "zip(result_all.pvalues.index, result_all.pvalues.values)\n",
    "p_values_list_not = {index:value for index, value in zip(result_all.pvalues.index, result_all.pvalues.values) if value > .05}\n",
    "print('Variables that were not statistically significant (alpha = .05):')\n",
    "for key in p_values_list_not:\n",
    "    print('{}: p_value = {}'.format(key, round(p_values_list_not[key],4)))"
   ]
  },
  {
   "cell_type": "markdown",
   "id": "2afe3a28-1120-4096-b703-c527c9685036",
   "metadata": {},
   "source": [
    "### Actions needed to take"
   ]
  },
  {
   "cell_type": "code",
   "execution_count": null,
   "id": "9dd51eac-a026-43e8-9c16-dd558281513c",
   "metadata": {},
   "outputs": [],
   "source": [
    "df_basement_0s = df_prepped_continuous.loc[df_prepped_continuous['sqft_basement'] != 0]#.plot.scatter('sqft_basement', y = 'price')\n",
    "model, result = helpers.dp.create_model(df_basement_0s, 'sqft_basement', 'price')\n",
    "model2, result2 = helpers.dp.create_model(df_prepped_continuous, 'sqft_basement', 'price')\n",
    "fig, ax = plt.subplots(ncols= 2, figsize = (15,15))\n",
    "df_prepped_continuous.loc[df_prepped_continuous['sqft_basement'] != 0].plot.scatter('sqft_basement', y = 'price', ax = ax[0])\n",
    "sm.graphics.abline_plot(model_results= result , c = 'r', ax = ax[0], alpha = .5, label = '{}* sqft + {}'.format(round(result.params[1]), round(result.params[0])));\n",
    "ax[0].legend()\n",
    "df_prepped_continuous.plot.scatter('sqft_basement', y = 'price', ax = ax[1])\n",
    "sm.graphics.abline_plot(model_results= result2, c = 'r', ax = ax[1], alpha = .5, label = '{}* sqft + {}'.format(round(result2.params[1]), round(result2.params[0])));\n",
    "ax[1].legend()"
   ]
  },
  {
   "cell_type": "code",
   "execution_count": null,
   "id": "e68d539b-18d9-4f7e-8f4e-5de5ef5aec71",
   "metadata": {},
   "outputs": [],
   "source": [
    "print(result.params, '\\n', result2.params)"
   ]
  },
  {
   "cell_type": "code",
   "execution_count": null,
   "id": "b83843ac-45c2-4c78-b344-ccc70ec0120c",
   "metadata": {},
   "outputs": [],
   "source": [
    "all_model, all_results = helpers.dp.create_model(df_prepped, used_columns, 'price')\n",
    "print('R-Squared = {}'.format(all_results.rsquared))\n",
    "print(all_results.summary())"
   ]
  },
  {
   "cell_type": "code",
   "execution_count": null,
   "id": "287a583f-1230-428c-ab93-260701eebd15",
   "metadata": {},
   "outputs": [],
   "source": [
    "df_log = helpers.de.apply_log(df_prepped, used_columns)\n",
    "fig, ax = helpers.dv.plot_dataframe(df_log, used_columns, (10,50), regression= True, results= results);"
   ]
  },
  {
   "cell_type": "code",
   "execution_count": null,
   "id": "45b85cd4-46c9-430d-a2e3-317fbcdbfb24",
   "metadata": {},
   "outputs": [],
   "source": [
    "for column in ['sqft_basement', 'sqft_patio', 'sqft_garage']:\n",
    "    print('Mean price with {}: {}'.format(column, df_prepped_continuous['price'].loc[df_prepped_continuous[column] != 0].mean()))\n",
    "    print('Mean price without {}: {}'.format(column, df_prepped_continuous['price'].loc[df_prepped_continuous[column] == 0].mean()))\n",
    "    print('Number of people with {}: {}'.format(column, len(df_prepped_continuous[column].loc[df_prepped_continuous[column] != 0])))\n",
    "    print('Number of people without {}: {}'.format(column, len(df_prepped_continuous[column].loc[df_prepped_continuous[column] == 0])))"
   ]
  },
  {
   "cell_type": "markdown",
   "id": "efa9251e-b3a0-45b9-82df-9444bf9b2e6d",
   "metadata": {
    "tags": []
   },
   "source": [
    "## Data Adjustments\n",
    "As mentioned before, categorical data need to be prepped with dummy variables for modeling. There were also some categories that have less than 1% of observations that were binned as 'others'. 1% of the observation was determined to be roughly 300 observations"
   ]
  },
  {
   "cell_type": "code",
   "execution_count": null,
   "id": "7387aae8-44bd-4d4f-b6c7-fd5411fac162",
   "metadata": {},
   "outputs": [],
   "source": [
    "for column in categorical:\n",
    "    replace = df_cleaned[column].value_counts()[df_cleaned[column].value_counts()< 300].index\n",
    "    if len(replace) > 0 : print('Replaced values {} in {}'.format(list(replace), column))\n",
    "    df_cleaned[column].replace(replace, value= 'other',inplace= True)\n",
    "\n",
    "df_cleaned_all = pd.get_dummies(df_cleaned, drop_first= True)\n",
    "df_prepped_continuous = df_cleaned[continuous].copy()\n",
    "df_prepped_categories = df_cleaned[categorical].copy()\n",
    "\n",
    "df_cat_price = pd.concat([df_prepped_categories, df_prepped_continuous['price']], axis = 1)"
   ]
  },
  {
   "cell_type": "markdown",
   "id": "b1b9a2bf-42df-497d-b9e7-c612167ffb43",
   "metadata": {},
   "source": [
    "## Data Analysis - Simple Regression Lines\n"
   ]
  },
  {
   "cell_type": "code",
   "execution_count": null,
   "id": "4d03ccb1-4c5d-47bc-807c-dd6e687abc40",
   "metadata": {},
   "outputs": [],
   "source": []
  },
  {
   "cell_type": "markdown",
   "id": "d5a2320e-f9f2-41b3-b4cf-256715d96e26",
   "metadata": {},
   "source": [
    "### Actions needed to take\n",
    "Look into the following parameters to see if they should be added or removed from the final model. "
   ]
  },
  {
   "cell_type": "markdown",
   "id": "cdf52705-de7b-4c46-8afc-9a501fb32786",
   "metadata": {},
   "source": [
    "## Conclusion"
   ]
  },
  {
   "cell_type": "markdown",
   "id": "54795324-89cf-46e3-b3ef-3d3580c73ac1",
   "metadata": {},
   "source": [
    "## Next Steps"
   ]
  },
  {
   "cell_type": "markdown",
   "id": "39fa3518-3ef7-4f3a-b7f8-0b7b4ddaff1d",
   "metadata": {},
   "source": [
    "First initial look are data frame\n",
    "The Data Frame columns that will be useful will be price for the dependent y value\n",
    "Id is just to keep track the house but that is not needed to interpritation\n",
    "Data should be useful but might give insight to curent economic status\n",
    "Useful features of a house might be \n",
    "['bedrooms', 'bathrooms', 'sqft_living', 'sqft_lot', 'floors', 'waterfront','nuisance','view', 'condition', 'grade', 'heat_source', 'sewer_system', 'sqft_above', 'sqft_basement', 'sqft_garage', 'sqft_patio', 'yr_built', 'yr_renovated', 'address']"
   ]
  },
  {
   "cell_type": "markdown",
   "id": "c18ba9be-77ad-4b3a-9957-fbd01a1e8492",
   "metadata": {},
   "source": [
    "## Data Preperations\n",
    "**Remove and drop columns and rows with few missing values for the data frame** <br>\n",
    "**Seperate dateframe in categories and numeric data types** "
   ]
  },
  {
   "cell_type": "code",
   "execution_count": null,
   "id": "bc2ce6de-f470-4592-b801-99fa2c75a2fd",
   "metadata": {},
   "outputs": [],
   "source": [
    "prepared_df = helpers.dp.check_and_drop(df)    # Removed dups and missing values\n",
    "useless_columns = ['id', 'date', 'lat', 'long', 'address']    #Not useful columns\n",
    "prepared_df.drop(useless_columns, axis= 1, inplace = True)    #Drop useless columns\n",
    "df_numeric, df_categories = helpers.dp.seperate_dataframe(df)    #Seperate the dataframe from categories and numeric\n",
    "useful_columns = ['sqft_living','sqft_above','bathrooms','sqft_patio'\n",
    "                  ,'bedrooms','sqft_garage','sqft_basement']    #Most correlations from these listed columns\n"
   ]
  },
  {
   "cell_type": "code",
   "execution_count": null,
   "id": "85adef19-9770-41e7-b120-07e4a920170f",
   "metadata": {},
   "outputs": [],
   "source": [
    "model, results = helpers.dp.create_model(df, df_numeric.columns, 'price')\n",
    "print(results.summary())"
   ]
  },
  {
   "cell_type": "code",
   "execution_count": null,
   "id": "d6fd184c-fd3e-46d7-a017-3121b42c7715",
   "metadata": {},
   "outputs": [],
   "source": []
  },
  {
   "cell_type": "code",
   "execution_count": null,
   "id": "245c7f3f-af30-43cc-ae94-e61bf053cfcd",
   "metadata": {},
   "outputs": [],
   "source": [
    "round(.00111,5)"
   ]
  },
  {
   "cell_type": "code",
   "execution_count": null,
   "id": "c61db301-1857-4a1b-bfd9-10ed686d224a",
   "metadata": {},
   "outputs": [],
   "source": []
  }
 ],
 "metadata": {
  "kernelspec": {
   "display_name": "Python 3 (ipykernel)",
   "language": "python",
   "name": "python3"
  },
  "language_info": {
   "codemirror_mode": {
    "name": "ipython",
    "version": 3
   },
   "file_extension": ".py",
   "mimetype": "text/x-python",
   "name": "python",
   "nbconvert_exporter": "python",
   "pygments_lexer": "ipython3",
   "version": "3.9.13"
  }
 },
 "nbformat": 4,
 "nbformat_minor": 5
}
