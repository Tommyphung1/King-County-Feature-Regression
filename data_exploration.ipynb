{
 "cells": [
  {
   "cell_type": "markdown",
   "id": "0ee7f50d-9c86-433c-8a87-328943f65e67",
   "metadata": {
    "tags": []
   },
   "source": [
    "### Dataframe exploration"
   ]
  },
  {
   "cell_type": "code",
   "execution_count": null,
   "id": "1ae6c071-8258-48eb-9793-12726d31ae3b",
   "metadata": {},
   "outputs": [],
   "source": [
    "import resources as helpers\n",
    "import pandas as pd\n",
    "import numpy as np\n",
    "import statsmodels.api as sm\n",
    "import matplotlib.pyplot as plt\n",
    "import warnings\n",
    "warnings.filterwarnings(\"ignore\")"
   ]
  },
  {
   "cell_type": "code",
   "execution_count": null,
   "id": "26194647-79b4-4fa7-af40-b2fe96f1ac4f",
   "metadata": {},
   "outputs": [],
   "source": []
  },
  {
   "cell_type": "code",
   "execution_count": null,
   "id": "a50ade98-71de-4027-88d8-4a367de837c8",
   "metadata": {},
   "outputs": [],
   "source": [
    "## All categories and the number of times they appear\n",
    "for column in list(df_num_cat.columns[0:-1]):\n",
    "    replace = df_num_cat[column].value_counts()[df_num_cat[column].value_counts()< 300].index\n",
    "    df_num_cat[column].replace(replace, value= 'other',inplace= True)\n",
    "    print(df_num_cat[column].value_counts())"
   ]
  },
  {
   "cell_type": "code",
   "execution_count": null,
   "id": "fc2e6ba7-76d4-40f1-a7c9-d8119a59ccd5",
   "metadata": {},
   "outputs": [],
   "source": [
    "for column in list(df_num_only.columns):\n",
    "    #replace = df_num_cat[column].value_counts()[df_num_cat[column].value_counts()< 300].index\n",
    "    #df_num_cat[column].replace(replace, value= 'other',inplace= True)\n",
    "    print(df_num_only[column].value_counts())"
   ]
  },
  {
   "cell_type": "code",
   "execution_count": null,
   "id": "d79a9b14-d0c0-4ba1-86da-4a4517eefe0d",
   "metadata": {},
   "outputs": [],
   "source": [
    "x_list = [column for column in df_obj_cat.columns if column not in 'price']\n",
    "\n",
    "X_cat = pd.get_dummies(df_obj_cat[x_list], drop_first= True)\n",
    "y = df_cleaned['price']\n",
    "model = sm.OLS(y, sm.add_constant(X_cat))\n",
    "results = model.fit()\n",
    "for column in df_obj_cat.columns:\n",
    "    print(df_obj_cat[column].value_counts())"
   ]
  },
  {
   "cell_type": "code",
   "execution_count": null,
   "id": "fc67bae0-249d-41db-911c-a7630ab9c048",
   "metadata": {},
   "outputs": [],
   "source": [
    "x_list = [index for index in continuous if index != 'price']\n",
    "y = df_cleaned['price']\n",
    "X_num = df_num_only[x_list]\n",
    "\n",
    "model_num = sm.OLS(y, sm.add_constant(X_num))\n",
    "result_num = model_num.fit()\n"
   ]
  },
  {
   "cell_type": "code",
   "execution_count": null,
   "id": "fbb0328a-eb54-4057-85bc-c1de3f4fa370",
   "metadata": {},
   "outputs": [],
   "source": [
    "print(result_num.summary())"
   ]
  },
  {
   "cell_type": "code",
   "execution_count": null,
   "id": "03c65c31-5fc2-4fd5-af2c-1571b027204a",
   "metadata": {},
   "outputs": [],
   "source": [
    "num_cat_x_list = pd.concat([X_num, X_cat], axis= 1)\n",
    "model_combined = sm.OLS(y, sm.add_constant(num_cat_x_list))\n",
    "result_combined = model_combined.fit()\n",
    "result_combined"
   ]
  },
  {
   "cell_type": "code",
   "execution_count": null,
   "id": "b4aee313-af5a-4a7f-87ff-f84c6e52392d",
   "metadata": {},
   "outputs": [],
   "source": [
    "print(result_combined.summary())"
   ]
  },
  {
   "cell_type": "code",
   "execution_count": null,
   "id": "d7ecdacc-6da0-47bd-815f-7ae8bc4aac9d",
   "metadata": {},
   "outputs": [],
   "source": [
    "fig = plt.figure(figsize=(15,30))\n",
    "#sm.graphics.abline_plot(model_results= result_combined, ax = ax );\n",
    "final_plot = sm.graphics.plot_partregress_grid(\n",
    "    result_combined,\n",
    "    exog_idx=list(num_cat_x_list.columns.values),\n",
    "    grid=(9,3),\n",
    "    fig=fig);"
   ]
  },
  {
   "cell_type": "markdown",
   "id": "153ca5e2-489f-4f4c-8369-1d2c78ea538e",
   "metadata": {
    "tags": []
   },
   "source": [
    "### Graphing Object Categories Dataframe\n",
    "**Result** Both having a waterfront and greenbelt showed to be benificial to the price but nuisance was about the same."
   ]
  },
  {
   "cell_type": "code",
   "execution_count": null,
   "id": "f4474e88-5973-4d22-b10e-e2cbdc793123",
   "metadata": {},
   "outputs": [],
   "source": [
    "group_waterfront = df_obj_cat[['waterfront', 'greenbelt', 'nuisance', 'price']].groupby('waterfront').mean().values\n",
    "x_group1 = [value[0] for value in group_waterfront.tolist()]"
   ]
  },
  {
   "cell_type": "code",
   "execution_count": null,
   "id": "80e5d601-a336-4dd9-ad70-20b6a63e5ecb",
   "metadata": {},
   "outputs": [],
   "source": [
    "group_greenbelt = df_obj_cat[['waterfront', 'greenbelt', 'nuisance', 'price']].groupby('greenbelt').mean().values\n",
    "x_group2 = [value[0] for value in group_greenbelt.tolist()]"
   ]
  },
  {
   "cell_type": "code",
   "execution_count": null,
   "id": "8b4c0eb0-a1bb-4260-b47c-302cb8cab049",
   "metadata": {},
   "outputs": [],
   "source": [
    "group_nuisance = df_obj_cat[['waterfront', 'greenbelt', 'nuisance', 'price']].groupby('nuisance').mean().values\n",
    "x_group3 = [value[0] for value in group_nuisance.tolist()]"
   ]
  },
  {
   "cell_type": "code",
   "execution_count": null,
   "id": "ba8855c4-398d-41ae-b52d-e6b94b5742c6",
   "metadata": {},
   "outputs": [],
   "source": [
    "r = np.arange(2)\n",
    "width = 2\n",
    "fig, ax = plt.subplots();\n",
    "ax.bar(r, x_group1, label = 'Waterfront');\n",
    "ax.bar(r + width, x_group2, label = 'Greenbelt');\n",
    "ax.bar(r + width*2, x_group3, label = 'Nuisance');\n",
    "plt.legend();\n",
    "plt.ylabel('Mean Price');\n",
    "ticks = np.arange(6)\n",
    "plt.xticks(ticks, ['No','Yes','No','Yes','No','Yes']);\n",
    "ax.set_yticks(np.arange(0,2000000, 500000));\n",
    "y_ticks = np.arange(0,2000000, 500000)\n",
    "y_ticks_str = ['${:,}'.format(y) for y in y_ticks]\n",
    "ax.set_yticklabels(y_ticks_str);\n",
    "plt.title('Categorical Mean Comparison');"
   ]
  },
  {
   "cell_type": "code",
   "execution_count": null,
   "id": "572111c6-d4ad-4ed0-b963-372d2ee24565",
   "metadata": {},
   "outputs": [],
   "source": [
    "df_obj_cat['price'].loc[df_obj_cat['waterfront'] == 'YES'].std()"
   ]
  },
  {
   "cell_type": "markdown",
   "id": "52e99c08-b284-419b-9f79-31b8941f5ec2",
   "metadata": {
    "tags": []
   },
   "source": [
    "### Adding One At A Time\n"
   ]
  },
  {
   "cell_type": "code",
   "execution_count": null,
   "id": "5f5fec93-41da-4a25-b0ab-1aaa1df78ad9",
   "metadata": {},
   "outputs": [],
   "source": [
    "df_cleaned['sqft_living']"
   ]
  },
  {
   "cell_type": "code",
   "execution_count": null,
   "id": "ac0d6e4f-d88d-4b1f-a89c-5e4e83f88e97",
   "metadata": {},
   "outputs": [],
   "source": [
    "df_cleaned.columns"
   ]
  },
  {
   "cell_type": "code",
   "execution_count": null,
   "id": "eb7bd643-b2bc-49d6-9f92-89b2d74e5ed0",
   "metadata": {},
   "outputs": [],
   "source": [
    "x = df_cleaned[['bedrooms', 'bathrooms', 'floors']]\n",
    "y = df_cleaned['price']\n",
    "model = sm.OLS(y, sm.add_constant(x))\n",
    "results = model.fit()\n",
    "print(results.summary())"
   ]
  },
  {
   "cell_type": "code",
   "execution_count": null,
   "id": "09e42401-dc2b-470b-8041-d630a56dcc73",
   "metadata": {},
   "outputs": [],
   "source": [
    "x = df_cleaned[['floors']]\n",
    "y = df_cleaned['price']\n",
    "model = sm.OLS(y, sm.add_constant(x))\n",
    "results = model.fit()\n",
    "print(results.summary())\n"
   ]
  },
  {
   "cell_type": "code",
   "execution_count": null,
   "id": "629d63cf-9b98-4c71-82d7-75e9636b45de",
   "metadata": {},
   "outputs": [],
   "source": [
    "df_cleaned.loc[df_cleaned['sqft_living'] == df_cleaned['sqft_above']]['price'].mean()"
   ]
  },
  {
   "cell_type": "code",
   "execution_count": null,
   "id": "4b795d62-12ee-450c-a309-03731d7e7226",
   "metadata": {},
   "outputs": [],
   "source": [
    "df_cleaned.loc[df_cleaned['sqft_living'] != df_cleaned['sqft_above']]['price'].mean()"
   ]
  },
  {
   "cell_type": "code",
   "execution_count": null,
   "id": "d7aab917-4df1-4714-8b82-8fbd580503a3",
   "metadata": {},
   "outputs": [],
   "source": [
    "len(df_cleaned.loc[df_cleaned['sqft_living'] != df_cleaned['sqft_above']]), len(df_cleaned.loc[df_cleaned['sqft_living'] == df_cleaned['sqft_above']]['price'])"
   ]
  },
  {
   "cell_type": "code",
   "execution_count": null,
   "id": "8f15ecfd-1f5b-4b3c-aa2f-928afd37724a",
   "metadata": {},
   "outputs": [],
   "source": [
    "df_cleaned.plot.scatter('sqft_above', 'price')"
   ]
  },
  {
   "cell_type": "code",
   "execution_count": null,
   "id": "2525387e-3507-47ae-b44f-c6cee2668185",
   "metadata": {},
   "outputs": [],
   "source": [
    "df_cleaned.plot.scatter('sqft_basement', 'price')"
   ]
  },
  {
   "cell_type": "code",
   "execution_count": null,
   "id": "7187c282-39de-42c7-b6b0-df55f6a9078f",
   "metadata": {},
   "outputs": [],
   "source": [
    "results.params"
   ]
  },
  {
   "cell_type": "markdown",
   "id": "96920238-cd8f-41fd-9475-6c65e13bca74",
   "metadata": {},
   "source": [
    "## Data Understanding"
   ]
  },
  {
   "cell_type": "code",
   "execution_count": null,
   "id": "e34ae966-93e1-4381-b8ea-69747b9f5cb7",
   "metadata": {},
   "outputs": [],
   "source": [
    "df = pd.read_csv('dsc-phase-2-project-v2-5-main/data/kc_house_data.csv')    #Read the file\n",
    "helpers.de.look_dataframe(df)    #Look at dataframe\n",
    "helpers.dp.correlation_with(df, 'price')\n",
    "helpers.de.look_columns(df, ['heat_source', 'sewer_system'])    # Look at the columns with missing values"
   ]
  },
  {
   "cell_type": "code",
   "execution_count": null,
   "id": "c820426d-e1de-45d2-b2e9-d35e8b376ced",
   "metadata": {},
   "outputs": [],
   "source": [
    "## Setup for columns and subsets\n",
    "useful_col = ['price', 'bedrooms', 'bathrooms', 'sqft_living', 'sqft_lot', 'floors', 'waterfront'\n",
    "              , 'greenbelt', 'nuisance', 'view', 'condition', 'grade', 'heat_source', 'sewer_system'\n",
    "              , 'sqft_above', 'sqft_basement', 'sqft_garage', 'sqft_patio']\n",
    "\n",
    "useless_col = ['date', 'id', 'lat', 'long', 'address']\n",
    "categorical = [ 'bedrooms', 'bathrooms', 'floors', 'waterfront', 'greenbelt', 'nuisance'\n",
    "               , 'view', 'condition', 'grade', 'heat_source', 'sewer_system']\n",
    "continuous = [column for column in useful_col if column not in categorical]"
   ]
  },
  {
   "cell_type": "markdown",
   "id": "265cc782-2142-4806-9a5e-4dfb192f1799",
   "metadata": {},
   "source": [
    "**Column Names:** <br>\n",
    "'id', 'date', 'price', 'bedrooms', 'bathrooms', 'sqft_living', 'sqft_lot', 'floors', 'waterfront', 'greenbelt', 'nuisance', 'view', 'condition', 'grade', 'heat_source', 'sewer_system', 'sqft_above', 'sqft_basement', 'sqft_garage', 'sqft_patio', 'yr_built', 'yr_renovated', 'address', 'lat', 'long'\n",
    "\n",
    "**Useful:** <br>\n",
    "'price', 'bedrooms', 'bathrooms', 'sqft_living', 'sqft_lot', 'floors', 'waterfront', 'greenbelt', 'nuisance', 'view', 'condition', 'grade', 'heat_source', 'sewer_system', 'sqft_above', 'sqft_basement', 'sqft_garage', 'sqft_patio'\n",
    "\n",
    "**Useless:** <br>\n",
    "'date', 'id', 'lat', 'long', 'address'\n",
    "\n",
    "**Potentially Useful:** <br>\n",
    "'yr_built', 'yr_renovated'\n",
    "\n",
    "**Actions Needed**\n",
    "1. Delete duplicates\n",
    "2. Remove missing values\n",
    "3. Remove unnecessary rows and columns\n",
    "4. Remove Outliers\n",
    "5. Group Small samples categories"
   ]
  },
  {
   "cell_type": "markdown",
   "id": "aac588c0-0105-42fd-8e41-ca0fcaa96f24",
   "metadata": {
    "tags": []
   },
   "source": [
    "## Data Preparations"
   ]
  },
  {
   "cell_type": "code",
   "execution_count": null,
   "id": "bec6deab-f93d-4117-a0cd-e39b898cd84b",
   "metadata": {},
   "outputs": [],
   "source": [
    "## 5.\n"
   ]
  },
  {
   "cell_type": "code",
   "execution_count": null,
   "id": "29644010-f24c-44c3-a39b-ec383aebc983",
   "metadata": {},
   "outputs": [],
   "source": [
    "for df in [df_num_cat, df_obj_cat, df_num_only]:\n",
    "    display(df)"
   ]
  },
  {
   "cell_type": "code",
   "execution_count": null,
   "id": "0b064607-dc0a-4a1c-a230-04939a14e1d6",
   "metadata": {},
   "outputs": [],
   "source": [
    "fig, ax = plt.subplots(ncols= 3, nrows = 4, figsize = (30,40))\n",
    "row = 0 \n",
    "col = 0\n",
    "delete = []\n",
    "for category in categorical:\n",
    "\n",
    "    group = df_cleaned[[category, 'price']].groupby(category).mean()\n",
    "    x_group = [value[0] for value in group.values.tolist()]\n",
    "    ax[row][col].bar((group.index), x_group)\n",
    "    ax[row][col].set_title(category)\n",
    "    df_cleaned[category].value_counts()\n",
    "    if col == 2:\n",
    "        row += 1\n",
    "        col = 0\n",
    "    else:\n",
    "        col += 1\n",
    "fig.delaxes(ax[3][2])\n",
    "plt.tight_layout()"
   ]
  },
  {
   "cell_type": "code",
   "execution_count": null,
   "id": "8e82e23a-dc47-468d-aa8a-16b1ffa24cc0",
   "metadata": {},
   "outputs": [],
   "source": [
    "fig, ax = plt.subplots(ncols= 3, nrows = 2, figsize = (30,20))\n",
    "row = 0 \n",
    "col = 0\n",
    "delete = []\n",
    "for variable in continuous[1:]:\n",
    "\n",
    "    df_cleaned.plot.scatter(x = variable, y = 'price', ax = ax[row][col])\n",
    "    ax[row][col].set_title(variable)\n",
    "    if col == 2:\n",
    "        row += 1\n",
    "        col = 0\n",
    "    else:\n",
    "        col += 1\n",
    "\n",
    "plt.tight_layout()"
   ]
  },
  {
   "cell_type": "code",
   "execution_count": null,
   "id": "85c543ac-6bd0-4dc7-aa1d-7c9650ad6712",
   "metadata": {},
   "outputs": [],
   "source": [
    "fig, ax = plt.subplots(ncols= 3, nrows = 2, figsize = (30,20))\n",
    "row = 0 \n",
    "col = 0\n",
    "delete = []\n",
    "df_cleaned_log = helpers.de.apply_log(df_cleaned, ['price'])\n",
    "for variable in continuous[1:]:\n",
    "\n",
    "    df_cleaned_log.plot.scatter(x = variable, y = 'price', ax = ax[row][col])\n",
    "    ax[row][col].set_title(variable)\n",
    "    if col == 2:\n",
    "        row += 1\n",
    "        col = 0\n",
    "    else:\n",
    "        col += 1\n",
    "\n",
    "#plt.tight_layout()"
   ]
  },
  {
   "cell_type": "code",
   "execution_count": null,
   "id": "2df2e52e-b4ce-4a0e-b237-949060ade872",
   "metadata": {},
   "outputs": [],
   "source": [
    "df_cleaned_log.columns"
   ]
  },
  {
   "cell_type": "markdown",
   "id": "bcdec289-3c59-4b0e-ab8c-18ce26c318ac",
   "metadata": {},
   "source": [
    "Linear Variables \n",
    "Checked through Log transformation : 'sqft_living', 'sqft_basement'"
   ]
  },
  {
   "cell_type": "code",
   "execution_count": null,
   "id": "8abbfa73-06dc-43f7-ac4e-59d9d990626a",
   "metadata": {},
   "outputs": [],
   "source": [
    "Columns to use after explorations: "
   ]
  },
  {
   "cell_type": "markdown",
   "id": "a5685ea5-b96f-430d-9fbc-3fd5595d124c",
   "metadata": {},
   "source": [
    "## Data Preperation "
   ]
  },
  {
   "cell_type": "markdown",
   "id": "e19c15a8-4cac-47ff-a917-580758013a61",
   "metadata": {},
   "source": [
    "### Categories"
   ]
  },
  {
   "cell_type": "code",
   "execution_count": null,
   "id": "7ada4156-2b68-4367-b198-16fb0746f45d",
   "metadata": {},
   "outputs": [],
   "source": [
    "x_list = [column for column in df_obj_cat.columns if column not in 'price']\n",
    "\n",
    "X_cat = pd.get_dummies(df_obj_cat[x_list], drop_first= True)\n",
    "y = df_cleaned['price']\n",
    "model = sm.OLS(y, sm.add_constant(X_cat))\n",
    "results = model.fit()\n",
    "for column in df_obj_cat.columns:\n",
    "    print(df_obj_cat[column].value_counts())"
   ]
  },
  {
   "cell_type": "code",
   "execution_count": null,
   "id": "9bb719c9-1560-45af-aa6e-3a893d2f996f",
   "metadata": {},
   "outputs": [],
   "source": [
    "coeff_pairs = zip(results.pvalues.keys(), results.pvalues.values)\n",
    "index = 0\n",
    "for variable in list(coeff_pairs):\n",
    "    if float(variable[1]) > .05: print(variable)"
   ]
  },
  {
   "cell_type": "code",
   "execution_count": null,
   "id": "797633e3-5477-4876-a597-3daeb3a4560a",
   "metadata": {},
   "outputs": [],
   "source": [
    "## All categories and the number of times they appear\n",
    "for column in list(df_obj_cat.columns[0:-1]):\n",
    "    replace = df_obj_cat[column].value_counts()[df_obj_cat[column].value_counts()< 300].index\n",
    "    df_obj_cat[column].replace(replace, value= 'other',inplace= True)\n",
    "    print(df_obj_cat[column].value_counts())"
   ]
  }
 ],
 "metadata": {
  "kernelspec": {
   "display_name": "Python 3 (ipykernel)",
   "language": "python",
   "name": "python3"
  },
  "language_info": {
   "codemirror_mode": {
    "name": "ipython",
    "version": 3
   },
   "file_extension": ".py",
   "mimetype": "text/x-python",
   "name": "python",
   "nbconvert_exporter": "python",
   "pygments_lexer": "ipython3",
   "version": "3.9.13"
  },
  "toc-autonumbering": false,
  "toc-showcode": true,
  "toc-showmarkdowntxt": true
 },
 "nbformat": 4,
 "nbformat_minor": 5
}
