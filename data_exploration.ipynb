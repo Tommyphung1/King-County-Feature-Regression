{
 "cells": [
  {
   "cell_type": "markdown",
   "id": "0ee7f50d-9c86-433c-8a87-328943f65e67",
   "metadata": {
    "tags": []
   },
   "source": [
    "### Dataframe exploration"
   ]
  },
  {
   "cell_type": "code",
   "execution_count": 1,
   "id": "1ae6c071-8258-48eb-9793-12726d31ae3b",
   "metadata": {},
   "outputs": [],
   "source": [
    "import resources as helpers\n",
    "import pandas as pd\n",
    "import numpy as np\n",
    "import statsmodels.api as sm\n",
    "import matplotlib.pyplot as plt\n",
    "import warnings\n",
    "warnings.filterwarnings(\"ignore\")"
   ]
  },
  {
   "cell_type": "code",
   "execution_count": null,
   "id": "26194647-79b4-4fa7-af40-b2fe96f1ac4f",
   "metadata": {},
   "outputs": [],
   "source": []
  },
  {
   "cell_type": "code",
   "execution_count": null,
   "id": "a50ade98-71de-4027-88d8-4a367de837c8",
   "metadata": {},
   "outputs": [],
   "source": []
  },
  {
   "cell_type": "code",
   "execution_count": 2,
   "id": "fc2e6ba7-76d4-40f1-a7c9-d8119a59ccd5",
   "metadata": {},
   "outputs": [
    {
     "ename": "NameError",
     "evalue": "name 'df_num_only' is not defined",
     "output_type": "error",
     "traceback": [
      "\u001b[1;31m---------------------------------------------------------------------------\u001b[0m",
      "\u001b[1;31mNameError\u001b[0m                                 Traceback (most recent call last)",
      "\u001b[1;32m~\\AppData\\Local\\Temp\\ipykernel_2768\\3444449387.py\u001b[0m in \u001b[0;36m<module>\u001b[1;34m\u001b[0m\n\u001b[1;32m----> 1\u001b[1;33m \u001b[1;32mfor\u001b[0m \u001b[0mcolumn\u001b[0m \u001b[1;32min\u001b[0m \u001b[0mlist\u001b[0m\u001b[1;33m(\u001b[0m\u001b[0mdf_num_only\u001b[0m\u001b[1;33m.\u001b[0m\u001b[0mcolumns\u001b[0m\u001b[1;33m)\u001b[0m\u001b[1;33m:\u001b[0m\u001b[1;33m\u001b[0m\u001b[1;33m\u001b[0m\u001b[0m\n\u001b[0m\u001b[0;32m      2\u001b[0m     \u001b[1;31m#replace = df_num_cat[column].value_counts()[df_num_cat[column].value_counts()< 300].index\u001b[0m\u001b[1;33m\u001b[0m\u001b[1;33m\u001b[0m\u001b[0m\n\u001b[0;32m      3\u001b[0m     \u001b[1;31m#df_num_cat[column].replace(replace, value= 'other',inplace= True)\u001b[0m\u001b[1;33m\u001b[0m\u001b[1;33m\u001b[0m\u001b[0m\n\u001b[0;32m      4\u001b[0m     \u001b[0mprint\u001b[0m\u001b[1;33m(\u001b[0m\u001b[0mdf_num_only\u001b[0m\u001b[1;33m[\u001b[0m\u001b[0mcolumn\u001b[0m\u001b[1;33m]\u001b[0m\u001b[1;33m.\u001b[0m\u001b[0mvalue_counts\u001b[0m\u001b[1;33m(\u001b[0m\u001b[1;33m)\u001b[0m\u001b[1;33m)\u001b[0m\u001b[1;33m\u001b[0m\u001b[1;33m\u001b[0m\u001b[0m\n",
      "\u001b[1;31mNameError\u001b[0m: name 'df_num_only' is not defined"
     ]
    }
   ],
   "source": [
    "for column in list(df_num_only.columns):\n",
    "    #replace = df_num_cat[column].value_counts()[df_num_cat[column].value_counts()< 300].index\n",
    "    #df_num_cat[column].replace(replace, value= 'other',inplace= True)\n",
    "    print(df_num_only[column].value_counts())"
   ]
  },
  {
   "cell_type": "code",
   "execution_count": null,
   "id": "d79a9b14-d0c0-4ba1-86da-4a4517eefe0d",
   "metadata": {},
   "outputs": [],
   "source": [
    "x_list = [column for column in df_obj_cat.columns if column not in 'price']\n",
    "\n",
    "X_cat = pd.get_dummies(df_obj_cat[x_list], drop_first= True)\n",
    "y = df_cleaned['price']\n",
    "model = sm.OLS(y, sm.add_constant(X_cat))\n",
    "results = model.fit()\n",
    "for column in df_obj_cat.columns:\n",
    "    print(df_obj_cat[column].value_counts())"
   ]
  },
  {
   "cell_type": "code",
   "execution_count": null,
   "id": "fc67bae0-249d-41db-911c-a7630ab9c048",
   "metadata": {},
   "outputs": [],
   "source": [
    "x_list = [index for index in continuous if index != 'price']\n",
    "y = df_cleaned['price']\n",
    "X_num = df_num_only[x_list]\n",
    "\n",
    "model_num = sm.OLS(y, sm.add_constant(X_num))\n",
    "result_num = model_num.fit()\n"
   ]
  },
  {
   "cell_type": "code",
   "execution_count": null,
   "id": "fbb0328a-eb54-4057-85bc-c1de3f4fa370",
   "metadata": {},
   "outputs": [],
   "source": [
    "print(result_num.summary())"
   ]
  },
  {
   "cell_type": "code",
   "execution_count": null,
   "id": "03c65c31-5fc2-4fd5-af2c-1571b027204a",
   "metadata": {},
   "outputs": [],
   "source": [
    "num_cat_x_list = pd.concat([X_num, X_cat], axis= 1)\n",
    "model_combined = sm.OLS(y, sm.add_constant(num_cat_x_list))\n",
    "result_combined = model_combined.fit()\n",
    "result_combined"
   ]
  },
  {
   "cell_type": "code",
   "execution_count": null,
   "id": "b4aee313-af5a-4a7f-87ff-f84c6e52392d",
   "metadata": {},
   "outputs": [],
   "source": [
    "print(result_combined.summary())"
   ]
  },
  {
   "cell_type": "code",
   "execution_count": null,
   "id": "d7ecdacc-6da0-47bd-815f-7ae8bc4aac9d",
   "metadata": {},
   "outputs": [],
   "source": [
    "fig = plt.figure(figsize=(15,30))\n",
    "#sm.graphics.abline_plot(model_results= result_combined, ax = ax );\n",
    "final_plot = sm.graphics.plot_partregress_grid(\n",
    "    result_combined,\n",
    "    exog_idx=list(num_cat_x_list.columns.values),\n",
    "    grid=(9,3),\n",
    "    fig=fig);"
   ]
  },
  {
   "cell_type": "markdown",
   "id": "153ca5e2-489f-4f4c-8369-1d2c78ea538e",
   "metadata": {
    "tags": []
   },
   "source": [
    "### Graphing Object Categories Dataframe\n",
    "**Result** Both having a waterfront and greenbelt showed to be benificial to the price but nuisance was about the same."
   ]
  },
  {
   "cell_type": "code",
   "execution_count": null,
   "id": "f4474e88-5973-4d22-b10e-e2cbdc793123",
   "metadata": {},
   "outputs": [],
   "source": []
  },
  {
   "cell_type": "code",
   "execution_count": null,
   "id": "80e5d601-a336-4dd9-ad70-20b6a63e5ecb",
   "metadata": {},
   "outputs": [],
   "source": []
  },
  {
   "cell_type": "code",
   "execution_count": null,
   "id": "8b4c0eb0-a1bb-4260-b47c-302cb8cab049",
   "metadata": {},
   "outputs": [],
   "source": []
  },
  {
   "cell_type": "code",
   "execution_count": null,
   "id": "ba8855c4-398d-41ae-b52d-e6b94b5742c6",
   "metadata": {},
   "outputs": [],
   "source": []
  },
  {
   "cell_type": "code",
   "execution_count": null,
   "id": "572111c6-d4ad-4ed0-b963-372d2ee24565",
   "metadata": {},
   "outputs": [],
   "source": [
    "df_obj_cat['price'].loc[df_obj_cat['waterfront'] == 'YES'].std()"
   ]
  },
  {
   "cell_type": "markdown",
   "id": "52e99c08-b284-419b-9f79-31b8941f5ec2",
   "metadata": {
    "tags": []
   },
   "source": [
    "### Adding One At A Time\n"
   ]
  },
  {
   "cell_type": "code",
   "execution_count": null,
   "id": "5f5fec93-41da-4a25-b0ab-1aaa1df78ad9",
   "metadata": {},
   "outputs": [],
   "source": [
    "df_cleaned['sqft_living']"
   ]
  },
  {
   "cell_type": "code",
   "execution_count": null,
   "id": "ac0d6e4f-d88d-4b1f-a89c-5e4e83f88e97",
   "metadata": {},
   "outputs": [],
   "source": [
    "df_cleaned.columns"
   ]
  },
  {
   "cell_type": "code",
   "execution_count": null,
   "id": "eb7bd643-b2bc-49d6-9f92-89b2d74e5ed0",
   "metadata": {},
   "outputs": [],
   "source": [
    "x = df_cleaned[['bedrooms', 'bathrooms', 'floors']]\n",
    "y = df_cleaned['price']\n",
    "model = sm.OLS(y, sm.add_constant(x))\n",
    "results = model.fit()\n",
    "print(results.summary())"
   ]
  },
  {
   "cell_type": "code",
   "execution_count": null,
   "id": "09e42401-dc2b-470b-8041-d630a56dcc73",
   "metadata": {},
   "outputs": [],
   "source": [
    "x = df_cleaned[['floors']]\n",
    "y = df_cleaned['price']\n",
    "model = sm.OLS(y, sm.add_constant(x))\n",
    "results = model.fit()\n",
    "print(results.summary())\n"
   ]
  },
  {
   "cell_type": "code",
   "execution_count": null,
   "id": "629d63cf-9b98-4c71-82d7-75e9636b45de",
   "metadata": {},
   "outputs": [],
   "source": [
    "df_cleaned.loc[df_cleaned['sqft_living'] == df_cleaned['sqft_above']]['price'].mean()"
   ]
  },
  {
   "cell_type": "code",
   "execution_count": null,
   "id": "4b795d62-12ee-450c-a309-03731d7e7226",
   "metadata": {},
   "outputs": [],
   "source": [
    "df_cleaned.loc[df_cleaned['sqft_living'] != df_cleaned['sqft_above']]['price'].mean()"
   ]
  },
  {
   "cell_type": "code",
   "execution_count": null,
   "id": "d7aab917-4df1-4714-8b82-8fbd580503a3",
   "metadata": {},
   "outputs": [],
   "source": [
    "len(df_cleaned.loc[df_cleaned['sqft_living'] != df_cleaned['sqft_above']]), len(df_cleaned.loc[df_cleaned['sqft_living'] == df_cleaned['sqft_above']]['price'])"
   ]
  },
  {
   "cell_type": "code",
   "execution_count": null,
   "id": "8f15ecfd-1f5b-4b3c-aa2f-928afd37724a",
   "metadata": {},
   "outputs": [],
   "source": [
    "df_cleaned.plot.scatter('sqft_above', 'price')"
   ]
  },
  {
   "cell_type": "code",
   "execution_count": null,
   "id": "2525387e-3507-47ae-b44f-c6cee2668185",
   "metadata": {},
   "outputs": [],
   "source": [
    "df_cleaned.plot.scatter('sqft_basement', 'price')"
   ]
  },
  {
   "cell_type": "code",
   "execution_count": null,
   "id": "7187c282-39de-42c7-b6b0-df55f6a9078f",
   "metadata": {},
   "outputs": [],
   "source": [
    "results.params"
   ]
  },
  {
   "cell_type": "markdown",
   "id": "96920238-cd8f-41fd-9475-6c65e13bca74",
   "metadata": {},
   "source": [
    "## Data Understanding"
   ]
  },
  {
   "cell_type": "code",
   "execution_count": 4,
   "id": "e34ae966-93e1-4381-b8ea-69747b9f5cb7",
   "metadata": {},
   "outputs": [
    {
     "data": {
      "text/html": [
       "<div>\n",
       "<style scoped>\n",
       "    .dataframe tbody tr th:only-of-type {\n",
       "        vertical-align: middle;\n",
       "    }\n",
       "\n",
       "    .dataframe tbody tr th {\n",
       "        vertical-align: top;\n",
       "    }\n",
       "\n",
       "    .dataframe thead th {\n",
       "        text-align: right;\n",
       "    }\n",
       "</style>\n",
       "<table border=\"1\" class=\"dataframe\">\n",
       "  <thead>\n",
       "    <tr style=\"text-align: right;\">\n",
       "      <th></th>\n",
       "      <th>id</th>\n",
       "      <th>date</th>\n",
       "      <th>price</th>\n",
       "      <th>bedrooms</th>\n",
       "      <th>bathrooms</th>\n",
       "      <th>sqft_living</th>\n",
       "      <th>sqft_lot</th>\n",
       "      <th>floors</th>\n",
       "      <th>waterfront</th>\n",
       "      <th>greenbelt</th>\n",
       "      <th>...</th>\n",
       "      <th>sewer_system</th>\n",
       "      <th>sqft_above</th>\n",
       "      <th>sqft_basement</th>\n",
       "      <th>sqft_garage</th>\n",
       "      <th>sqft_patio</th>\n",
       "      <th>yr_built</th>\n",
       "      <th>yr_renovated</th>\n",
       "      <th>address</th>\n",
       "      <th>lat</th>\n",
       "      <th>long</th>\n",
       "    </tr>\n",
       "  </thead>\n",
       "  <tbody>\n",
       "    <tr>\n",
       "      <th>0</th>\n",
       "      <td>7399300360</td>\n",
       "      <td>5/24/2022</td>\n",
       "      <td>675000.0</td>\n",
       "      <td>4</td>\n",
       "      <td>1.0</td>\n",
       "      <td>1180</td>\n",
       "      <td>7140</td>\n",
       "      <td>1.0</td>\n",
       "      <td>NO</td>\n",
       "      <td>NO</td>\n",
       "      <td>...</td>\n",
       "      <td>PUBLIC</td>\n",
       "      <td>1180</td>\n",
       "      <td>0</td>\n",
       "      <td>0</td>\n",
       "      <td>40</td>\n",
       "      <td>1969</td>\n",
       "      <td>0</td>\n",
       "      <td>2102 Southeast 21st Court, Renton, Washington ...</td>\n",
       "      <td>47.461975</td>\n",
       "      <td>-122.19052</td>\n",
       "    </tr>\n",
       "    <tr>\n",
       "      <th>1</th>\n",
       "      <td>8910500230</td>\n",
       "      <td>12/13/2021</td>\n",
       "      <td>920000.0</td>\n",
       "      <td>5</td>\n",
       "      <td>2.5</td>\n",
       "      <td>2770</td>\n",
       "      <td>6703</td>\n",
       "      <td>1.0</td>\n",
       "      <td>NO</td>\n",
       "      <td>NO</td>\n",
       "      <td>...</td>\n",
       "      <td>PUBLIC</td>\n",
       "      <td>1570</td>\n",
       "      <td>1570</td>\n",
       "      <td>0</td>\n",
       "      <td>240</td>\n",
       "      <td>1950</td>\n",
       "      <td>0</td>\n",
       "      <td>11231 Greenwood Avenue North, Seattle, Washing...</td>\n",
       "      <td>47.711525</td>\n",
       "      <td>-122.35591</td>\n",
       "    </tr>\n",
       "    <tr>\n",
       "      <th>2</th>\n",
       "      <td>1180000275</td>\n",
       "      <td>9/29/2021</td>\n",
       "      <td>311000.0</td>\n",
       "      <td>6</td>\n",
       "      <td>2.0</td>\n",
       "      <td>2880</td>\n",
       "      <td>6156</td>\n",
       "      <td>1.0</td>\n",
       "      <td>NO</td>\n",
       "      <td>NO</td>\n",
       "      <td>...</td>\n",
       "      <td>PUBLIC</td>\n",
       "      <td>1580</td>\n",
       "      <td>1580</td>\n",
       "      <td>0</td>\n",
       "      <td>0</td>\n",
       "      <td>1956</td>\n",
       "      <td>0</td>\n",
       "      <td>8504 South 113th Street, Seattle, Washington 9...</td>\n",
       "      <td>47.502045</td>\n",
       "      <td>-122.22520</td>\n",
       "    </tr>\n",
       "    <tr>\n",
       "      <th>3</th>\n",
       "      <td>1604601802</td>\n",
       "      <td>12/14/2021</td>\n",
       "      <td>775000.0</td>\n",
       "      <td>3</td>\n",
       "      <td>3.0</td>\n",
       "      <td>2160</td>\n",
       "      <td>1400</td>\n",
       "      <td>2.0</td>\n",
       "      <td>NO</td>\n",
       "      <td>NO</td>\n",
       "      <td>...</td>\n",
       "      <td>PUBLIC</td>\n",
       "      <td>1090</td>\n",
       "      <td>1070</td>\n",
       "      <td>200</td>\n",
       "      <td>270</td>\n",
       "      <td>2010</td>\n",
       "      <td>0</td>\n",
       "      <td>4079 Letitia Avenue South, Seattle, Washington...</td>\n",
       "      <td>47.566110</td>\n",
       "      <td>-122.29020</td>\n",
       "    </tr>\n",
       "    <tr>\n",
       "      <th>4</th>\n",
       "      <td>8562780790</td>\n",
       "      <td>8/24/2021</td>\n",
       "      <td>592500.0</td>\n",
       "      <td>2</td>\n",
       "      <td>2.0</td>\n",
       "      <td>1120</td>\n",
       "      <td>758</td>\n",
       "      <td>2.0</td>\n",
       "      <td>NO</td>\n",
       "      <td>NO</td>\n",
       "      <td>...</td>\n",
       "      <td>PUBLIC</td>\n",
       "      <td>1120</td>\n",
       "      <td>550</td>\n",
       "      <td>550</td>\n",
       "      <td>30</td>\n",
       "      <td>2012</td>\n",
       "      <td>0</td>\n",
       "      <td>2193 Northwest Talus Drive, Issaquah, Washingt...</td>\n",
       "      <td>47.532470</td>\n",
       "      <td>-122.07188</td>\n",
       "    </tr>\n",
       "  </tbody>\n",
       "</table>\n",
       "<p>5 rows × 25 columns</p>\n",
       "</div>"
      ],
      "text/plain": [
       "           id        date     price  bedrooms  bathrooms  sqft_living  \\\n",
       "0  7399300360   5/24/2022  675000.0         4        1.0         1180   \n",
       "1  8910500230  12/13/2021  920000.0         5        2.5         2770   \n",
       "2  1180000275   9/29/2021  311000.0         6        2.0         2880   \n",
       "3  1604601802  12/14/2021  775000.0         3        3.0         2160   \n",
       "4  8562780790   8/24/2021  592500.0         2        2.0         1120   \n",
       "\n",
       "   sqft_lot  floors waterfront greenbelt  ... sewer_system sqft_above  \\\n",
       "0      7140     1.0         NO        NO  ...       PUBLIC       1180   \n",
       "1      6703     1.0         NO        NO  ...       PUBLIC       1570   \n",
       "2      6156     1.0         NO        NO  ...       PUBLIC       1580   \n",
       "3      1400     2.0         NO        NO  ...       PUBLIC       1090   \n",
       "4       758     2.0         NO        NO  ...       PUBLIC       1120   \n",
       "\n",
       "  sqft_basement sqft_garage sqft_patio yr_built  yr_renovated  \\\n",
       "0             0           0         40     1969             0   \n",
       "1          1570           0        240     1950             0   \n",
       "2          1580           0          0     1956             0   \n",
       "3          1070         200        270     2010             0   \n",
       "4           550         550         30     2012             0   \n",
       "\n",
       "                                             address        lat       long  \n",
       "0  2102 Southeast 21st Court, Renton, Washington ...  47.461975 -122.19052  \n",
       "1  11231 Greenwood Avenue North, Seattle, Washing...  47.711525 -122.35591  \n",
       "2  8504 South 113th Street, Seattle, Washington 9...  47.502045 -122.22520  \n",
       "3  4079 Letitia Avenue South, Seattle, Washington...  47.566110 -122.29020  \n",
       "4  2193 Northwest Talus Drive, Issaquah, Washingt...  47.532470 -122.07188  \n",
       "\n",
       "[5 rows x 25 columns]"
      ]
     },
     "metadata": {},
     "output_type": "display_data"
    },
    {
     "name": "stdout",
     "output_type": "stream",
     "text": [
      "Column Names: ['id', 'date', 'price', 'bedrooms', 'bathrooms', 'sqft_living', 'sqft_lot', 'floors', 'waterfront', 'greenbelt', 'nuisance', 'view', 'condition', 'grade', 'heat_source', 'sewer_system', 'sqft_above', 'sqft_basement', 'sqft_garage', 'sqft_patio', 'yr_built', 'yr_renovated', 'address', 'lat', 'long']\n",
      "Number of observation: 30155\n",
      "Duplicates detected\n"
     ]
    },
    {
     "data": {
      "text/html": [
       "<div>\n",
       "<style scoped>\n",
       "    .dataframe tbody tr th:only-of-type {\n",
       "        vertical-align: middle;\n",
       "    }\n",
       "\n",
       "    .dataframe tbody tr th {\n",
       "        vertical-align: top;\n",
       "    }\n",
       "\n",
       "    .dataframe thead th {\n",
       "        text-align: right;\n",
       "    }\n",
       "</style>\n",
       "<table border=\"1\" class=\"dataframe\">\n",
       "  <thead>\n",
       "    <tr style=\"text-align: right;\">\n",
       "      <th></th>\n",
       "      <th>id</th>\n",
       "      <th>date</th>\n",
       "      <th>price</th>\n",
       "      <th>bedrooms</th>\n",
       "      <th>bathrooms</th>\n",
       "      <th>sqft_living</th>\n",
       "      <th>sqft_lot</th>\n",
       "      <th>floors</th>\n",
       "      <th>waterfront</th>\n",
       "      <th>greenbelt</th>\n",
       "      <th>...</th>\n",
       "      <th>sewer_system</th>\n",
       "      <th>sqft_above</th>\n",
       "      <th>sqft_basement</th>\n",
       "      <th>sqft_garage</th>\n",
       "      <th>sqft_patio</th>\n",
       "      <th>yr_built</th>\n",
       "      <th>yr_renovated</th>\n",
       "      <th>address</th>\n",
       "      <th>lat</th>\n",
       "      <th>long</th>\n",
       "    </tr>\n",
       "  </thead>\n",
       "  <tbody>\n",
       "    <tr>\n",
       "      <th>4845</th>\n",
       "      <td>1233100736</td>\n",
       "      <td>9/28/2021</td>\n",
       "      <td>2600000.0</td>\n",
       "      <td>3</td>\n",
       "      <td>4.0</td>\n",
       "      <td>3500</td>\n",
       "      <td>8455</td>\n",
       "      <td>2.0</td>\n",
       "      <td>NO</td>\n",
       "      <td>NO</td>\n",
       "      <td>...</td>\n",
       "      <td>PUBLIC</td>\n",
       "      <td>2590</td>\n",
       "      <td>1410</td>\n",
       "      <td>500</td>\n",
       "      <td>290</td>\n",
       "      <td>2019</td>\n",
       "      <td>0</td>\n",
       "      <td>12611 Northeast 87th Place, Kirkland, Washingt...</td>\n",
       "      <td>47.68069</td>\n",
       "      <td>-122.172135</td>\n",
       "    </tr>\n",
       "    <tr>\n",
       "      <th>4846</th>\n",
       "      <td>1233100736</td>\n",
       "      <td>9/28/2021</td>\n",
       "      <td>2600000.0</td>\n",
       "      <td>3</td>\n",
       "      <td>4.0</td>\n",
       "      <td>3500</td>\n",
       "      <td>8455</td>\n",
       "      <td>2.0</td>\n",
       "      <td>NO</td>\n",
       "      <td>NO</td>\n",
       "      <td>...</td>\n",
       "      <td>PUBLIC</td>\n",
       "      <td>2590</td>\n",
       "      <td>1410</td>\n",
       "      <td>500</td>\n",
       "      <td>290</td>\n",
       "      <td>2019</td>\n",
       "      <td>0</td>\n",
       "      <td>12611 Northeast 87th Place, Kirkland, Washingt...</td>\n",
       "      <td>47.68069</td>\n",
       "      <td>-122.172135</td>\n",
       "    </tr>\n",
       "  </tbody>\n",
       "</table>\n",
       "<p>2 rows × 25 columns</p>\n",
       "</div>"
      ],
      "text/plain": [
       "              id       date      price  bedrooms  bathrooms  sqft_living  \\\n",
       "4845  1233100736  9/28/2021  2600000.0         3        4.0         3500   \n",
       "4846  1233100736  9/28/2021  2600000.0         3        4.0         3500   \n",
       "\n",
       "      sqft_lot  floors waterfront greenbelt  ... sewer_system sqft_above  \\\n",
       "4845      8455     2.0         NO        NO  ...       PUBLIC       2590   \n",
       "4846      8455     2.0         NO        NO  ...       PUBLIC       2590   \n",
       "\n",
       "     sqft_basement sqft_garage sqft_patio yr_built  yr_renovated  \\\n",
       "4845          1410         500        290     2019             0   \n",
       "4846          1410         500        290     2019             0   \n",
       "\n",
       "                                                address       lat        long  \n",
       "4845  12611 Northeast 87th Place, Kirkland, Washingt...  47.68069 -122.172135  \n",
       "4846  12611 Northeast 87th Place, Kirkland, Washingt...  47.68069 -122.172135  \n",
       "\n",
       "[2 rows x 25 columns]"
      ]
     },
     "metadata": {},
     "output_type": "display_data"
    },
    {
     "name": "stdout",
     "output_type": "stream",
     "text": [
      "N/A detected\n",
      "Columns with NaN:  ['heat_source', 'sewer_system']\n",
      "heat_source has 8/30155 unique observations. \n",
      "Gas                  20583\n",
      "Electricity           6465\n",
      "Oil                   2899\n",
      "Gas/Solar               93\n",
      "Electricity/Solar       59\n",
      "Other                   20\n",
      "Oil/Solar                4\n",
      "Name: heat_source, dtype: int64\n",
      "Number of missing values: 32\n",
      "sewer_system has 5/30155 unique observations. \n",
      "PUBLIC                25777\n",
      "PRIVATE                4355\n",
      "PRIVATE RESTRICTED        6\n",
      "PUBLIC RESTRICTED         3\n",
      "Name: sewer_system, dtype: int64\n",
      "Number of missing values: 14\n"
     ]
    },
    {
     "data": {
      "text/html": [
       "<div>\n",
       "<style scoped>\n",
       "    .dataframe tbody tr th:only-of-type {\n",
       "        vertical-align: middle;\n",
       "    }\n",
       "\n",
       "    .dataframe tbody tr th {\n",
       "        vertical-align: top;\n",
       "    }\n",
       "\n",
       "    .dataframe thead th {\n",
       "        text-align: right;\n",
       "    }\n",
       "</style>\n",
       "<table border=\"1\" class=\"dataframe\">\n",
       "  <thead>\n",
       "    <tr style=\"text-align: right;\">\n",
       "      <th></th>\n",
       "      <th>heat_source</th>\n",
       "      <th>sewer_system</th>\n",
       "    </tr>\n",
       "  </thead>\n",
       "  <tbody>\n",
       "    <tr>\n",
       "      <th>0</th>\n",
       "      <td>Gas</td>\n",
       "      <td>PUBLIC</td>\n",
       "    </tr>\n",
       "    <tr>\n",
       "      <th>1</th>\n",
       "      <td>Oil</td>\n",
       "      <td>PUBLIC</td>\n",
       "    </tr>\n",
       "    <tr>\n",
       "      <th>2</th>\n",
       "      <td>Gas</td>\n",
       "      <td>PUBLIC</td>\n",
       "    </tr>\n",
       "    <tr>\n",
       "      <th>3</th>\n",
       "      <td>Gas</td>\n",
       "      <td>PUBLIC</td>\n",
       "    </tr>\n",
       "    <tr>\n",
       "      <th>4</th>\n",
       "      <td>Electricity</td>\n",
       "      <td>PUBLIC</td>\n",
       "    </tr>\n",
       "  </tbody>\n",
       "</table>\n",
       "</div>"
      ],
      "text/plain": [
       "   heat_source sewer_system\n",
       "0          Gas       PUBLIC\n",
       "1          Oil       PUBLIC\n",
       "2          Gas       PUBLIC\n",
       "3          Gas       PUBLIC\n",
       "4  Electricity       PUBLIC"
      ]
     },
     "metadata": {},
     "output_type": "display_data"
    },
    {
     "name": "stdout",
     "output_type": "stream",
     "text": [
      "<class 'pandas.core.frame.DataFrame'>\n",
      "RangeIndex: 30155 entries, 0 to 30154\n",
      "Data columns (total 2 columns):\n",
      " #   Column        Non-Null Count  Dtype \n",
      "---  ------        --------------  ----- \n",
      " 0   heat_source   30123 non-null  object\n",
      " 1   sewer_system  30141 non-null  object\n",
      "dtypes: object(2)\n",
      "memory usage: 471.3+ KB\n"
     ]
    },
    {
     "data": {
      "text/plain": [
       "None"
      ]
     },
     "metadata": {},
     "output_type": "display_data"
    }
   ],
   "source": [
    "df = pd.read_csv('dsc-phase-2-project-v2-5-main/data/kc_house_data.csv')    #Read the file\n",
    "helpers.de.look_dataframe(df)    #Look at dataframe\n",
    "helpers.dp.correlation_with(df, 'price')\n",
    "helpers.de.look_columns(df, ['heat_source', 'sewer_system'])    # Look at the columns with missing values"
   ]
  },
  {
   "cell_type": "code",
   "execution_count": 5,
   "id": "c820426d-e1de-45d2-b2e9-d35e8b376ced",
   "metadata": {},
   "outputs": [],
   "source": [
    "## Setup for columns and subsets\n",
    "useful_col = ['price', 'bedrooms', 'bathrooms', 'sqft_living', 'sqft_lot', 'floors', 'waterfront'\n",
    "              , 'greenbelt', 'nuisance', 'view', 'condition', 'grade', 'heat_source', 'sewer_system'\n",
    "              , 'sqft_above', 'sqft_basement', 'sqft_garage', 'sqft_patio']\n",
    "\n",
    "useless_col = ['date', 'id', 'lat', 'long', 'address']\n",
    "categorical = [ 'bedrooms', 'bathrooms', 'floors', 'waterfront', 'greenbelt', 'nuisance'\n",
    "               , 'view', 'condition', 'grade', 'heat_source', 'sewer_system']\n",
    "continuous = [column for column in useful_col if column not in categorical]"
   ]
  },
  {
   "cell_type": "markdown",
   "id": "265cc782-2142-4806-9a5e-4dfb192f1799",
   "metadata": {},
   "source": [
    "**Column Names:** <br>\n",
    "'id', 'date', 'price', 'bedrooms', 'bathrooms', 'sqft_living', 'sqft_lot', 'floors', 'waterfront', 'greenbelt', 'nuisance', 'view', 'condition', 'grade', 'heat_source', 'sewer_system', 'sqft_above', 'sqft_basement', 'sqft_garage', 'sqft_patio', 'yr_built', 'yr_renovated', 'address', 'lat', 'long'\n",
    "\n",
    "**Useful:** <br>\n",
    "'price', 'bedrooms', 'bathrooms', 'sqft_living', 'sqft_lot', 'floors', 'waterfront', 'greenbelt', 'nuisance', 'view', 'condition', 'grade', 'heat_source', 'sewer_system', 'sqft_above', 'sqft_basement', 'sqft_garage', 'sqft_patio'\n",
    "\n",
    "**Useless:** <br>\n",
    "'date', 'id', 'lat', 'long', 'address'\n",
    "\n",
    "**Potentially Useful:** <br>\n",
    "'yr_built', 'yr_renovated'\n",
    "\n",
    "**Actions Needed**\n",
    "1. Delete duplicates\n",
    "2. Remove missing values\n",
    "3. Remove unnecessary rows and columns\n",
    "4. Remove Outliers\n",
    "5. Group Small samples categories"
   ]
  },
  {
   "cell_type": "markdown",
   "id": "aac588c0-0105-42fd-8e41-ca0fcaa96f24",
   "metadata": {
    "tags": []
   },
   "source": [
    "## Data Preparations"
   ]
  },
  {
   "cell_type": "code",
   "execution_count": null,
   "id": "bec6deab-f93d-4117-a0cd-e39b898cd84b",
   "metadata": {},
   "outputs": [],
   "source": [
    "## 5.\n"
   ]
  },
  {
   "cell_type": "code",
   "execution_count": 6,
   "id": "29644010-f24c-44c3-a39b-ec383aebc983",
   "metadata": {},
   "outputs": [
    {
     "ename": "NameError",
     "evalue": "name 'df_num_cat' is not defined",
     "output_type": "error",
     "traceback": [
      "\u001b[1;31m---------------------------------------------------------------------------\u001b[0m",
      "\u001b[1;31mNameError\u001b[0m                                 Traceback (most recent call last)",
      "\u001b[1;32m~\\AppData\\Local\\Temp\\ipykernel_2768\\4229685582.py\u001b[0m in \u001b[0;36m<module>\u001b[1;34m\u001b[0m\n\u001b[1;32m----> 1\u001b[1;33m \u001b[1;32mfor\u001b[0m \u001b[0mdf\u001b[0m \u001b[1;32min\u001b[0m \u001b[1;33m[\u001b[0m\u001b[0mdf_num_cat\u001b[0m\u001b[1;33m,\u001b[0m \u001b[0mdf_obj_cat\u001b[0m\u001b[1;33m,\u001b[0m \u001b[0mdf_num_only\u001b[0m\u001b[1;33m]\u001b[0m\u001b[1;33m:\u001b[0m\u001b[1;33m\u001b[0m\u001b[1;33m\u001b[0m\u001b[0m\n\u001b[0m\u001b[0;32m      2\u001b[0m     \u001b[0mdisplay\u001b[0m\u001b[1;33m(\u001b[0m\u001b[0mdf\u001b[0m\u001b[1;33m)\u001b[0m\u001b[1;33m\u001b[0m\u001b[1;33m\u001b[0m\u001b[0m\n",
      "\u001b[1;31mNameError\u001b[0m: name 'df_num_cat' is not defined"
     ]
    }
   ],
   "source": [
    "for df in [df_num_cat, df_obj_cat, df_num_only]:\n",
    "    display(df)"
   ]
  },
  {
   "cell_type": "code",
   "execution_count": 7,
   "id": "0b064607-dc0a-4a1c-a230-04939a14e1d6",
   "metadata": {},
   "outputs": [
    {
     "ename": "NameError",
     "evalue": "name 'df_cleaned' is not defined",
     "output_type": "error",
     "traceback": [
      "\u001b[1;31m---------------------------------------------------------------------------\u001b[0m",
      "\u001b[1;31mNameError\u001b[0m                                 Traceback (most recent call last)",
      "\u001b[1;32m~\\AppData\\Local\\Temp\\ipykernel_2768\\3834002407.py\u001b[0m in \u001b[0;36m<module>\u001b[1;34m\u001b[0m\n\u001b[0;32m      5\u001b[0m \u001b[1;32mfor\u001b[0m \u001b[0mcategory\u001b[0m \u001b[1;32min\u001b[0m \u001b[0mcategorical\u001b[0m\u001b[1;33m:\u001b[0m\u001b[1;33m\u001b[0m\u001b[1;33m\u001b[0m\u001b[0m\n\u001b[0;32m      6\u001b[0m \u001b[1;33m\u001b[0m\u001b[0m\n\u001b[1;32m----> 7\u001b[1;33m     \u001b[0mgroup\u001b[0m \u001b[1;33m=\u001b[0m \u001b[0mdf_cleaned\u001b[0m\u001b[1;33m[\u001b[0m\u001b[1;33m[\u001b[0m\u001b[0mcategory\u001b[0m\u001b[1;33m,\u001b[0m \u001b[1;34m'price'\u001b[0m\u001b[1;33m]\u001b[0m\u001b[1;33m]\u001b[0m\u001b[1;33m.\u001b[0m\u001b[0mgroupby\u001b[0m\u001b[1;33m(\u001b[0m\u001b[0mcategory\u001b[0m\u001b[1;33m)\u001b[0m\u001b[1;33m.\u001b[0m\u001b[0mmean\u001b[0m\u001b[1;33m(\u001b[0m\u001b[1;33m)\u001b[0m\u001b[1;33m\u001b[0m\u001b[1;33m\u001b[0m\u001b[0m\n\u001b[0m\u001b[0;32m      8\u001b[0m     \u001b[0mx_group\u001b[0m \u001b[1;33m=\u001b[0m \u001b[1;33m[\u001b[0m\u001b[0mvalue\u001b[0m\u001b[1;33m[\u001b[0m\u001b[1;36m0\u001b[0m\u001b[1;33m]\u001b[0m \u001b[1;32mfor\u001b[0m \u001b[0mvalue\u001b[0m \u001b[1;32min\u001b[0m \u001b[0mgroup\u001b[0m\u001b[1;33m.\u001b[0m\u001b[0mvalues\u001b[0m\u001b[1;33m.\u001b[0m\u001b[0mtolist\u001b[0m\u001b[1;33m(\u001b[0m\u001b[1;33m)\u001b[0m\u001b[1;33m]\u001b[0m\u001b[1;33m\u001b[0m\u001b[1;33m\u001b[0m\u001b[0m\n\u001b[0;32m      9\u001b[0m     \u001b[0max\u001b[0m\u001b[1;33m[\u001b[0m\u001b[0mrow\u001b[0m\u001b[1;33m]\u001b[0m\u001b[1;33m[\u001b[0m\u001b[0mcol\u001b[0m\u001b[1;33m]\u001b[0m\u001b[1;33m.\u001b[0m\u001b[0mbar\u001b[0m\u001b[1;33m(\u001b[0m\u001b[1;33m(\u001b[0m\u001b[0mgroup\u001b[0m\u001b[1;33m.\u001b[0m\u001b[0mindex\u001b[0m\u001b[1;33m)\u001b[0m\u001b[1;33m,\u001b[0m \u001b[0mx_group\u001b[0m\u001b[1;33m)\u001b[0m\u001b[1;33m\u001b[0m\u001b[1;33m\u001b[0m\u001b[0m\n",
      "\u001b[1;31mNameError\u001b[0m: name 'df_cleaned' is not defined"
     ]
    },
    {
     "data": {
      "image/png": "[encoded data removed]",
      "text/plain": [
       "<Figure size 3000x4000 with 12 Axes>"
      ]
     },
     "metadata": {},
     "output_type": "display_data"
    }
   ],
   "source": [
    "fig, ax = plt.subplots(ncols= 3, nrows = 4, figsize = (30,40))\n",
    "row = 0 \n",
    "col = 0\n",
    "delete = []\n",
    "for category in categorical:\n",
    "\n",
    "    group = df_cleaned[[category, 'price']].groupby(category).mean()\n",
    "    x_group = [value[0] for value in group.values.tolist()]\n",
    "    ax[row][col].bar((group.index), x_group)\n",
    "    ax[row][col].set_title(category)\n",
    "    df_cleaned[category].value_counts()\n",
    "    if col == 2:\n",
    "        row += 1\n",
    "        col = 0\n",
    "    else:\n",
    "        col += 1\n",
    "fig.delaxes(ax[3][2])\n",
    "plt.tight_layout()"
   ]
  },
  {
   "cell_type": "code",
   "execution_count": 8,
   "id": "8e82e23a-dc47-468d-aa8a-16b1ffa24cc0",
   "metadata": {},
   "outputs": [
    {
     "ename": "NameError",
     "evalue": "name 'df_cleaned' is not defined",
     "output_type": "error",
     "traceback": [
      "\u001b[1;31m---------------------------------------------------------------------------\u001b[0m",
      "\u001b[1;31mNameError\u001b[0m                                 Traceback (most recent call last)",
      "\u001b[1;32m~\\AppData\\Local\\Temp\\ipykernel_2768\\3431397113.py\u001b[0m in \u001b[0;36m<module>\u001b[1;34m\u001b[0m\n\u001b[0;32m      5\u001b[0m \u001b[1;32mfor\u001b[0m \u001b[0mvariable\u001b[0m \u001b[1;32min\u001b[0m \u001b[0mcontinuous\u001b[0m\u001b[1;33m[\u001b[0m\u001b[1;36m1\u001b[0m\u001b[1;33m:\u001b[0m\u001b[1;33m]\u001b[0m\u001b[1;33m:\u001b[0m\u001b[1;33m\u001b[0m\u001b[1;33m\u001b[0m\u001b[0m\n\u001b[0;32m      6\u001b[0m \u001b[1;33m\u001b[0m\u001b[0m\n\u001b[1;32m----> 7\u001b[1;33m     \u001b[0mdf_cleaned\u001b[0m\u001b[1;33m.\u001b[0m\u001b[0mplot\u001b[0m\u001b[1;33m.\u001b[0m\u001b[0mscatter\u001b[0m\u001b[1;33m(\u001b[0m\u001b[0mx\u001b[0m \u001b[1;33m=\u001b[0m \u001b[0mvariable\u001b[0m\u001b[1;33m,\u001b[0m \u001b[0my\u001b[0m \u001b[1;33m=\u001b[0m \u001b[1;34m'price'\u001b[0m\u001b[1;33m,\u001b[0m \u001b[0max\u001b[0m \u001b[1;33m=\u001b[0m \u001b[0max\u001b[0m\u001b[1;33m[\u001b[0m\u001b[0mrow\u001b[0m\u001b[1;33m]\u001b[0m\u001b[1;33m[\u001b[0m\u001b[0mcol\u001b[0m\u001b[1;33m]\u001b[0m\u001b[1;33m)\u001b[0m\u001b[1;33m\u001b[0m\u001b[1;33m\u001b[0m\u001b[0m\n\u001b[0m\u001b[0;32m      8\u001b[0m     \u001b[0max\u001b[0m\u001b[1;33m[\u001b[0m\u001b[0mrow\u001b[0m\u001b[1;33m]\u001b[0m\u001b[1;33m[\u001b[0m\u001b[0mcol\u001b[0m\u001b[1;33m]\u001b[0m\u001b[1;33m.\u001b[0m\u001b[0mset_title\u001b[0m\u001b[1;33m(\u001b[0m\u001b[0mvariable\u001b[0m\u001b[1;33m)\u001b[0m\u001b[1;33m\u001b[0m\u001b[1;33m\u001b[0m\u001b[0m\n\u001b[0;32m      9\u001b[0m     \u001b[1;32mif\u001b[0m \u001b[0mcol\u001b[0m \u001b[1;33m==\u001b[0m \u001b[1;36m2\u001b[0m\u001b[1;33m:\u001b[0m\u001b[1;33m\u001b[0m\u001b[1;33m\u001b[0m\u001b[0m\n",
      "\u001b[1;31mNameError\u001b[0m: name 'df_cleaned' is not defined"
     ]
    },
    {
     "data": {
      "image/png": "[encoded data removed]",
      "text/plain": [
       "<Figure size 3000x2000 with 6 Axes>"
      ]
     },
     "metadata": {},
     "output_type": "display_data"
    }
   ],
   "source": [
    "fig, ax = plt.subplots(ncols= 3, nrows = 2, figsize = (30,20))\n",
    "row = 0 \n",
    "col = 0\n",
    "delete = []\n",
    "for variable in continuous[1:]:\n",
    "\n",
    "    df_cleaned.plot.scatter(x = variable, y = 'price', ax = ax[row][col])\n",
    "    ax[row][col].set_title(variable)\n",
    "    if col == 2:\n",
    "        row += 1\n",
    "        col = 0\n",
    "    else:\n",
    "        col += 1\n",
    "\n",
    "plt.tight_layout()"
   ]
  },
  {
   "cell_type": "code",
   "execution_count": 9,
   "id": "85c543ac-6bd0-4dc7-aa1d-7c9650ad6712",
   "metadata": {},
   "outputs": [
    {
     "ename": "NameError",
     "evalue": "name 'df_cleaned' is not defined",
     "output_type": "error",
     "traceback": [
      "\u001b[1;31m---------------------------------------------------------------------------\u001b[0m",
      "\u001b[1;31mNameError\u001b[0m                                 Traceback (most recent call last)",
      "\u001b[1;32m~\\AppData\\Local\\Temp\\ipykernel_2768\\2884743738.py\u001b[0m in \u001b[0;36m<module>\u001b[1;34m\u001b[0m\n\u001b[0;32m      3\u001b[0m \u001b[0mcol\u001b[0m \u001b[1;33m=\u001b[0m \u001b[1;36m0\u001b[0m\u001b[1;33m\u001b[0m\u001b[1;33m\u001b[0m\u001b[0m\n\u001b[0;32m      4\u001b[0m \u001b[0mdelete\u001b[0m \u001b[1;33m=\u001b[0m \u001b[1;33m[\u001b[0m\u001b[1;33m]\u001b[0m\u001b[1;33m\u001b[0m\u001b[1;33m\u001b[0m\u001b[0m\n\u001b[1;32m----> 5\u001b[1;33m \u001b[0mdf_cleaned_log\u001b[0m \u001b[1;33m=\u001b[0m \u001b[0mhelpers\u001b[0m\u001b[1;33m.\u001b[0m\u001b[0mde\u001b[0m\u001b[1;33m.\u001b[0m\u001b[0mapply_log\u001b[0m\u001b[1;33m(\u001b[0m\u001b[0mdf_cleaned\u001b[0m\u001b[1;33m,\u001b[0m \u001b[1;33m[\u001b[0m\u001b[1;34m'price'\u001b[0m\u001b[1;33m]\u001b[0m\u001b[1;33m)\u001b[0m\u001b[1;33m\u001b[0m\u001b[1;33m\u001b[0m\u001b[0m\n\u001b[0m\u001b[0;32m      6\u001b[0m \u001b[1;32mfor\u001b[0m \u001b[0mvariable\u001b[0m \u001b[1;32min\u001b[0m \u001b[0mcontinuous\u001b[0m\u001b[1;33m[\u001b[0m\u001b[1;36m1\u001b[0m\u001b[1;33m:\u001b[0m\u001b[1;33m]\u001b[0m\u001b[1;33m:\u001b[0m\u001b[1;33m\u001b[0m\u001b[1;33m\u001b[0m\u001b[0m\n\u001b[0;32m      7\u001b[0m \u001b[1;33m\u001b[0m\u001b[0m\n",
      "\u001b[1;31mNameError\u001b[0m: name 'df_cleaned' is not defined"
     ]
    },
    {
     "data": {
      "image/png": "[encoded data removed]",
      "text/plain": [
       "<Figure size 3000x2000 with 6 Axes>"
      ]
     },
     "metadata": {},
     "output_type": "display_data"
    }
   ],
   "source": [
    "fig, ax = plt.subplots(ncols= 3, nrows = 2, figsize = (30,20))\n",
    "row = 0 \n",
    "col = 0\n",
    "delete = []\n",
    "df_cleaned_log = helpers.de.apply_log(df_cleaned, ['price'])\n",
    "for variable in continuous[1:]:\n",
    "\n",
    "    df_cleaned_log.plot.scatter(x = variable, y = 'price', ax = ax[row][col])\n",
    "    ax[row][col].set_title(variable)\n",
    "    if col == 2:\n",
    "        row += 1\n",
    "        col = 0\n",
    "    else:\n",
    "        col += 1\n",
    "\n",
    "#plt.tight_layout()"
   ]
  },
  {
   "cell_type": "code",
   "execution_count": null,
   "id": "2df2e52e-b4ce-4a0e-b237-949060ade872",
   "metadata": {},
   "outputs": [],
   "source": [
    "df_cleaned_log.columns"
   ]
  },
  {
   "cell_type": "markdown",
   "id": "bcdec289-3c59-4b0e-ab8c-18ce26c318ac",
   "metadata": {},
   "source": [
    "Linear Variables \n",
    "Checked through Log transformation : 'sqft_living', 'sqft_basement'"
   ]
  },
  {
   "cell_type": "code",
   "execution_count": null,
   "id": "8abbfa73-06dc-43f7-ac4e-59d9d990626a",
   "metadata": {},
   "outputs": [],
   "source": [
    "Columns to use after explorations: "
   ]
  },
  {
   "cell_type": "markdown",
   "id": "a5685ea5-b96f-430d-9fbc-3fd5595d124c",
   "metadata": {},
   "source": [
    "## Data Preperation "
   ]
  },
  {
   "cell_type": "markdown",
   "id": "e19c15a8-4cac-47ff-a917-580758013a61",
   "metadata": {},
   "source": [
    "### Categories"
   ]
  },
  {
   "cell_type": "code",
   "execution_count": null,
   "id": "7ada4156-2b68-4367-b198-16fb0746f45d",
   "metadata": {},
   "outputs": [],
   "source": [
    "x_list = [column for column in df_obj_cat.columns if column not in 'price']\n",
    "\n",
    "X_cat = pd.get_dummies(df_obj_cat[x_list], drop_first= True)\n",
    "y = df_cleaned['price']\n",
    "model = sm.OLS(y, sm.add_constant(X_cat))\n",
    "results = model.fit()\n",
    "for column in df_obj_cat.columns:\n",
    "    print(df_obj_cat[column].value_counts())"
   ]
  },
  {
   "cell_type": "code",
   "execution_count": null,
   "id": "9bb719c9-1560-45af-aa6e-3a893d2f996f",
   "metadata": {},
   "outputs": [],
   "source": [
    "coeff_pairs = zip(results.pvalues.keys(), results.pvalues.values)\n",
    "index = 0\n",
    "for variable in list(coeff_pairs):\n",
    "    if float(variable[1]) > .05: print(variable)"
   ]
  },
  {
   "cell_type": "code",
   "execution_count": null,
   "id": "797633e3-5477-4876-a597-3daeb3a4560a",
   "metadata": {},
   "outputs": [],
   "source": []
  }
 ],
 "metadata": {
  "kernelspec": {
   "display_name": "Python 3 (ipykernel)",
   "language": "python",
   "name": "python3"
  },
  "language_info": {
   "codemirror_mode": {
    "name": "ipython",
    "version": 3
   },
   "file_extension": ".py",
   "mimetype": "text/x-python",
   "name": "python",
   "nbconvert_exporter": "python",
   "pygments_lexer": "ipython3",
   "version": "3.9.13"
  },
  "toc-autonumbering": false,
  "toc-showcode": false,
  "toc-showmarkdowntxt": false
 },
 "nbformat": 4,
 "nbformat_minor": 5
}
