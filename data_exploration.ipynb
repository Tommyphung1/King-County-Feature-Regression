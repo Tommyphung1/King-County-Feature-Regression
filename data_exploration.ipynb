{
 "cells": [
  {
   "cell_type": "markdown",
   "id": "0ee7f50d-9c86-433c-8a87-328943f65e67",
   "metadata": {
    "tags": []
   },
   "source": [
    "### Dataframe exploration"
   ]
  },
  {
   "cell_type": "code",
   "execution_count": null,
   "id": "1ae6c071-8258-48eb-9793-12726d31ae3b",
   "metadata": {},
   "outputs": [],
   "source": [
    "import resources as helpers\n",
    "import pandas as pd\n",
    "import numpy as np\n",
    "import statsmodels.api as sm\n",
    "import matplotlib.pyplot as plt\n",
    "import warnings\n",
    "warnings.filterwarnings(\"ignore\")"
   ]
  },
  {
   "cell_type": "code",
   "execution_count": null,
   "id": "62305681-ad66-449d-aba4-bf0bd41ab218",
   "metadata": {},
   "outputs": [],
   "source": [
    "df = pd.read_csv('dsc-phase-2-project-v2-5-main/data/kc_house_data.csv')    #Read the file"
   ]
  },
  {
   "cell_type": "code",
   "execution_count": null,
   "id": "05134e9a-0846-442e-b5b6-63b5dffd6fc4",
   "metadata": {},
   "outputs": [],
   "source": [
    "helpers.de.look_dataframe(df)    #Look at dataframe"
   ]
  },
  {
   "cell_type": "code",
   "execution_count": null,
   "id": "059ac645-8287-44bf-9199-bd1e8b653370",
   "metadata": {},
   "outputs": [],
   "source": [
    "helpers.de.look_columns(df, ['heat_source', 'sewer_system'])    # Look at the columns with missing values"
   ]
  },
  {
   "cell_type": "markdown",
   "id": "d046ae5e-c0bf-4b05-b72b-19fdd05324fc",
   "metadata": {},
   "source": [
    "**Column Names:** <br>\n",
    "'id', 'date', 'price', 'bedrooms', 'bathrooms', 'sqft_living', 'sqft_lot', 'floors', 'waterfront', 'greenbelt', 'nuisance', 'view', 'condition', 'grade', 'heat_source', 'sewer_system', 'sqft_above', 'sqft_basement', 'sqft_garage', 'sqft_patio', 'yr_built', 'yr_renovated', 'address', 'lat', 'long'\n",
    "\n",
    "**Useful:** <br>\n",
    "'price', 'bedrooms', 'bathrooms', 'sqft_living', 'sqft_lot', 'floors', 'waterfront', 'greenbelt', 'nuisance', 'view', 'condition', 'grade', 'heat_source', 'sewer_system', 'sqft_above', 'sqft_basement', 'sqft_garage', 'sqft_patio'\n",
    "\n",
    "**Useless:** <br>\n",
    "'date', 'id', 'lat', 'long', 'address'\n",
    "\n",
    "**Potentially Useful:** <br>\n",
    "'yr_built', 'yr_renovated'\n",
    "\n",
    "**Actions Needed**\n",
    "1. Delete duplicates\n",
    "2. Remove missing values\n",
    "3. Remove unnecessary rows and columns\n",
    "4. Remove Outliers\n",
    "5. Group Small samples categories"
   ]
  },
  {
   "cell_type": "code",
   "execution_count": null,
   "id": "c820426d-e1de-45d2-b2e9-d35e8b376ced",
   "metadata": {},
   "outputs": [],
   "source": [
    "## Setup for columns and subsets\n",
    "useful_col = ['price', 'bedrooms', 'bathrooms', 'sqft_living', 'sqft_lot', 'floors', 'waterfront'\n",
    "              , 'greenbelt', 'nuisance', 'view', 'condition', 'grade', 'heat_source', 'sewer_system'\n",
    "              , 'sqft_above', 'sqft_basement', 'sqft_garage', 'sqft_patio']\n",
    "\n",
    "useless_col = ['date', 'id', 'lat', 'long', 'address']\n",
    "categorical = [ 'bedrooms', 'bathrooms', 'floors', 'waterfront', 'greenbelt', 'nuisance'\n",
    "               , 'view', 'condition', 'grade', 'heat_source', 'sewer_system']\n",
    "continuous = [column for column in useful_col if column not in categorical]"
   ]
  },
  {
   "cell_type": "code",
   "execution_count": null,
   "id": "0dbad0b3-2c29-454f-b8f5-696e82b97e75",
   "metadata": {},
   "outputs": [],
   "source": [
    "## 1., 2., 3., 4 ##\n",
    "df_cleaned = helpers.dp.check_and_drop(df)    ## Dropped and removed rows that has small amount of missing values\n",
    "df_cleaned = helpers.dp.outliers_remove(df_cleaned, 'price')    ## Remove outliers of price\n",
    "df_cleaned.drop(labels = useless_col, axis = 1, inplace = True)"
   ]
  },
  {
   "cell_type": "code",
   "execution_count": null,
   "id": "8a7bd147-cd2f-46c7-ab48-5ccb38048917",
   "metadata": {},
   "outputs": [],
   "source": [
    "## 5.\n",
    "df_num, df_obj = helpers.dp.seperate_dataframe(df_cleaned)    ## Seperate the dataframe from objects and integers\n",
    "num_cat = [column for column in df_num if column in categorical]    ## Number categories\n",
    "obj_cat = [column for column in df_obj if column in categorical]    ## Object categories\n",
    "\n",
    "df_num_cat = df_num[num_cat].copy()    ## Dataframe with the number categories\n",
    "df_num_cat = pd.concat([df_num_cat, df_num['price']], axis = 1)\n",
    "\n",
    "df_obj_cat = df_obj[obj_cat].copy()    ## Dataframe with the object categories\n",
    "df_obj_cat = pd.concat([df_obj_cat, df_num['price']], axis = 1)\n",
    "\n",
    "df_num_only = df_num[continuous].copy()    ## Dataframe with only continuous numbers\n",
    "\n",
    "for dataframe in [df_obj_cat, df_num_cat, df_num_only]:    ## For all the seperate dataframes\n",
    "    x_list = [column for column in dataframe.columns if column != 'price']    ## Take the price out due to repetitivity\n",
    "    helpers.dv.plot_dataframe(dataframe, x_list, 'price', size = (15, 20));    ## Helper function to display all the different columns"
   ]
  },
  {
   "cell_type": "code",
   "execution_count": null,
   "id": "cf650db2-ff2e-40a1-a94a-c52ea97f19a0",
   "metadata": {},
   "outputs": [],
   "source": [
    "x_list = [column for column in df_obj_cat.columns if column not in 'price']\n",
    "\n",
    "X_cat = pd.get_dummies(df_obj_cat[x_list], drop_first= True)\n",
    "y = df_cleaned['price']\n",
    "model = sm.OLS(y, sm.add_constant(X_cat))\n",
    "results = model.fit()\n",
    "for column in df_obj_cat.columns:\n",
    "    print(df_obj_cat[column].value_counts())"
   ]
  },
  {
   "cell_type": "code",
   "execution_count": null,
   "id": "d790e6ea-b452-48ed-8c41-d9bba38820de",
   "metadata": {},
   "outputs": [],
   "source": [
    "coeff_pairs = zip(results.pvalues.keys(), results.pvalues.values)\n",
    "index = 0\n",
    "for variable in list(coeff_pairs):\n",
    "    if float(variable[1]) > .05: print(variable)"
   ]
  },
  {
   "cell_type": "code",
   "execution_count": null,
   "id": "26194647-79b4-4fa7-af40-b2fe96f1ac4f",
   "metadata": {},
   "outputs": [],
   "source": [
    "## All categories and the number of times they appear\n",
    "for column in list(df_obj_cat.columns[0:-1]):\n",
    "    replace = df_obj_cat[column].value_counts()[df_obj_cat[column].value_counts()< 300].index\n",
    "    df_obj_cat[column].replace(replace, value= 'other',inplace= True)\n",
    "    print(df_obj_cat[column].value_counts())"
   ]
  },
  {
   "cell_type": "code",
   "execution_count": null,
   "id": "a50ade98-71de-4027-88d8-4a367de837c8",
   "metadata": {},
   "outputs": [],
   "source": [
    "## All categories and the number of times they appear\n",
    "for column in list(df_num_cat.columns[0:-1]):\n",
    "    replace = df_num_cat[column].value_counts()[df_num_cat[column].value_counts()< 300].index\n",
    "    df_num_cat[column].replace(replace, value= 'other',inplace= True)\n",
    "    print(df_num_cat[column].value_counts())"
   ]
  },
  {
   "cell_type": "code",
   "execution_count": null,
   "id": "fc2e6ba7-76d4-40f1-a7c9-d8119a59ccd5",
   "metadata": {},
   "outputs": [],
   "source": [
    "for column in list(df_num_only.columns):\n",
    "    #replace = df_num_cat[column].value_counts()[df_num_cat[column].value_counts()< 300].index\n",
    "    #df_num_cat[column].replace(replace, value= 'other',inplace= True)\n",
    "    print(df_num_only[column].value_counts())"
   ]
  },
  {
   "cell_type": "code",
   "execution_count": null,
   "id": "d79a9b14-d0c0-4ba1-86da-4a4517eefe0d",
   "metadata": {},
   "outputs": [],
   "source": [
    "x_list = [column for column in df_obj_cat.columns if column not in 'price']\n",
    "\n",
    "X_cat = pd.get_dummies(df_obj_cat[x_list], drop_first= True)\n",
    "y = df_cleaned['price']\n",
    "model = sm.OLS(y, sm.add_constant(X_cat))\n",
    "results = model.fit()\n",
    "for column in df_obj_cat.columns:\n",
    "    print(df_obj_cat[column].value_counts())"
   ]
  },
  {
   "cell_type": "code",
   "execution_count": null,
   "id": "fc67bae0-249d-41db-911c-a7630ab9c048",
   "metadata": {},
   "outputs": [],
   "source": [
    "x_list = [index for index in continuous if index != 'price']\n",
    "y = df_cleaned['price']\n",
    "X_num = df_num_only[x_list]\n",
    "\n",
    "model_num = sm.OLS(y, sm.add_constant(X_num))\n",
    "result_num = model_num.fit()\n"
   ]
  },
  {
   "cell_type": "code",
   "execution_count": null,
   "id": "fbb0328a-eb54-4057-85bc-c1de3f4fa370",
   "metadata": {},
   "outputs": [],
   "source": [
    "print(result_num.summary())"
   ]
  },
  {
   "cell_type": "code",
   "execution_count": null,
   "id": "03c65c31-5fc2-4fd5-af2c-1571b027204a",
   "metadata": {},
   "outputs": [],
   "source": [
    "num_cat_x_list = pd.concat([X_num, X_cat], axis= 1)\n",
    "model_combined = sm.OLS(y, sm.add_constant(num_cat_x_list))\n",
    "result_combined = model_combined.fit()\n",
    "result_combined"
   ]
  },
  {
   "cell_type": "code",
   "execution_count": null,
   "id": "b4aee313-af5a-4a7f-87ff-f84c6e52392d",
   "metadata": {},
   "outputs": [],
   "source": [
    "print(result_combined.summary())"
   ]
  },
  {
   "cell_type": "code",
   "execution_count": null,
   "id": "d7ecdacc-6da0-47bd-815f-7ae8bc4aac9d",
   "metadata": {},
   "outputs": [],
   "source": [
    "fig = plt.figure(figsize=(15,30))\n",
    "#sm.graphics.abline_plot(model_results= result_combined, ax = ax );\n",
    "final_plot = sm.graphics.plot_partregress_grid(\n",
    "    result_combined,\n",
    "    exog_idx=list(num_cat_x_list.columns.values),\n",
    "    grid=(9,3),\n",
    "    fig=fig);"
   ]
  },
  {
   "cell_type": "markdown",
   "id": "153ca5e2-489f-4f4c-8369-1d2c78ea538e",
   "metadata": {
    "tags": []
   },
   "source": [
    "### Graphing Object Categories Dataframe\n",
    "**Result** Both having a waterfront and greenbelt showed to be benificial to the price but nuisance was about the same."
   ]
  },
  {
   "cell_type": "code",
   "execution_count": 218,
   "id": "f4474e88-5973-4d22-b10e-e2cbdc793123",
   "metadata": {},
   "outputs": [
    {
     "data": {
      "text/plain": [
       "[980609.02676007, 1169082.020231214]"
      ]
     },
     "execution_count": 218,
     "metadata": {},
     "output_type": "execute_result"
    }
   ],
   "source": [
    "group_waterfront = df_obj_cat[['waterfront', 'greenbelt', 'nuisance', 'price']].groupby('waterfront').mean().values\n",
    "x_group1 = [value[0] for value in group_waterfront.tolist()]\n"
   ]
  },
  {
   "cell_type": "code",
   "execution_count": 106,
   "id": "80e5d601-a336-4dd9-ad70-20b6a63e5ecb",
   "metadata": {},
   "outputs": [],
   "source": [
    "group_greenbelt = df_obj_cat[['waterfront', 'greenbelt', 'nuisance', 'price']].groupby('greenbelt').mean().values\n",
    "x_group2 = [value[0] for value in group_greenbelt.tolist()]"
   ]
  },
  {
   "cell_type": "code",
   "execution_count": 107,
   "id": "8b4c0eb0-a1bb-4260-b47c-302cb8cab049",
   "metadata": {},
   "outputs": [],
   "source": [
    "group_nuisance = df_obj_cat[['waterfront', 'greenbelt', 'nuisance', 'price']].groupby('nuisance').mean().values\n",
    "x_group3 = [value[0] for value in group_nuisance.tolist()]"
   ]
  },
  {
   "cell_type": "code",
   "execution_count": 197,
   "id": "ba8855c4-398d-41ae-b52d-e6b94b5742c6",
   "metadata": {},
   "outputs": [
    {
     "data": {
      "image/png": "[encoded data removed]",
      "text/plain": [
       "<Figure size 640x480 with 1 Axes>"
      ]
     },
     "metadata": {},
     "output_type": "display_data"
    }
   ],
   "source": [
    "r = np.arange(2)\n",
    "width = 2\n",
    "fig, ax = plt.subplots();\n",
    "ax.bar(r, x_group1, label = 'Waterfront');\n",
    "ax.bar(r + width, x_group2, label = 'Greenbelt');\n",
    "ax.bar(r + width*2, x_group3, label = 'Nuisance');\n",
    "plt.legend();\n",
    "plt.ylabel('Mean Price');\n",
    "ticks = np.arange(6)\n",
    "plt.xticks(ticks, ['No','Yes','No','Yes','No','Yes']);\n",
    "ax.set_yticks(np.arange(0,2000000, 500000));\n",
    "y_ticks = np.arange(0,2000000, 500000)\n",
    "y_ticks_str = ['${:,}'.format(y) for y in y_ticks]\n",
    "ax.set_yticklabels(y_ticks_str);\n",
    "plt.title('Categorical Mean Comparison');"
   ]
  },
  {
   "cell_type": "code",
   "execution_count": 231,
   "id": "572111c6-d4ad-4ed0-b963-372d2ee24565",
   "metadata": {},
   "outputs": [
    {
     "data": {
      "text/plain": [
       "604704.8624436983"
      ]
     },
     "execution_count": 231,
     "metadata": {},
     "output_type": "execute_result"
    }
   ],
   "source": [
    "df_obj_cat['price'].loc[df_obj_cat['waterfront'] == 'YES'].std()"
   ]
  },
  {
   "cell_type": "code",
   "execution_count": null,
   "id": "b0620a39-c6ec-4c61-9f05-c1db445f1a00",
   "metadata": {},
   "outputs": [],
   "source": []
  }
 ],
 "metadata": {
  "kernelspec": {
   "display_name": "Python 3 (ipykernel)",
   "language": "python",
   "name": "python3"
  },
  "language_info": {
   "codemirror_mode": {
    "name": "ipython",
    "version": 3
   },
   "file_extension": ".py",
   "mimetype": "text/x-python",
   "name": "python",
   "nbconvert_exporter": "python",
   "pygments_lexer": "ipython3",
   "version": "3.9.13"
  },
  "toc-showcode": true
 },
 "nbformat": 4,
 "nbformat_minor": 5
}
